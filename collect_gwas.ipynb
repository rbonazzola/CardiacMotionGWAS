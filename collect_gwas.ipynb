{
 "cells": [
  {
   "cell_type": "code",
   "execution_count": 1,
   "id": "732dc41e-af33-4a4d-a288-ea4f3d06b4ed",
   "metadata": {},
   "outputs": [
    {
     "ename": "ModuleNotFoundError",
     "evalue": "No module named 'paths'",
     "output_type": "error",
     "traceback": [
      "\u001b[0;31m---------------------------------------------------------------------------\u001b[0m",
      "\u001b[0;31mModuleNotFoundError\u001b[0m                       Traceback (most recent call last)",
      "Input \u001b[0;32mIn [1]\u001b[0m, in \u001b[0;36m<cell line: 5>\u001b[0;34m()\u001b[0m\n\u001b[1;32m      1\u001b[0m \u001b[38;5;28;01mimport\u001b[39;00m \u001b[38;5;21;01mos\u001b[39;00m\u001b[38;5;241m,\u001b[39m \u001b[38;5;21;01msys\u001b[39;00m\n\u001b[1;32m      3\u001b[0m os\u001b[38;5;241m.\u001b[39mchdir(\u001b[38;5;124mf\u001b[39m\u001b[38;5;124m\"\u001b[39m\u001b[38;5;132;01m{\u001b[39;00mos\u001b[38;5;241m.\u001b[39menviron[\u001b[38;5;124m'\u001b[39m\u001b[38;5;124mHOME\u001b[39m\u001b[38;5;124m'\u001b[39m]\u001b[38;5;132;01m}\u001b[39;00m\u001b[38;5;124m/01_repos\u001b[39m\u001b[38;5;124m\"\u001b[39m)\n\u001b[0;32m----> 5\u001b[0m \u001b[38;5;28;01mfrom\u001b[39;00m \u001b[38;5;21;01mpaths\u001b[39;00m \u001b[38;5;28;01mimport\u001b[39;00m Paths\n\u001b[1;32m      7\u001b[0m \u001b[38;5;28;01mfrom\u001b[39;00m \u001b[38;5;21;01measydict\u001b[39;00m \u001b[38;5;28;01mimport\u001b[39;00m EasyDict\n\u001b[1;32m      8\u001b[0m \u001b[38;5;28;01mimport\u001b[39;00m \u001b[38;5;21;01mmatplotlib\u001b[39;00m\u001b[38;5;21;01m.\u001b[39;00m\u001b[38;5;21;01mpyplot\u001b[39;00m \u001b[38;5;28;01mas\u001b[39;00m \u001b[38;5;21;01mplt\u001b[39;00m\n",
      "\u001b[0;31mModuleNotFoundError\u001b[0m: No module named 'paths'"
     ]
    }
   ],
   "source": [
    "import os, sys\n",
    "\n",
    "os.chdir(f\"{os.environ['HOME']}/01_repos\")\n",
    "\n",
    "from paths import Paths\n",
    "\n",
    "from easydict import EasyDict\n",
    "import matplotlib.pyplot as plt\n",
    "import numpy as np\n",
    "import mlflow\n",
    "import ipywidgets as widgets\n",
    "from ipywidgets import interact\n",
    "\n",
    "import numpy as np\n",
    "import seaborn as sns\n",
    "\n",
    "import scipy\n",
    "# scipy.spatial.distance.pdist() # to list possible distance metri"
   ]
  },
  {
   "cell_type": "code",
   "execution_count": 4,
   "id": "51c1af9a-720d-4c53-8cd2-20f613c84099",
   "metadata": {},
   "outputs": [
    {
     "name": "stderr",
     "output_type": "stream",
     "text": [
      "2024-03-02 14:31:34 - INFO - No OpenGL_accelerate module loaded: No module named 'OpenGL_accelerate'\n",
      "2024-03-02 14:31:35 - INFO - Failed to load library ( 'libGLU.so.0' ): libGLU.so.0: cannot open shared object file: No such file or directory\n",
      "2024-03-02 14:31:35 - INFO - Failed to load library ( 'libglut.so.0' ): libglut.so.0: cannot open shared object file: No such file or directory\n",
      "2024-03-02 14:31:35 - INFO - Reading runs from cached file /home/user/01_repos/CardiacMotionGWAS/results/run_info.csv.\n",
      "2024-03-02 14:32:00 - INFO - Found 226 runs. Cached file will be overwritten.\n"
     ]
    }
   ],
   "source": [
    "from CardiacMotionGWAS.helpers import EnsembleResults, fetch_loci_mapping\n",
    "from CardiacMotion.utils.run_helpers import Run, compute_thickness_per_aha"
   ]
  },
  {
   "cell_type": "code",
   "execution_count": 2,
   "id": "acd8d80b-bbcf-4caf-81ce-6c096b658fe4",
   "metadata": {},
   "outputs": [
    {
     "ename": "ModuleNotFoundError",
     "evalue": "No module named 'paths'",
     "output_type": "error",
     "traceback": [
      "\u001b[0;31m---------------------------------------------------------------------------\u001b[0m",
      "\u001b[0;31mModuleNotFoundError\u001b[0m                       Traceback (most recent call last)",
      "Cell \u001b[0;32mIn[2], line 1\u001b[0m\n\u001b[0;32m----> 1\u001b[0m \u001b[38;5;28;01mfrom\u001b[39;00m \u001b[38;5;21;01mpaths\u001b[39;00m \u001b[38;5;28;01mimport\u001b[39;00m Paths\n\u001b[1;32m      3\u001b[0m \u001b[38;5;28;01mimport\u001b[39;00m \u001b[38;5;21;01mos\u001b[39;00m\u001b[38;5;241m,\u001b[39m \u001b[38;5;21;01msys\u001b[39;00m\n\u001b[1;32m      4\u001b[0m \u001b[38;5;28;01mfrom\u001b[39;00m \u001b[38;5;21;01measydict\u001b[39;00m \u001b[38;5;28;01mimport\u001b[39;00m EasyDict\n",
      "\u001b[0;31mModuleNotFoundError\u001b[0m: No module named 'paths'"
     ]
    }
   ],
   "source": [
    "from paths import Paths\n",
    "\n",
    "import os, sys\n",
    "from easydict import EasyDict\n",
    "\n",
    "import matplotlib.pyplot as plt\n",
    "\n",
    "import numpy as np\n",
    "import pandas as pd\n",
    "import seaborn as sns\n",
    "\n",
    "import mlflow\n",
    "\n",
    "import ipywidgets as widgets\n",
    "from ipywidgets import interact\n",
    "\n",
    "from scipy.cluster import hierarchy\n",
    "os.chdir(Paths.Repos.REPOS_ROOT)"
   ]
  },
  {
   "cell_type": "code",
   "execution_count": 2,
   "id": "f5f246dc-504d-4b21-a2f8-f6f909600ac1",
   "metadata": {},
   "outputs": [],
   "source": [
    "from CardiacMotionGWAS.helpers import EnsembleResults"
   ]
  },
  {
   "cell_type": "markdown",
   "id": "9bf3ea2e-b435-4503-807b-889adc5b55f4",
   "metadata": {},
   "source": [
    "___"
   ]
  },
  {
   "cell_type": "markdown",
   "id": "77a783b5-c5d6-435a-8fc0-02743dbb15f9",
   "metadata": {},
   "source": [
    "# Periodic CoMA"
   ]
  },
  {
   "cell_type": "code",
   "execution_count": 3,
   "id": "b8640f36-9705-417d-a03b-b84c156a214c",
   "metadata": {},
   "outputs": [
    {
     "name": "stderr",
     "output_type": "stream",
     "text": [
      "2024-01-31 14:44:53 - INFO - Found 406 files under the folder /mnt/data/workshop/workshop-user1/output/GWAS/All_partitions_spatiotemporal/summaries\n"
     ]
    },
    {
     "data": {
      "application/vnd.jupyter.widget-view+json": {
       "model_id": "b067b747318b4bc8a351d3f92e5ab87b",
       "version_major": 2,
       "version_minor": 0
      },
      "text/plain": [
       "  0%|          | 0/406 [00:00<?, ?it/s]"
      ]
     },
     "metadata": {},
     "output_type": "display_data"
    }
   ],
   "source": [
    "ensemble_results = EnsembleResults(root_dir=f\"{Paths.Data.gwas_results}/All_partitions_spatiotemporal\")\n",
    "relevant_regions = set(ensemble_results.get_lead_snps().region)"
   ]
  },
  {
   "cell_type": "code",
   "execution_count": 24,
   "id": "9ec3c058-b79a-4e12-9c8a-a34a06423f73",
   "metadata": {},
   "outputs": [
    {
     "data": {
      "text/html": [
       "<div>\n",
       "<style scoped>\n",
       "    .dataframe tbody tr th:only-of-type {\n",
       "        vertical-align: middle;\n",
       "    }\n",
       "\n",
       "    .dataframe tbody tr th {\n",
       "        vertical-align: top;\n",
       "    }\n",
       "\n",
       "    .dataframe thead th {\n",
       "        text-align: right;\n",
       "    }\n",
       "</style>\n",
       "<table border=\"1\" class=\"dataframe\">\n",
       "  <thead>\n",
       "    <tr style=\"text-align: right;\">\n",
       "      <th>chamber</th>\n",
       "      <th>AO</th>\n",
       "      <th>BV</th>\n",
       "      <th>LA</th>\n",
       "      <th>LV</th>\n",
       "      <th>RA</th>\n",
       "      <th>RV</th>\n",
       "    </tr>\n",
       "    <tr>\n",
       "      <th>region</th>\n",
       "      <th></th>\n",
       "      <th></th>\n",
       "      <th></th>\n",
       "      <th></th>\n",
       "      <th></th>\n",
       "      <th></th>\n",
       "    </tr>\n",
       "  </thead>\n",
       "  <tbody>\n",
       "    <tr>\n",
       "      <th>chr17_27</th>\n",
       "      <td>2.123244e-21</td>\n",
       "      <td>1.044720e-15</td>\n",
       "      <td>1.803018e-11</td>\n",
       "      <td>4.593038e-10</td>\n",
       "      <td>1.625549e-18</td>\n",
       "      <td>1.073989e-13</td>\n",
       "    </tr>\n",
       "    <tr>\n",
       "      <th>chr12_19</th>\n",
       "      <td>1.227439e-12</td>\n",
       "      <td>1.064143e-11</td>\n",
       "      <td>NaN</td>\n",
       "      <td>3.869902e-08</td>\n",
       "      <td>1.417751e-10</td>\n",
       "      <td>8.912509e-14</td>\n",
       "    </tr>\n",
       "    <tr>\n",
       "      <th>chr17_26</th>\n",
       "      <td>1.250259e-11</td>\n",
       "      <td>2.367009e-08</td>\n",
       "      <td>NaN</td>\n",
       "      <td>NaN</td>\n",
       "      <td>1.532145e-09</td>\n",
       "      <td>NaN</td>\n",
       "    </tr>\n",
       "    <tr>\n",
       "      <th>chr1_11</th>\n",
       "      <td>1.133183e-09</td>\n",
       "      <td>2.818383e-14</td>\n",
       "      <td>NaN</td>\n",
       "      <td>2.018366e-14</td>\n",
       "      <td>NaN</td>\n",
       "      <td>2.060630e-12</td>\n",
       "    </tr>\n",
       "    <tr>\n",
       "      <th>chr3_98</th>\n",
       "      <td>1.179234e-09</td>\n",
       "      <td>1.475707e-11</td>\n",
       "      <td>NaN</td>\n",
       "      <td>3.015782e-10</td>\n",
       "      <td>NaN</td>\n",
       "      <td>8.241381e-12</td>\n",
       "    </tr>\n",
       "    <tr>\n",
       "      <th>chr17_40</th>\n",
       "      <td>1.232253e-09</td>\n",
       "      <td>6.458029e-09</td>\n",
       "      <td>NaN</td>\n",
       "      <td>NaN</td>\n",
       "      <td>4.835039e-08</td>\n",
       "      <td>NaN</td>\n",
       "    </tr>\n",
       "    <tr>\n",
       "      <th>chr6_78</th>\n",
       "      <td>1.779508e-09</td>\n",
       "      <td>8.203515e-27</td>\n",
       "      <td>NaN</td>\n",
       "      <td>2.259436e-26</td>\n",
       "      <td>4.410624e-10</td>\n",
       "      <td>6.194411e-16</td>\n",
       "    </tr>\n",
       "    <tr>\n",
       "      <th>chr10_49</th>\n",
       "      <td>2.031889e-09</td>\n",
       "      <td>NaN</td>\n",
       "      <td>NaN</td>\n",
       "      <td>6.708107e-09</td>\n",
       "      <td>NaN</td>\n",
       "      <td>NaN</td>\n",
       "    </tr>\n",
       "    <tr>\n",
       "      <th>chr13_21</th>\n",
       "      <td>2.539218e-09</td>\n",
       "      <td>NaN</td>\n",
       "      <td>NaN</td>\n",
       "      <td>NaN</td>\n",
       "      <td>NaN</td>\n",
       "      <td>4.029025e-08</td>\n",
       "    </tr>\n",
       "    <tr>\n",
       "      <th>chr12_67</th>\n",
       "      <td>4.517519e-09</td>\n",
       "      <td>8.689604e-17</td>\n",
       "      <td>NaN</td>\n",
       "      <td>4.111497e-11</td>\n",
       "      <td>NaN</td>\n",
       "      <td>2.716439e-15</td>\n",
       "    </tr>\n",
       "    <tr>\n",
       "      <th>chr14_55</th>\n",
       "      <td>5.951138e-09</td>\n",
       "      <td>NaN</td>\n",
       "      <td>NaN</td>\n",
       "      <td>NaN</td>\n",
       "      <td>NaN</td>\n",
       "      <td>NaN</td>\n",
       "    </tr>\n",
       "    <tr>\n",
       "      <th>chr5_83</th>\n",
       "      <td>6.065966e-09</td>\n",
       "      <td>NaN</td>\n",
       "      <td>NaN</td>\n",
       "      <td>NaN</td>\n",
       "      <td>NaN</td>\n",
       "      <td>NaN</td>\n",
       "    </tr>\n",
       "    <tr>\n",
       "      <th>chr11_65</th>\n",
       "      <td>6.740622e-09</td>\n",
       "      <td>NaN</td>\n",
       "      <td>NaN</td>\n",
       "      <td>NaN</td>\n",
       "      <td>NaN</td>\n",
       "      <td>NaN</td>\n",
       "    </tr>\n",
       "    <tr>\n",
       "      <th>chr1_113</th>\n",
       "      <td>9.345445e-09</td>\n",
       "      <td>NaN</td>\n",
       "      <td>NaN</td>\n",
       "      <td>NaN</td>\n",
       "      <td>NaN</td>\n",
       "      <td>NaN</td>\n",
       "    </tr>\n",
       "    <tr>\n",
       "      <th>chr2_108</th>\n",
       "      <td>9.508237e-09</td>\n",
       "      <td>2.523481e-17</td>\n",
       "      <td>2.290868e-14</td>\n",
       "      <td>2.460368e-19</td>\n",
       "      <td>2.398833e-12</td>\n",
       "      <td>1.923092e-12</td>\n",
       "    </tr>\n",
       "    <tr>\n",
       "      <th>chr19_4</th>\n",
       "      <td>1.073001e-08</td>\n",
       "      <td>NaN</td>\n",
       "      <td>NaN</td>\n",
       "      <td>NaN</td>\n",
       "      <td>NaN</td>\n",
       "      <td>NaN</td>\n",
       "    </tr>\n",
       "    <tr>\n",
       "      <th>chr12_40</th>\n",
       "      <td>1.129276e-08</td>\n",
       "      <td>NaN</td>\n",
       "      <td>NaN</td>\n",
       "      <td>3.409573e-09</td>\n",
       "      <td>3.711077e-09</td>\n",
       "      <td>NaN</td>\n",
       "    </tr>\n",
       "    <tr>\n",
       "      <th>chr9_56</th>\n",
       "      <td>1.323427e-08</td>\n",
       "      <td>NaN</td>\n",
       "      <td>NaN</td>\n",
       "      <td>NaN</td>\n",
       "      <td>NaN</td>\n",
       "      <td>NaN</td>\n",
       "    </tr>\n",
       "    <tr>\n",
       "      <th>chr2_26</th>\n",
       "      <td>1.758328e-08</td>\n",
       "      <td>NaN</td>\n",
       "      <td>NaN</td>\n",
       "      <td>4.238381e-08</td>\n",
       "      <td>4.288447e-09</td>\n",
       "      <td>NaN</td>\n",
       "    </tr>\n",
       "    <tr>\n",
       "      <th>chr6_79</th>\n",
       "      <td>1.876290e-08</td>\n",
       "      <td>1.866380e-24</td>\n",
       "      <td>NaN</td>\n",
       "      <td>1.258925e-23</td>\n",
       "      <td>2.141904e-09</td>\n",
       "      <td>4.634469e-15</td>\n",
       "    </tr>\n",
       "    <tr>\n",
       "      <th>chr18_26</th>\n",
       "      <td>2.325948e-08</td>\n",
       "      <td>NaN</td>\n",
       "      <td>NaN</td>\n",
       "      <td>NaN</td>\n",
       "      <td>NaN</td>\n",
       "      <td>NaN</td>\n",
       "    </tr>\n",
       "    <tr>\n",
       "      <th>chr8_65</th>\n",
       "      <td>3.132564e-08</td>\n",
       "      <td>NaN</td>\n",
       "      <td>NaN</td>\n",
       "      <td>NaN</td>\n",
       "      <td>NaN</td>\n",
       "      <td>NaN</td>\n",
       "    </tr>\n",
       "    <tr>\n",
       "      <th>chr20_21</th>\n",
       "      <td>3.688926e-08</td>\n",
       "      <td>4.692454e-08</td>\n",
       "      <td>NaN</td>\n",
       "      <td>NaN</td>\n",
       "      <td>NaN</td>\n",
       "      <td>NaN</td>\n",
       "    </tr>\n",
       "    <tr>\n",
       "      <th>chr8_88</th>\n",
       "      <td>3.701690e-08</td>\n",
       "      <td>NaN</td>\n",
       "      <td>NaN</td>\n",
       "      <td>NaN</td>\n",
       "      <td>NaN</td>\n",
       "      <td>NaN</td>\n",
       "    </tr>\n",
       "    <tr>\n",
       "      <th>chr15_47</th>\n",
       "      <td>3.773115e-08</td>\n",
       "      <td>NaN</td>\n",
       "      <td>NaN</td>\n",
       "      <td>NaN</td>\n",
       "      <td>NaN</td>\n",
       "      <td>NaN</td>\n",
       "    </tr>\n",
       "    <tr>\n",
       "      <th>chr8_44</th>\n",
       "      <td>3.913812e-08</td>\n",
       "      <td>NaN</td>\n",
       "      <td>NaN</td>\n",
       "      <td>NaN</td>\n",
       "      <td>NaN</td>\n",
       "      <td>NaN</td>\n",
       "    </tr>\n",
       "    <tr>\n",
       "      <th>chr17_37</th>\n",
       "      <td>4.147630e-08</td>\n",
       "      <td>NaN</td>\n",
       "      <td>NaN</td>\n",
       "      <td>NaN</td>\n",
       "      <td>1.838654e-08</td>\n",
       "      <td>NaN</td>\n",
       "    </tr>\n",
       "    <tr>\n",
       "      <th>chr14_22</th>\n",
       "      <td>4.184080e-08</td>\n",
       "      <td>NaN</td>\n",
       "      <td>NaN</td>\n",
       "      <td>NaN</td>\n",
       "      <td>NaN</td>\n",
       "      <td>NaN</td>\n",
       "    </tr>\n",
       "    <tr>\n",
       "      <th>chr3_92</th>\n",
       "      <td>4.633402e-08</td>\n",
       "      <td>1.565309e-08</td>\n",
       "      <td>NaN</td>\n",
       "      <td>NaN</td>\n",
       "      <td>NaN</td>\n",
       "      <td>NaN</td>\n",
       "    </tr>\n",
       "    <tr>\n",
       "      <th>chr10_44</th>\n",
       "      <td>NaN</td>\n",
       "      <td>4.715199e-08</td>\n",
       "      <td>NaN</td>\n",
       "      <td>NaN</td>\n",
       "      <td>NaN</td>\n",
       "      <td>NaN</td>\n",
       "    </tr>\n",
       "  </tbody>\n",
       "</table>\n",
       "</div>"
      ],
      "text/plain": [
       "chamber             AO            BV            LA            LV  \\\n",
       "region                                                             \n",
       "chr17_27  2.123244e-21  1.044720e-15  1.803018e-11  4.593038e-10   \n",
       "chr12_19  1.227439e-12  1.064143e-11           NaN  3.869902e-08   \n",
       "chr17_26  1.250259e-11  2.367009e-08           NaN           NaN   \n",
       "chr1_11   1.133183e-09  2.818383e-14           NaN  2.018366e-14   \n",
       "chr3_98   1.179234e-09  1.475707e-11           NaN  3.015782e-10   \n",
       "chr17_40  1.232253e-09  6.458029e-09           NaN           NaN   \n",
       "chr6_78   1.779508e-09  8.203515e-27           NaN  2.259436e-26   \n",
       "chr10_49  2.031889e-09           NaN           NaN  6.708107e-09   \n",
       "chr13_21  2.539218e-09           NaN           NaN           NaN   \n",
       "chr12_67  4.517519e-09  8.689604e-17           NaN  4.111497e-11   \n",
       "chr14_55  5.951138e-09           NaN           NaN           NaN   \n",
       "chr5_83   6.065966e-09           NaN           NaN           NaN   \n",
       "chr11_65  6.740622e-09           NaN           NaN           NaN   \n",
       "chr1_113  9.345445e-09           NaN           NaN           NaN   \n",
       "chr2_108  9.508237e-09  2.523481e-17  2.290868e-14  2.460368e-19   \n",
       "chr19_4   1.073001e-08           NaN           NaN           NaN   \n",
       "chr12_40  1.129276e-08           NaN           NaN  3.409573e-09   \n",
       "chr9_56   1.323427e-08           NaN           NaN           NaN   \n",
       "chr2_26   1.758328e-08           NaN           NaN  4.238381e-08   \n",
       "chr6_79   1.876290e-08  1.866380e-24           NaN  1.258925e-23   \n",
       "chr18_26  2.325948e-08           NaN           NaN           NaN   \n",
       "chr8_65   3.132564e-08           NaN           NaN           NaN   \n",
       "chr20_21  3.688926e-08  4.692454e-08           NaN           NaN   \n",
       "chr8_88   3.701690e-08           NaN           NaN           NaN   \n",
       "chr15_47  3.773115e-08           NaN           NaN           NaN   \n",
       "chr8_44   3.913812e-08           NaN           NaN           NaN   \n",
       "chr17_37  4.147630e-08           NaN           NaN           NaN   \n",
       "chr14_22  4.184080e-08           NaN           NaN           NaN   \n",
       "chr3_92   4.633402e-08  1.565309e-08           NaN           NaN   \n",
       "chr10_44           NaN  4.715199e-08           NaN           NaN   \n",
       "\n",
       "chamber             RA            RV  \n",
       "region                                \n",
       "chr17_27  1.625549e-18  1.073989e-13  \n",
       "chr12_19  1.417751e-10  8.912509e-14  \n",
       "chr17_26  1.532145e-09           NaN  \n",
       "chr1_11            NaN  2.060630e-12  \n",
       "chr3_98            NaN  8.241381e-12  \n",
       "chr17_40  4.835039e-08           NaN  \n",
       "chr6_78   4.410624e-10  6.194411e-16  \n",
       "chr10_49           NaN           NaN  \n",
       "chr13_21           NaN  4.029025e-08  \n",
       "chr12_67           NaN  2.716439e-15  \n",
       "chr14_55           NaN           NaN  \n",
       "chr5_83            NaN           NaN  \n",
       "chr11_65           NaN           NaN  \n",
       "chr1_113           NaN           NaN  \n",
       "chr2_108  2.398833e-12  1.923092e-12  \n",
       "chr19_4            NaN           NaN  \n",
       "chr12_40  3.711077e-09           NaN  \n",
       "chr9_56            NaN           NaN  \n",
       "chr2_26   4.288447e-09           NaN  \n",
       "chr6_79   2.141904e-09  4.634469e-15  \n",
       "chr18_26           NaN           NaN  \n",
       "chr8_65            NaN           NaN  \n",
       "chr20_21           NaN           NaN  \n",
       "chr8_88            NaN           NaN  \n",
       "chr15_47           NaN           NaN  \n",
       "chr8_44            NaN           NaN  \n",
       "chr17_37  1.838654e-08           NaN  \n",
       "chr14_22           NaN           NaN  \n",
       "chr3_92            NaN           NaN  \n",
       "chr10_44           NaN           NaN  "
      ]
     },
     "execution_count": 24,
     "metadata": {},
     "output_type": "execute_result"
    }
   ],
   "source": [
    "ensemble_results.loci_summary(only_static=True, per_chamber=True).\\\n",
    "reset_index().groupby([\"region\", \"chamber\"]).min(\"min_P\").\\\n",
    "reset_index().pivot(index=\"region\", columns=\"chamber\", values=\"min_P\").\\\n",
    "sort_values(\"AO\", ascending=True).head(30)"
   ]
  },
  {
   "cell_type": "markdown",
   "id": "a607d0fb-19a6-40b2-83aa-8b2ca3866cde",
   "metadata": {},
   "source": [
    "___"
   ]
  },
  {
   "cell_type": "markdown",
   "id": "d0faa038-e0ad-4568-bc7b-aae66ac6eb0d",
   "metadata": {},
   "source": [
    "# Cardiac volume-derived indices"
   ]
  },
  {
   "cell_type": "code",
   "execution_count": 6,
   "id": "34d2c70f-0f56-473f-b033-21560a92ecb1",
   "metadata": {},
   "outputs": [
    {
     "name": "stderr",
     "output_type": "stream",
     "text": [
      "2024-01-31 14:44:57 - INFO - Found 10 files under the folder /mnt/data/workshop/workshop-user1/output/GWAS/cardiac_indices_ed_and_es/summaries\n"
     ]
    },
    {
     "data": {
      "application/vnd.jupyter.widget-view+json": {
       "model_id": "d79505a4a2d6452fabe5287c66617e43",
       "version_major": 2,
       "version_minor": 0
      },
      "text/plain": [
       "  0%|          | 0/10 [00:00<?, ?it/s]"
      ]
     },
     "metadata": {},
     "output_type": "display_data"
    }
   ],
   "source": [
    "volind_results = EnsembleResults(root_dir=f\"{Paths.Data.gwas_results}/cardiac_indices_ed_and_es\")\n",
    "volind_results = volind_results.region_assocs_df[volind_results.region_assocs_df.region.apply(lambda x: x in relevant_regions)]\n",
    "volind_log10p_df = (-np.log10(volind_results.pivot(index=\"region\", values=\"P\", columns=\"pheno\")))\n",
    "\n",
    "VOLIND_FILE = \"/home/user/01_repos/CardiacMotionGWAS/results/log10p_cardiac_indices_ed_and_es.csv\"\n",
    "volind_log10p_df.to_csv(VOLIND_FILE)"
   ]
  },
  {
   "cell_type": "markdown",
   "id": "59d7a669-08d0-4ce2-90d4-a0005e856ae9",
   "metadata": {},
   "source": [
    "___"
   ]
  },
  {
   "cell_type": "markdown",
   "id": "b6a91763-0450-447c-8684-4330e5c39548",
   "metadata": {},
   "source": [
    "# Absolute and relative wall thickening"
   ]
  },
  {
   "cell_type": "code",
   "execution_count": 5,
   "id": "25e979e8-34f4-4f74-993f-857cce0d7045",
   "metadata": {},
   "outputs": [
    {
     "name": "stderr",
     "output_type": "stream",
     "text": [
      "2024-03-02 14:32:02 - INFO - File /mnt/data/workshop/workshop-user1/output/GWAS/LVWT/region_assocs_df.pkl does not exist. Results will be cached.\n",
      "2024-03-02 14:32:02 - INFO - Found 102 files under the folder /mnt/data/workshop/workshop-user1/output/GWAS/LVWT/summaries\n",
      " 21%|██████████████████████████▉                                                                                                        | 21/102 [00:00<00:00, 199.18it/s]\n"
     ]
    },
    {
     "ename": "KeyError",
     "evalue": "'rel'",
     "output_type": "error",
     "traceback": [
      "\u001b[0;31m---------------------------------------------------------------------------\u001b[0m",
      "\u001b[0;31mKeyError\u001b[0m                                  Traceback (most recent call last)",
      "Cell \u001b[0;32mIn[5], line 1\u001b[0m\n\u001b[0;32m----> 1\u001b[0m lvwt_results \u001b[38;5;241m=\u001b[39m \u001b[43mEnsembleResults\u001b[49m\u001b[43m(\u001b[49m\u001b[43mroot_dir\u001b[49m\u001b[38;5;241;43m=\u001b[39;49m\u001b[38;5;124;43mf\u001b[39;49m\u001b[38;5;124;43m\"\u001b[39;49m\u001b[38;5;132;43;01m{\u001b[39;49;00m\u001b[43mPaths\u001b[49m\u001b[38;5;241;43m.\u001b[39;49m\u001b[43mData\u001b[49m\u001b[38;5;241;43m.\u001b[39;49m\u001b[43mgwas_results\u001b[49m\u001b[38;5;132;43;01m}\u001b[39;49;00m\u001b[38;5;124;43m/LVWT\u001b[39;49m\u001b[38;5;124;43m\"\u001b[39;49m\u001b[43m)\u001b[49m\n\u001b[1;32m      2\u001b[0m lvwt_results_df \u001b[38;5;241m=\u001b[39m abs_thickening_results\u001b[38;5;241m.\u001b[39mregion_assocs_df[lvwt_results_df\u001b[38;5;241m.\u001b[39mregion_assocs_df\u001b[38;5;241m.\u001b[39mregion\u001b[38;5;241m.\u001b[39mapply(\u001b[38;5;28;01mlambda\u001b[39;00m x: x \u001b[38;5;129;01min\u001b[39;00m relevant_regions)]\n\u001b[1;32m      3\u001b[0m lvwt_log10p_df \u001b[38;5;241m=\u001b[39m (\u001b[38;5;241m-\u001b[39mnp\u001b[38;5;241m.\u001b[39mlog10(lvwt_results_df\u001b[38;5;241m.\u001b[39mpivot(index\u001b[38;5;241m=\u001b[39m\u001b[38;5;124m\"\u001b[39m\u001b[38;5;124mregion\u001b[39m\u001b[38;5;124m\"\u001b[39m, values\u001b[38;5;241m=\u001b[39m\u001b[38;5;124m\"\u001b[39m\u001b[38;5;124mP\u001b[39m\u001b[38;5;124m\"\u001b[39m, columns\u001b[38;5;241m=\u001b[39m\u001b[38;5;124m\"\u001b[39m\u001b[38;5;124mpheno\u001b[39m\u001b[38;5;124m\"\u001b[39m)))\n",
      "File \u001b[0;32m~/01_repos/CardiacMotionGWAS/helpers.py:96\u001b[0m, in \u001b[0;36mEnsembleResults.__init__\u001b[0;34m(self, root_dir, expid, top_n_runs_per_chamber, from_cached, cache)\u001b[0m\n\u001b[1;32m     93\u001b[0m \u001b[38;5;28mself\u001b[39m\u001b[38;5;241m.\u001b[39m_top_n_runs_per_chamber \u001b[38;5;241m=\u001b[39m top_n_runs_per_chamber\n\u001b[1;32m     95\u001b[0m \u001b[38;5;66;03m# self.expid = expid\u001b[39;00m\n\u001b[0;32m---> 96\u001b[0m \u001b[38;5;28;43mself\u001b[39;49m\u001b[38;5;241;43m.\u001b[39;49m\u001b[43m_collect_summaries\u001b[49m\u001b[43m(\u001b[49m\u001b[43mfrom_cached\u001b[49m\u001b[38;5;241;43m=\u001b[39;49m\u001b[43mfrom_cached\u001b[49m\u001b[43m,\u001b[49m\u001b[43m \u001b[49m\u001b[43mcache\u001b[49m\u001b[38;5;241;43m=\u001b[39;49m\u001b[43mcache\u001b[49m\u001b[43m)\u001b[49m\n\u001b[1;32m     97\u001b[0m \u001b[38;5;28mself\u001b[39m\u001b[38;5;241m.\u001b[39mloci_mapping_df \u001b[38;5;241m=\u001b[39m fetch_loci_mapping()\n\u001b[1;32m     99\u001b[0m \u001b[38;5;28mself\u001b[39m\u001b[38;5;241m.\u001b[39m_valid_regions \u001b[38;5;241m=\u001b[39m \u001b[38;5;28mself\u001b[39m\u001b[38;5;241m.\u001b[39mloci_mapping_df\u001b[38;5;241m.\u001b[39mindex[\u001b[38;5;28mself\u001b[39m\u001b[38;5;241m.\u001b[39mloci_mapping_df[\u001b[38;5;124m\"\u001b[39m\u001b[38;5;124mduplicated\u001b[39m\u001b[38;5;124m\"\u001b[39m]\u001b[38;5;241m.\u001b[39misnull()]\n",
      "File \u001b[0;32m~/01_repos/CardiacMotionGWAS/helpers.py:158\u001b[0m, in \u001b[0;36mEnsembleResults._collect_summaries\u001b[0;34m(self, from_cached, cache)\u001b[0m\n\u001b[1;32m    156\u001b[0m \u001b[38;5;28;01melse\u001b[39;00m:                \n\u001b[1;32m    157\u001b[0m     run_id, pheno \u001b[38;5;241m=\u001b[39m pheno\u001b[38;5;241m.\u001b[39msplit(\u001b[38;5;124m\"\u001b[39m\u001b[38;5;124m_\u001b[39m\u001b[38;5;124m\"\u001b[39m)[\u001b[38;5;241m0\u001b[39m], \u001b[38;5;124m\"\u001b[39m\u001b[38;5;124m_\u001b[39m\u001b[38;5;124m\"\u001b[39m\u001b[38;5;241m.\u001b[39mjoin(pheno\u001b[38;5;241m.\u001b[39msplit(\u001b[38;5;124m\"\u001b[39m\u001b[38;5;124m_\u001b[39m\u001b[38;5;124m\"\u001b[39m)[\u001b[38;5;241m1\u001b[39m:])\n\u001b[0;32m--> 158\u001b[0m     chamber \u001b[38;5;241m=\u001b[39m \u001b[43mrun_to_chamber_dict\u001b[49m\u001b[43m[\u001b[49m\u001b[43mrun_id\u001b[49m\u001b[43m]\u001b[49m\n\u001b[1;32m    159\u001b[0m     logging\u001b[38;5;241m.\u001b[39mdebug(\u001b[38;5;124mf\u001b[39m\u001b[38;5;124m\"\u001b[39m\u001b[38;5;124mRun: \u001b[39m\u001b[38;5;132;01m{\u001b[39;00mrun_id\u001b[38;5;132;01m}\u001b[39;00m\u001b[38;5;124m / phenotype: \u001b[39m\u001b[38;5;132;01m{\u001b[39;00mpheno\u001b[38;5;132;01m}\u001b[39;00m\u001b[38;5;124m\"\u001b[39m)\n\u001b[1;32m    160\u001b[0m     zvar_gwas_assocs\u001b[38;5;241m.\u001b[39mappend(pd\u001b[38;5;241m.\u001b[39mread_csv(file)\u001b[38;5;241m.\u001b[39massign(run\u001b[38;5;241m=\u001b[39mrun_id, pheno\u001b[38;5;241m=\u001b[39mpheno, chamber\u001b[38;5;241m=\u001b[39mchamber))\n",
      "\u001b[0;31mKeyError\u001b[0m: 'rel'"
     ]
    }
   ],
   "source": [
    "lvwt_results = EnsembleResults(root_dir=f\"{Paths.Data.gwas_results}/LVWT\")\n",
    "lvwt_results_df = abs_thickening_results.region_assocs_df[lvwt_results_df.region_assocs_df.region.apply(lambda x: x in relevant_regions)]\n",
    "lvwt_log10p_df = (-np.log10(lvwt_results_df.pivot(index=\"region\", values=\"P\", columns=\"pheno\")))\n",
    "\n",
    "# REL_THICKENING_FILE = \"/home/user/01_repos/CardiacMotionGWAS/results/log10p_rel_thickening.csv\"\n",
    "# ABS_THICKENING_FILE = \"/home/user/01_repos/CardiacMotionGWAS/results/log10p_abs_thickening.csv\"\n",
    "\n",
    "# best_logp_thickening_df = pd.merge(\n",
    "#     pd.DataFrame(abs_wt_log10p_df.max(axis=1)), \n",
    "#     pd.DataFrame(rel_wt_log10p_df.max(axis=1)), \n",
    "#     left_index=True, right_index=True\n",
    "# ).rename({\"0_x\": \"abs_wall_thickening\", \"0_y\": \"rel_wall_thickening\"}, axis=1)\n",
    "# \n",
    "# best_logp_thickening_df.to_csv(f\"{Paths.Repos.CARDIAC_MOTION_GWAS}/results/log10p_wall_thickening\")"
   ]
  },
  {
   "cell_type": "code",
   "execution_count": 7,
   "id": "00477bde-84a2-4c12-9172-fd3af8b45f27",
   "metadata": {},
   "outputs": [
    {
     "name": "stderr",
     "output_type": "stream",
     "text": [
      "2024-01-31 14:44:59 - INFO - Found 17 files under the folder /mnt/data/workshop/workshop-user1/output/GWAS/absolute_wall_thickening/summaries\n"
     ]
    },
    {
     "data": {
      "application/vnd.jupyter.widget-view+json": {
       "model_id": "808ccee3b1754af39aa9c79d2be57a95",
       "version_major": 2,
       "version_minor": 0
      },
      "text/plain": [
       "  0%|          | 0/17 [00:00<?, ?it/s]"
      ]
     },
     "metadata": {},
     "output_type": "display_data"
    },
    {
     "name": "stderr",
     "output_type": "stream",
     "text": [
      "2024-01-31 14:45:00 - INFO - Found 17 files under the folder /mnt/data/workshop/workshop-user1/output/GWAS/relative_wall_thickening/summaries\n"
     ]
    },
    {
     "data": {
      "application/vnd.jupyter.widget-view+json": {
       "model_id": "b2ee0265d8e2469ea836c6a99dcc8aa3",
       "version_major": 2,
       "version_minor": 0
      },
      "text/plain": [
       "  0%|          | 0/17 [00:00<?, ?it/s]"
      ]
     },
     "metadata": {},
     "output_type": "display_data"
    }
   ],
   "source": [
    "abs_thickening_results = EnsembleResults(root_dir=f\"{Paths.Data.gwas_results}/absolute_wall_thickening\")\n",
    "abs_thickening_results = abs_thickening_results.region_assocs_df[abs_thickening_results.region_assocs_df.region.apply(lambda x: x in relevant_regions)]\n",
    "abs_wt_log10p_df = (-np.log10(abs_thickening_results.pivot(index=\"region\", values=\"P\", columns=\"pheno\")))\n",
    "\n",
    "rel_thickening_results = EnsembleResults(root_dir=f\"{Paths.Data.gwas_results}/relative_wall_thickening\")\n",
    "rel_thickening_results = rel_thickening_results.region_assocs_df[rel_thickening_results.region_assocs_df.region.apply(lambda x: x in relevant_regions)]\n",
    "rel_wt_log10p_df = (-np.log10(rel_thickening_results.pivot(index=\"region\", values=\"P\", columns=\"pheno\")))\n",
    "\n",
    "REL_THICKENING_FILE = \"/home/user/01_repos/CardiacMotionGWAS/results/log10p_rel_thickening.csv\"\n",
    "ABS_THICKENING_FILE = \"/home/user/01_repos/CardiacMotionGWAS/results/log10p_abs_thickening.csv\"\n",
    "\n",
    "best_logp_thickening_df = pd.merge(\n",
    "    pd.DataFrame(abs_wt_log10p_df.max(axis=1)), \n",
    "    pd.DataFrame(rel_wt_log10p_df.max(axis=1)), \n",
    "    left_index=True, right_index=True\n",
    ").rename({\"0_x\": \"abs_wall_thickening\", \"0_y\": \"rel_wall_thickening\"}, axis=1)\n",
    "\n",
    "best_logp_thickening_df.to_csv(f\"{Paths.Repos.CARDIAC_MOTION_GWAS}/results/log10p_wall_thickening\")"
   ]
  },
  {
   "cell_type": "markdown",
   "id": "140ed2b8-3a6e-4a97-8381-1d35a0cd692d",
   "metadata": {},
   "source": [
    "___"
   ]
  },
  {
   "cell_type": "markdown",
   "id": "8dcbb41a-1cb3-43e5-a898-8e6aac5b7809",
   "metadata": {},
   "source": [
    "# FWHM and end-systole timeframe"
   ]
  },
  {
   "cell_type": "code",
   "execution_count": 8,
   "id": "329122ec-c757-4407-b876-a929a0bd3780",
   "metadata": {},
   "outputs": [
    {
     "name": "stderr",
     "output_type": "stream",
     "text": [
      "2024-01-31 14:45:01 - INFO - Found 2 files under the folder /mnt/data/workshop/workshop-user1/output/GWAS/LVV_times/summaries\n"
     ]
    },
    {
     "data": {
      "application/vnd.jupyter.widget-view+json": {
       "model_id": "149c8ed76305406e82289d78d4d635cc",
       "version_major": 2,
       "version_minor": 0
      },
      "text/plain": [
       "  0%|          | 0/2 [00:00<?, ?it/s]"
      ]
     },
     "metadata": {},
     "output_type": "display_data"
    },
    {
     "ename": "UnboundLocalError",
     "evalue": "local variable 'chamber' referenced before assignment",
     "output_type": "error",
     "traceback": [
      "\u001b[0;31m---------------------------------------------------------------------------\u001b[0m",
      "\u001b[0;31mUnboundLocalError\u001b[0m                         Traceback (most recent call last)",
      "Cell \u001b[0;32mIn[8], line 1\u001b[0m\n\u001b[0;32m----> 1\u001b[0m LVV_times_results \u001b[38;5;241m=\u001b[39m \u001b[43mEnsembleResults\u001b[49m\u001b[43m(\u001b[49m\u001b[43mroot_dir\u001b[49m\u001b[38;5;241;43m=\u001b[39;49m\u001b[38;5;124;43mf\u001b[39;49m\u001b[38;5;124;43m\"\u001b[39;49m\u001b[38;5;132;43;01m{\u001b[39;49;00m\u001b[43mPaths\u001b[49m\u001b[38;5;241;43m.\u001b[39;49m\u001b[43mData\u001b[49m\u001b[38;5;241;43m.\u001b[39;49m\u001b[43mgwas_results\u001b[49m\u001b[38;5;132;43;01m}\u001b[39;49;00m\u001b[38;5;124;43m/LVV_times\u001b[39;49m\u001b[38;5;124;43m\"\u001b[39;49m\u001b[43m)\u001b[49m\n",
      "File \u001b[0;32m~/01_repos/CardiacMotionGWAS/helpers.py:91\u001b[0m, in \u001b[0;36mEnsembleResults.__init__\u001b[0;34m(self, root_dir, expid)\u001b[0m\n\u001b[1;32m     87\u001b[0m \u001b[38;5;28mself\u001b[39m\u001b[38;5;241m.\u001b[39m_rootdir \u001b[38;5;241m=\u001b[39m root_dir        \n\u001b[1;32m     89\u001b[0m \u001b[38;5;66;03m# self._summary_file = f\"{CARDIAC_MOTION_GWAS_REPO}/results/gwas_loci_summary_across_runs.csv\"\u001b[39;00m\n\u001b[1;32m     90\u001b[0m \u001b[38;5;66;03m# self.expid = expid\u001b[39;00m\n\u001b[0;32m---> 91\u001b[0m \u001b[38;5;28;43mself\u001b[39;49m\u001b[38;5;241;43m.\u001b[39;49m\u001b[43m_collect_summaries\u001b[49m\u001b[43m(\u001b[49m\u001b[43m)\u001b[49m\n\u001b[1;32m     92\u001b[0m \u001b[38;5;28mself\u001b[39m\u001b[38;5;241m.\u001b[39mloci_mapping_df \u001b[38;5;241m=\u001b[39m fetch_loci_mapping()\n",
      "File \u001b[0;32m~/01_repos/CardiacMotionGWAS/helpers.py:129\u001b[0m, in \u001b[0;36mEnsembleResults._collect_summaries\u001b[0;34m(self)\u001b[0m\n\u001b[1;32m    127\u001b[0m       \u001b[38;5;28;01mif\u001b[39;00m possible_chamber \u001b[38;5;129;01min\u001b[39;00m pheno:\n\u001b[1;32m    128\u001b[0m           chamber \u001b[38;5;241m=\u001b[39m possible_chamber\n\u001b[0;32m--> 129\u001b[0m     zvar_gwas_assocs\u001b[38;5;241m.\u001b[39mappend(pd\u001b[38;5;241m.\u001b[39mread_csv(file)\u001b[38;5;241m.\u001b[39massign(pheno\u001b[38;5;241m=\u001b[39mpheno, chamber\u001b[38;5;241m=\u001b[39m\u001b[43mchamber\u001b[49m))\n\u001b[1;32m    131\u001b[0m \u001b[38;5;28;01melse\u001b[39;00m:\n\u001b[1;32m    132\u001b[0m     run_id, pheno \u001b[38;5;241m=\u001b[39m pheno\u001b[38;5;241m.\u001b[39msplit(\u001b[38;5;124m\"\u001b[39m\u001b[38;5;124m_\u001b[39m\u001b[38;5;124m\"\u001b[39m)[\u001b[38;5;241m0\u001b[39m], \u001b[38;5;124m\"\u001b[39m\u001b[38;5;124m_\u001b[39m\u001b[38;5;124m\"\u001b[39m\u001b[38;5;241m.\u001b[39mjoin(pheno\u001b[38;5;241m.\u001b[39msplit(\u001b[38;5;124m\"\u001b[39m\u001b[38;5;124m_\u001b[39m\u001b[38;5;124m\"\u001b[39m)[\u001b[38;5;241m1\u001b[39m:])\n",
      "\u001b[0;31mUnboundLocalError\u001b[0m: local variable 'chamber' referenced before assignment"
     ]
    }
   ],
   "source": [
    "LVV_times_results = EnsembleResults(root_dir=f\"{Paths.Data.gwas_results}/LVV_times\")"
   ]
  },
  {
   "cell_type": "code",
   "execution_count": null,
   "id": "f21cd06b-defb-4a43-ab84-e33bdd2cd44d",
   "metadata": {},
   "outputs": [],
   "source": [
    "LVV_times_results = LVV_times_results.region_assocs_df[LVV_times_results.region_assocs_df.region.apply(lambda x: x in relevant_regions)]\n",
    "lvv_times_log10p_df = (-np.log10(LVV_times_results.pivot(index=\"region\", values=\"P\", columns=\"pheno\")))"
   ]
  },
  {
   "cell_type": "code",
   "execution_count": null,
   "id": "505db81e-2ac2-4be0-b4b6-e0781a314a5f",
   "metadata": {
    "tags": []
   },
   "outputs": [],
   "source": [
    "lvv_times_log10p_df = lvv_times_log10p_df.rename({\"FWHM\": \"LV_FWHM\", \"midpoint\": \"LVV_minimum_tf\"}, axis=1)"
   ]
  },
  {
   "cell_type": "markdown",
   "id": "48bb4ee2-86cb-4372-84f2-a33b67315b4b",
   "metadata": {},
   "source": [
    "___"
   ]
  },
  {
   "cell_type": "markdown",
   "id": "f6d52438-82db-4da8-bf89-b5a037744c98",
   "metadata": {},
   "source": [
    "# Concatenate GWAS results for all phenotypes"
   ]
  },
  {
   "cell_type": "code",
   "execution_count": null,
   "id": "2808ce16-48be-4c13-b2a9-c93704175558",
   "metadata": {},
   "outputs": [],
   "source": [
    "pd.concat([volind_log10p_df, best_p_thickening_df, lvv_times_log10p_df], axis=1).to_csv(\n",
    "    f\"{Paths.Repos.CARDIAC_MOTION_GWAS}/results/all_handcrafted_log10p.csv\"\n",
    ")"
   ]
  },
  {
   "cell_type": "markdown",
   "id": "0bc2a472-de45-4daa-8b7a-677a379cb6ce",
   "metadata": {},
   "source": [
    "___"
   ]
  },
  {
   "cell_type": "markdown",
   "id": "7568eb2e-d4d3-4574-b54f-9010e58eb8b7",
   "metadata": {},
   "source": [
    "# Collect fPCA GWAS results"
   ]
  },
  {
   "cell_type": "code",
   "execution_count": null,
   "id": "33cf4370-37c7-442c-892d-282a809bf31d",
   "metadata": {},
   "outputs": [],
   "source": [
    "fPCA_results = EnsembleResults(root_dir=f\"{Paths.Data.gwas_results}/functional_PCs\")"
   ]
  },
  {
   "cell_type": "code",
   "execution_count": null,
   "id": "b6375785-f2b4-4416-8467-0d2787260209",
   "metadata": {},
   "outputs": [],
   "source": [
    "fPCA_results = fPCA_results.region_assocs_df[fPCA_results.region_assocs_df.region.apply(lambda x: x in relevant_regions)]"
   ]
  },
  {
   "cell_type": "code",
   "execution_count": null,
   "id": "c2d7eab5-bcfb-4093-993d-34abf939ec18",
   "metadata": {},
   "outputs": [],
   "source": [
    "fPCA_log10p_df = (-np.log10(fPCA_results.pivot(index=\"region\", values=\"P\", columns=\"pheno\")))"
   ]
  },
  {
   "cell_type": "code",
   "execution_count": null,
   "id": "aecb07c5-91d1-4e80-9418-65dec69c5e47",
   "metadata": {},
   "outputs": [],
   "source": [
    "fPCA_log10p_df.to_csv(f\"{Paths.Repos.CARDIAC_MOTION_GWAS}/results/fpca_log10p.csv\")"
   ]
  }
 ],
 "metadata": {
  "kernelspec": {
   "display_name": "Python 3 (ipykernel)",
   "language": "python",
   "name": "python3"
  },
  "language_info": {
   "codemirror_mode": {
    "name": "ipython",
    "version": 3
   },
   "file_extension": ".py",
   "mimetype": "text/x-python",
   "name": "python",
   "nbconvert_exporter": "python",
   "pygments_lexer": "ipython3",
   "version": "3.9.12"
  }
 },
 "nbformat": 4,
 "nbformat_minor": 5
}
