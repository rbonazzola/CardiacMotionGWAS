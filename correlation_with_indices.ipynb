{
 "cells": [
  {
   "cell_type": "code",
   "execution_count": 1,
   "id": "23a4c169-fdbf-4fd8-a03d-e5618d41664b",
   "metadata": {},
   "outputs": [],
   "source": [
    "abs_wt = \"/home/user/01_repos/CardiacMotionGWAS/data/absolute_wall_thickening.csv\"\n",
    "rel_wt = \"/home/user/01_repos/CardiacMotionGWAS/data/relative_wall_thickening.csv\"\n",
    "volind = \"/home/user/01_repos/CardiacMotionGWAS/data/cardiac_indices_ed_and_es.csv\"\n",
    "lvv_times = \"/home/user/01_repos/CardiacMotionGWAS/data/LVV_FWHM.csv\""
   ]
  },
  {
   "cell_type": "code",
   "execution_count": 2,
   "id": "3b4fb4c7-5590-4d19-a1e3-fc52801d6f60",
   "metadata": {},
   "outputs": [
    {
     "data": {
      "text/plain": [
       "'/home/user/01_repos/CardiacMotionGWAS/data/absolute_wall_thickening.csv'"
      ]
     },
     "execution_count": 2,
     "metadata": {},
     "output_type": "execute_result"
    }
   ],
   "source": [
    "abs_wt"
   ]
  }
 ],
 "metadata": {
  "kernelspec": {
   "display_name": "Python 3 (ipykernel)",
   "language": "python",
   "name": "python3"
  },
  "language_info": {
   "codemirror_mode": {
    "name": "ipython",
    "version": 3
   },
   "file_extension": ".py",
   "mimetype": "text/x-python",
   "name": "python",
   "nbconvert_exporter": "python",
   "pygments_lexer": "ipython3",
   "version": "3.9.16"
  }
 },
 "nbformat": 4,
 "nbformat_minor": 5
}
