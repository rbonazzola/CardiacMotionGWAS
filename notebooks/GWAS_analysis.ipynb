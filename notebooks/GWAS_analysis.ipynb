{
 "cells": [
  {
   "cell_type": "code",
   "execution_count": null,
   "id": "0",
   "metadata": {},
   "outputs": [],
   "source": [
    "import os\n",
    "\n",
    "import ipywidgets as widgets\n",
    "from ipywidgets import interact\n",
    "\n",
    "import numpy as np\n",
    "import pandas as pd\n",
    "from IPython import embed\n",
    "\n",
    "import matplotlib.pyplot as plt\n",
    "import seaborn as sns\n",
    "\n",
    "import cardiac_motion\n",
    "\n",
    "from cardiac_motion.utils.mlflow_read_helpers import *\n",
    "import cardiac_motion_upe\n",
    "\n",
    "from cardiac_motion_upe import (\n",
    "    EnsembleGWASResults, \n",
    "    BASE_DIR,\n",
    "    GWAS_RESULTS_DIR\n",
    ")"
   ]
  },
  {
   "cell_type": "markdown",
   "id": "1",
   "metadata": {},
   "source": [
    "___"
   ]
  },
  {
   "cell_type": "markdown",
   "id": "2",
   "metadata": {},
   "source": [
    "Collect the region-wise summaries"
   ]
  },
  {
   "cell_type": "code",
   "execution_count": null,
   "id": "3",
   "metadata": {},
   "outputs": [],
   "source": [
    "gwas_dir = f\"{GWAS_RESULTS_DIR}/Unsupervised_spatiotemporal\"\n",
    "results = EnsembleGWASResults(gwas_dir)\n",
    "# chambers = ['LV', 'RV', 'BV']\n",
    "results.filter_results(\"static_representative == 'temporal_mean' and is_variational == False\")\n",
    "results.keep_top_n_per_chamber(5, inplace=True)"
   ]
  },
  {
   "cell_type": "markdown",
   "id": "4",
   "metadata": {},
   "source": [
    "___"
   ]
  },
  {
   "cell_type": "code",
   "execution_count": null,
   "id": "5",
   "metadata": {},
   "outputs": [],
   "source": [
    "# display( results.region_assocs_df['params.dataset_static_representative'].value_counts().to_frame() )\n",
    "# display( results.region_assocs_df.chamber.value_counts().to_frame() )\n",
    "# display( results.loci_count(attributes=['chamber']) )"
   ]
  },
  {
   "cell_type": "code",
   "execution_count": null,
   "id": "6",
   "metadata": {},
   "outputs": [],
   "source": [
    "results.region_assocs_df.loc[~results.region_assocs_df.sort_values(\"SNP\").duplicated(\"SNP\")]"
   ]
  },
  {
   "cell_type": "code",
   "execution_count": null,
   "id": "7",
   "metadata": {},
   "outputs": [],
   "source": [
    "import ipywidgets as widgets"
   ]
  },
  {
   "cell_type": "code",
   "execution_count": null,
   "id": "8",
   "metadata": {},
   "outputs": [],
   "source": [
    "@interact\n",
    "def show_results_chamber(chamber=widgets.Select(options=EnsembleGWASResults.possible_chambers), variable_type=widgets.Select(options=['static', 'dynamic'])):\n",
    "    \n",
    "    df = ( results.\n",
    "        summarize_loci_hits(extra_columns=[\"chamber\"], collapse_attributes=[\"run\"]).\n",
    "        query(\"chamber == @chamber and variable_type == @variable_type\").\n",
    "        sort_values(\"min_P\").\n",
    "        query(\"(count >= 2) or (min_P < 5e-8/80)\") )\n",
    "\n",
    "    print(df.shape)\n",
    "    display(df)"
   ]
  },
  {
   "cell_type": "code",
   "execution_count": null,
   "id": "9",
   "metadata": {},
   "outputs": [],
   "source": [
    "for chamber in EnsembleGWASResults.possible_chambers:\n",
    "    for variable_type in ['static', 'dynamic']:\n",
    "        counts_df = ( results.\n",
    "            summarize_loci_hits(extra_columns=[\"chamber\"], collapse_attributes=[\"run\"]).\n",
    "            query(\"chamber == @chamber and variable_type == @variable_type\").\n",
    "            sort_values(\"min_P\").\n",
    "            query(\"(count >= 2) or (min_P < 5e-8/80)\") )\n",
    "        # print(counts_df.shape)\n",
    "        try:\n",
    "            table_tex_code = results.create_count_table_tex(counts_df, tex_file=f\"{chamber}_{variable_type}.tex\")\n",
    "        except:\n",
    "            pass"
   ]
  },
  {
   "cell_type": "code",
   "execution_count": null,
   "id": "10",
   "metadata": {},
   "outputs": [],
   "source": [
    "counts_per_chamber = results.get_counts_per_chamber(p_threshold=5e-8)\n",
    "\n",
    "FACTOR = 2\n",
    "MOSTLY_DYNAMIC    =  ( counts_per_chamber[\"dynamic\"].sum(axis=1) > counts_per_chamber[\"static\"].sum(axis=1)*FACTOR  )\n",
    "MOSTLY_STATIC     =  ( counts_per_chamber[\"static\"].sum(axis=1)  > counts_per_chamber[\"dynamic\"].sum(axis=1)*FACTOR )\n",
    "BOTH_DYN_AND_STAT = ~( counts_per_chamber[\"static\"].sum(axis=1)  > counts_per_chamber[\"dynamic\"].sum(axis=1)*FACTOR) & ~(counts_per_chamber[\"dynamic\"].sum(axis=1) > counts_per_chamber[\"static\"].sum(axis=1)*FACTOR )\n",
    "\n",
    "counts_per_chamber.loc[MOSTLY_DYNAMIC]   .to_csv(f\"{BASE_DIR}/results/counts_mostly_dynamic.csv\")\n",
    "counts_per_chamber.loc[MOSTLY_STATIC]    .to_csv(f\"{BASE_DIR}/results/counts_mostly_static.csv\")\n",
    "counts_per_chamber.loc[BOTH_DYN_AND_STAT].to_csv(f\"{BASE_DIR}/results/counts_both_static_and_dynamic.csv\")"
   ]
  },
  {
   "cell_type": "code",
   "execution_count": null,
   "id": "11",
   "metadata": {},
   "outputs": [],
   "source": [
    "counts_per_chamber.loc[BOTH_DYN_AND_STAT]"
   ]
  },
  {
   "cell_type": "code",
   "execution_count": null,
   "id": "12",
   "metadata": {},
   "outputs": [],
   "source": [
    "counts_per_chamber.loc[MOSTLY_STATIC]"
   ]
  },
  {
   "cell_type": "code",
   "execution_count": null,
   "id": "13",
   "metadata": {},
   "outputs": [],
   "source": [
    "counts_per_chamber.loc[MOSTLY_DYNAMIC]"
   ]
  },
  {
   "cell_type": "markdown",
   "id": "14",
   "metadata": {},
   "source": [
    "___"
   ]
  },
  {
   "cell_type": "code",
   "execution_count": null,
   "id": "15",
   "metadata": {},
   "outputs": [],
   "source": []
  },
  {
   "cell_type": "code",
   "execution_count": null,
   "id": "16",
   "metadata": {},
   "outputs": [],
   "source": [
    "EnsembleGWASResults.create_count_table_tex(\n",
    "    counts_df = results.reset_index().query(\"chamber == 'BV' and variable_type == 'static'\")\n",
    ")"
   ]
  },
  {
   "cell_type": "code",
   "execution_count": null,
   "id": "17",
   "metadata": {},
   "outputs": [],
   "source": [
    "results.create_gwas_summary_table(\n",
    "    results.region_assocs_df,\n",
    "    f\"{BASE_DIR}/results/gwas_summary_table.csv\",\n",
    "    p_threshold=5e-8\n",
    ")"
   ]
  },
  {
   "cell_type": "code",
   "execution_count": null,
   "id": "18",
   "metadata": {
    "jupyter": {
     "source_hidden": true
    },
    "tags": []
   },
   "outputs": [],
   "source": [
    "log10p_dynamic_df = -np.log10(results.loci_summary(only_dynamic=True).reset_index().groupby(\"region\").min(\"min_P\").sort_values(\"min_P\")[[\"min_P\"]])\n",
    "log10p_static_df  = -np.log10(results.loci_summary(only_static=True) .reset_index().groupby(\"region\").min(\"min_P\").sort_values(\"min_P\")[[\"min_P\"]])\n",
    "\n",
    "log10p_dynamic_df\n",
    "log10p_static_df\n",
    "# log10p_static_df.to_csv(\"results/log10p_static.csv\")\n",
    "# log10p_dynamic_df.to_csv(\"results/log10p_dynamic.csv\")"
   ]
  },
  {
   "cell_type": "code",
   "execution_count": null,
   "id": "19",
   "metadata": {},
   "outputs": [],
   "source": [
    "table_latex_code = results.create_count_table_tex()"
   ]
  },
  {
   "cell_type": "code",
   "execution_count": null,
   "id": "20",
   "metadata": {},
   "outputs": [],
   "source": [
    "table_latex_code"
   ]
  },
  {
   "cell_type": "code",
   "execution_count": null,
   "id": "21",
   "metadata": {},
   "outputs": [],
   "source": [
    "print(table_latex_code)"
   ]
  },
  {
   "cell_type": "code",
   "execution_count": null,
   "id": "22",
   "metadata": {},
   "outputs": [],
   "source": [
    "gwas_dir = f\"{GWAS_RESULTS_DIR}/All_partitions_spatiotemporal_afterNov2023/\"\n",
    "\n",
    "results = EnsembleGWASResults(gwas_dir)\n",
    "( results.region_assocs_df.\n",
    "      query(\"P < 5e-10\").\n",
    "      groupby(by=[\"run\", \"variable_type\", \"region\"]).\n",
    "      aggregate({\"CHR\":\"count\", \"P\": \"min\"}).\n",
    "      rename({\"CHR\":\"count\", \"P\":\"min_P\"}, axis=1).\n",
    "      sort_values(\"count\", ascending=False).\n",
    "      sort_values(\"min_P\", ascending=True) )"
   ]
  },
  {
   "cell_type": "code",
   "execution_count": null,
   "id": "23",
   "metadata": {
    "tags": []
   },
   "outputs": [],
   "source": [
    "# region_count_df.sort_values(\"min_P\").reset_index().to_csv(\"../00_CardiacMotionRL/analysis/loci_pvals_static_vs_dynamic.csv\")"
   ]
  },
  {
   "cell_type": "code",
   "execution_count": null,
   "id": "24",
   "metadata": {
    "tags": []
   },
   "outputs": [],
   "source": [
    "region_count_df = region_count_df.reset_index()\n",
    "region_count_df = pd.merge(loci_mapping[[\"candidate_gene\"]], region_count_df, left_index=True, right_on='region', how='right')\n",
    "region_count_df.query(\"variable_type\" == \"dynamic\").sort_values(\"min_P\").head(30)"
   ]
  },
  {
   "cell_type": "code",
   "execution_count": null,
   "id": "25",
   "metadata": {
    "tags": []
   },
   "outputs": [],
   "source": [
    "COUNT_THR = 5\n",
    "PVALUE_GW_THR = 5e-8\n",
    "PVALUE_SW_THR = 5e-10\n",
    "\n",
    "region_count_df[\n",
    "    ((region_count_df[\"count\"] >= COUNT_THR) & (region_count_df.min_P < PVALUE_GW_THR)) | (region_count_df.min_P < PVALUE_SW_THR)\n",
    "].sort_values(\"min_P\")"
   ]
  },
  {
   "cell_type": "markdown",
   "id": "26",
   "metadata": {},
   "source": [
    "___"
   ]
  },
  {
   "cell_type": "markdown",
   "id": "27",
   "metadata": {},
   "source": [
    "# Newer runs ($n_z^c=16$ and $n_z^s=16$)"
   ]
  },
  {
   "cell_type": "code",
   "execution_count": null,
   "id": "28",
   "metadata": {},
   "outputs": [],
   "source": [
    "GWAS_RESULTS_DIR_NEWER = \"/mnt/data/workshop/workshop-user1/output/GWAS/All_partitions_spatiotemporal_afterNov2023/\"\n",
    "results_newer = EnsembleGWASResults(GWAS_RESULTS_DIR_NEWER)\n",
    "results_newer.counts_per_chamber()"
   ]
  },
  {
   "cell_type": "code",
   "execution_count": null,
   "id": "29",
   "metadata": {},
   "outputs": [],
   "source": [
    "COL_ORDER = [(variable_type, chamber) for variable_type in [\"dynamic\", \"static\"] for chamber in [\"BV\", \"LV\", \"RV\", \"LA\", \"RA\"]]\n",
    "\n",
    "counts_per_chamber = results.loci_count(per_chamber=True).\\\n",
    "  reset_index().\\\n",
    "  pivot(index=\"region\", values=\"count\", columns=[\"variable_type\", \"chamber\"]).\\\n",
    "  fillna(0).astype(int)[COL_ORDER]"
   ]
  },
  {
   "cell_type": "markdown",
   "id": "30",
   "metadata": {},
   "source": [
    "___"
   ]
  },
  {
   "cell_type": "code",
   "execution_count": null,
   "id": "31",
   "metadata": {},
   "outputs": [],
   "source": [
    "GWAS_RESULTS_DIR = \"/mnt/data/workshop/workshop-user1/output/GWAS/relative_wall_thicknening/\"\n",
    "results = EnsembleGWASResults(GWAS_RESULTS_DIR)"
   ]
  },
  {
   "cell_type": "code",
   "execution_count": null,
   "id": "32",
   "metadata": {},
   "outputs": [],
   "source": [
    "results.region_assocs_df[(results.region_assocs_df.P < 5e-8)]"
   ]
  },
  {
   "cell_type": "markdown",
   "id": "33",
   "metadata": {},
   "source": [
    "___"
   ]
  },
  {
   "cell_type": "markdown",
   "id": "34",
   "metadata": {},
   "source": [
    "Export all SNPs"
   ]
  },
  {
   "cell_type": "code",
   "execution_count": null,
   "id": "35",
   "metadata": {
    "tags": []
   },
   "outputs": [],
   "source": [
    "import itertools\n",
    "\n",
    "snps_list = []\n",
    "\n",
    "significant_regions_df = region_count_df[\n",
    "    ((region_count_df.min_P < 5e-8) & (region_count_df[\"count\"] > 5)) | \n",
    "    (region_count_df.min_P < 1.5e-10)\n",
    "]\n",
    "\n",
    "for locus in significant_regions_df.index.to_list():\n",
    "    snps_list.append(region_assocs_df.iloc[\n",
    "        (region_assocs_df.index.get_level_values('region') == locus) \n",
    "        & (region_assocs_df.P < 5e-8).values,\n",
    "    ])    \n",
    "    # print(snps_list[-1])\n",
    "\n",
    "with open(\"/home/rodrigo/SNPs.txt\", \"wt\") as snps_file:\n",
    "    snps_file.write(\n",
    "      \"\\n\".join(\n",
    "        list(set([x for x in itertools.chain(*[x.SNP.values for x in snps_list])]))\n",
    "      )\n",
    "    )"
   ]
  },
  {
   "cell_type": "code",
   "execution_count": null,
   "id": "36",
   "metadata": {},
   "outputs": [],
   "source": [
    "pd.concat(snps_list)[~pd.concat(snps_list).sort_values(\"SNP\").duplicated(\"SNP\")].\\\n",
    "    reset_index().\\\n",
    "    loc[:,[\"CHR\", \"BP\", \"region\", \"SNP\"]].\\\n",
    "    to_csv(\"/home/rodrigo/01_repos/CardiacGWAS/significant_SNPs.csv\")"
   ]
  },
  {
   "cell_type": "markdown",
   "id": "37",
   "metadata": {},
   "source": [
    "This will filter the rows for the best associations per region:"
   ]
  },
  {
   "cell_type": "code",
   "execution_count": null,
   "id": "38",
   "metadata": {},
   "outputs": [],
   "source": [
    "region_assocs_df.query(\"P < 1e-7\"].to_csv(\"snp_associations_lt_1e-7.csv\")"
   ]
  },
  {
   "cell_type": "code",
   "execution_count": null,
   "id": "39",
   "metadata": {},
   "outputs": [],
   "source": [
    "kk = region_assocs_df.reset_index().set_index(\"SNP\").loc[loci_mapping_df.lead_SNP.to_list()]\n",
    "kk[~kk.duplicated(\"AF\")][\"AF\"].to_csv(\"/home/rodrigo/Downloads/MAFs.txt\")"
   ]
  },
  {
   "cell_type": "code",
   "execution_count": null,
   "id": "40",
   "metadata": {},
   "outputs": [],
   "source": [
    "idx_min = region_assocs_df.groupby(\"region\").P.idxmin()\n",
    "idx_min = idx_min[significant_regions]\n",
    "\n",
    "LEAD_SNPS_FILE = \"/home/rodrigo/01_repos/CardiacMotionGWAS/results/snps_for_biomart__one_per_region.txt\"\n",
    "region_assocs_df.iloc[idx_min, [3,4,5,6]].reset_index(drop=True).sort_values([\"CHR\", \"BP\"]).to_csv(\n",
    "    LEAD_SNPS_FILE, index=False\n",
    ")"
   ]
  },
  {
   "cell_type": "markdown",
   "id": "41",
   "metadata": {},
   "source": [
    "___"
   ]
  },
  {
   "cell_type": "code",
   "execution_count": null,
   "id": "42",
   "metadata": {},
   "outputs": [],
   "source": [
    "regions_w = widgets.Select(options=sorted(results.get_significant_regions()))\n",
    "\n",
    "@interact\n",
    "def show_results_for_region(region=regions_w):\n",
    "    display(results.get_results_for_region(region))"
   ]
  },
  {
   "cell_type": "code",
   "execution_count": null,
   "id": "43",
   "metadata": {},
   "outputs": [],
   "source": [
    "by_region_and_snp_df = {}\n",
    "\n",
    "for region in tqdm(region_assocs_df.index.get_level_values(\"region\").unique()):\n",
    "    \n",
    "    df = region_assocs_df.iloc[\n",
    "        (region_assocs_df.index.get_level_values('region') == region) \n",
    "        & (region_assocs_df.P < 5e-7).values,\n",
    "    ].sort_values(\"P\")\n",
    "    \n",
    "    if df.shape[0] < 5:\n",
    "        continue\n",
    "    \n",
    "    # print(region)\n",
    "    by_region_and_snp_df[region] = df"
   ]
  },
  {
   "cell_type": "code",
   "execution_count": null,
   "id": "44",
   "metadata": {},
   "outputs": [],
   "source": [
    "@interact\n",
    "def get_lead_snp_count(locus=regions_w):    \n",
    "    \n",
    "    return region_assocs_df.iloc[\n",
    "        (region_assocs_df.index.get_level_values('region') == locus) \n",
    "        & (region_assocs_df.P < 5e-8).values,\n",
    "    ].sort_values(\"P\").head(20)"
   ]
  },
  {
   "cell_type": "code",
   "execution_count": null,
   "id": "45",
   "metadata": {},
   "outputs": [],
   "source": [
    "### Replication results generated using this script: CardiacGWAS/replication.R"
   ]
  },
  {
   "cell_type": "code",
   "execution_count": null,
   "id": "46",
   "metadata": {},
   "outputs": [],
   "source": [
    "with open(\"/home/rodrigo/01_repos/CardiacGWAS/manuscript/tables/replication_table.tex\", \"wt\") as repl_f:\n",
    "    dd = pd.read_csv(\"/home/rodrigo/01_repos/CardiacGWAS/results/replication_results.csv\")\n",
    "    dd['replication p-value'] = [f\"${str(round(float(x[0]), 1))} \\times 10^{{{int(x[1])}}}$\" for x in dd['replication p-value'].apply(lambda x: f\"{x:.2e}\".split(\"e\"))]\n",
    "    table_code = dd.to_latex(escape=False, index=False)\n",
    "    table_code = table_code.replace(\"_\", \"\\_\")\n",
    "    repl_f.write(table_code)"
   ]
  },
  {
   "cell_type": "markdown",
   "id": "47",
   "metadata": {},
   "source": [
    "___"
   ]
  },
  {
   "cell_type": "markdown",
   "id": "48",
   "metadata": {},
   "source": [
    "Count loci"
   ]
  },
  {
   "cell_type": "code",
   "execution_count": null,
   "id": "49",
   "metadata": {},
   "outputs": [],
   "source": [
    "condition = (loci_mapping.PCA != \"YES\") & (loci_mapping.exclude != \"YES\") & (loci_mapping.suggestive_significance != \"YES\") & (loci_mapping.handcrafted.isnull())"
   ]
  },
  {
   "cell_type": "code",
   "execution_count": null,
   "id": "50",
   "metadata": {},
   "outputs": [],
   "source": [
    "loci_mapping.query(\"PCA != 'YES' and exclude != 'YES' and suggestive_significance != 'YES' and handcrafted.isnull()\")"
   ]
  }
 ],
 "metadata": {
  "kernelspec": {
   "display_name": "cardiac_motion",
   "language": "python",
   "name": "python3"
  },
  "language_info": {
   "codemirror_mode": {
    "name": "ipython",
    "version": 3
   },
   "file_extension": ".py",
   "mimetype": "text/x-python",
   "name": "python",
   "nbconvert_exporter": "python",
   "pygments_lexer": "ipython3",
   "version": "3.8.20"
  }
 },
 "nbformat": 4,
 "nbformat_minor": 5
}
