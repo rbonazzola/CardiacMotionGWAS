{
 "cells": [
  {
   "cell_type": "code",
   "execution_count": null,
   "id": "0",
   "metadata": {},
   "outputs": [],
   "source": [
    "import os\n",
    "import pandas as pd \n",
    "\n",
    "HOME = os.environ[\"HOME\"]\n",
    "CARDIAC_MOTION_GWAS_REPO = f\"{HOME}/01_repos/CardiacMotionGWAS\"\n",
    "CARDIAC_MOTION_REPO = f\"{HOME}/01_repos/CardiacMotionRL\"\n",
    "MLRUNS_DIR = f\"{CARDIAC_COMA_REPO}/mlruns\"\n",
    "MSE_THRESHOLD = 0.8\n",
    "\n",
    "runs_df = pd.read_csv(f\"{CARDIAC_GWAS_REPO}/results/runs.csv\")\n",
    "runs_df = runs_df[runs_df[\"metrics.val_recon_loss\"] < MSE_THRESHOLD]\n",
    "runs_df = runs_df.set_index([\"experiment_id\", \"run_id\"], drop=False)\n",
    "\n",
    "z_df_merged = []\n",
    "\n",
    "for index, row in runs_df.iterrows():\n",
    "\n",
    "    exp_id, run_id = row.experiment_id, row.run_id\n",
    "    latent_vector_file = f\"{MLRUNS_DIR}/{exp_id}/{run_id}/artifacts/output/latent_vector.csv\"\n",
    "    z_df = pd.read_csv(latent_vector_file)\n",
    "    z_df = z_df.set_index(\"ID\")\n",
    "    z_df.columns = [ f\"{z}_{run_id}\" for z in z_df.columns ]\n",
    "    z_df = z_df.sort_index()\n",
    "    z_df.index = z_df.index.astype(int)\n",
    "    z_df_merged.append(z_df)\n",
    "\n",
    "z_df_merged = pd.concat(z_df_merged, axis=1)\n",
    "\n",
    "z_df_merged.to_csv(\n",
    "\tf\"{CARDIAC_MOTION_GWAS_REPO}/results/gwas_loci_summary_across_runs.csv\", \n",
    "\tindex=True, index_label=\"ID\", float_format='%.4f'\n",
    ")"
   ]
  }
 ],
 "metadata": {
  "kernelspec": {
   "display_name": "Python 3 (ipykernel)",
   "language": "python",
   "name": "python3"
  },
  "language_info": {
   "codemirror_mode": {
    "name": "ipython",
    "version": 3
   },
   "file_extension": ".py",
   "mimetype": "text/x-python",
   "name": "python",
   "nbconvert_exporter": "python",
   "pygments_lexer": "ipython3",
   "version": "3.9.12"
  }
 },
 "nbformat": 4,
 "nbformat_minor": 5
}
