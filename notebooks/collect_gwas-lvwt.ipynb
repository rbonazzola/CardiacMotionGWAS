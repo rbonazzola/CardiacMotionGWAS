{
 "cells": [
  {
   "cell_type": "code",
   "execution_count": null,
   "id": "0",
   "metadata": {},
   "outputs": [],
   "source": [
    "import os, sys\n",
    "\n",
    "os.chdir(f\"{os.environ['HOME']}/01_repos\")\n",
    "\n",
    "from paths import Paths\n",
    "\n",
    "from easydict import EasyDict\n",
    "import matplotlib.pyplot as plt\n",
    "import numpy as np\n",
    "import mlflow\n",
    "import ipywidgets as widgets\n",
    "from ipywidgets import interact\n",
    "\n",
    "import numpy as np\n",
    "import seaborn as sns\n",
    "\n",
    "import scipy\n",
    "# scipy.spatial.distance.pdist() # to list possible distance metri\n",
    "\n",
    "import pandas as pd\n",
    "from tqdm import tqdm\n",
    "import glob"
   ]
  },
  {
   "cell_type": "code",
   "execution_count": null,
   "id": "1",
   "metadata": {},
   "outputs": [],
   "source": [
    "from CardiacMotionGWAS.helpers import EnsembleGWASResults, fetch_loci_mapping\n",
    "from CardiacMotion.utils.run_helpers import Run, compute_thickness_per_aha"
   ]
  },
  {
   "cell_type": "markdown",
   "id": "2",
   "metadata": {},
   "source": [
    "___"
   ]
  },
  {
   "cell_type": "markdown",
   "id": "3",
   "metadata": {},
   "source": [
    "# LV wall thickness"
   ]
  },
  {
   "cell_type": "code",
   "execution_count": null,
   "id": "4",
   "metadata": {},
   "outputs": [],
   "source": [
    "lvwt_results = EnsembleGWASResults(root_dir=f\"{Paths.Data.gwas_results}/LVWT\")"
   ]
  },
  {
   "cell_type": "code",
   "execution_count": null,
   "id": "5",
   "metadata": {},
   "outputs": [],
   "source": [
    "region_counts = lvwt_results.region_assocs_df[lvwt_results.region_assocs_df.P < 5e-8].groupby(\"region\").count().pheno\n",
    "region_gw_mt5 = region_counts[region_counts >= 5]\n",
    "region_sw = lvwt_results.region_assocs_df[lvwt_results.region_assocs_df.P < 5e-10].region.unique()\n",
    "relevant_regions = set(region_sw).union(set(region_gw_mt5.index))"
   ]
  },
  {
   "cell_type": "code",
   "execution_count": null,
   "id": "6",
   "metadata": {},
   "outputs": [],
   "source": [
    "assocs_for_relevant_regions = lvwt_results.region_assocs_df[lvwt_results.region_assocs_df.region.apply(lambda region: region in relevant_regions)]\n",
    "lead_snp_df = assocs_for_relevant_regions.loc[assocs_for_relevant_regions.groupby(\"region\").P.idxmin()]\n",
    "lead_snp_df = lead_snp_df.sort_values([\"CHR\", \"BP\"])"
   ]
  },
  {
   "cell_type": "code",
   "execution_count": null,
   "id": "7",
   "metadata": {},
   "outputs": [],
   "source": [
    "ld_regions = pd.read_csv(\"/home/user/01_repos/GWAS_pipeline/data/ld_indep_regions/fourier_ls-all_EUR_hg19_named.bed\")\n",
    "region_ranges = ld_regions.apply(lambda row: f\"chr{str(row.chr).zfill(2)}_{row.start}-{row.stop}\", axis=1)\n",
    "region_ranges = { ld_regions.id[i]: region_range for i, region_range in enumerate(region_ranges) }\n",
    "region_to_snp = lead_snp_df.set_index(\"region\").SNP.to_dict()"
   ]
  },
  {
   "cell_type": "code",
   "execution_count": null,
   "id": "8",
   "metadata": {},
   "outputs": [],
   "source": [
    "thickness_phenos = [ x for x in assocs_for_relevant_regions.pheno.unique() if \"thickness\" in x ]"
   ]
  },
  {
   "cell_type": "code",
   "execution_count": null,
   "id": "9",
   "metadata": {
    "tags": []
   },
   "outputs": [],
   "source": [
    "dfs = []\n",
    "\n",
    "for region in tqdm(lead_snp_df.region):\n",
    "    region_range = region_ranges[region]\n",
    "    region_data = f\"/mnt/data/workshop/workshop-user1/output/GWAS/LVWT/by_region/snps_info/{region_range}__snps_data.tsv\"\n",
    "    region_data_df = pd.read_csv(region_data, sep='\\t')\n",
    "    for pheno in thickness_phenos:\n",
    "        \n",
    "        filename = f\"/mnt/data/workshop/workshop-user1/output/GWAS/LVWT/by_region/{pheno}/{region_range}.tsv\"\n",
    "        snp = region_to_snp[region]\n",
    "        if os.path.exists(filename):\n",
    "            df = pd.read_csv(filename, sep='\\t').assign(pheno=pheno,region=region)\n",
    "            df = pd.concat([region_data_df, df], axis=1)\n",
    "            # print(df.columns)\n",
    "            df = df[df.SNP == snp]\n",
    "            dfs.append(df)        \n",
    "            \n",
    "thickness_pvals_df = pd.concat(dfs, axis=0).pivot(index=\"pheno\", values=\"P\", columns=\"region\").reset_index()\n",
    "thickness_pvals_df[\"segment\"] = thickness_pvals_df.pheno.apply(lambda x: re.match(\".*(aha..|average|avg).*\", x.lower()).group(1))\n",
    "thickness_pvals_df[\"phase\"] = thickness_pvals_df.pheno.apply(lambda pheno: \"ED\" if \"ED\" in pheno else \"ES\")\n",
    "thickness_pvals_df[\"magnitude\"] = \"thickness\"\n",
    "thickness_pvals_df[\"rel_or_abs\"] = thickness_pvals_df.pheno.apply(lambda pheno: \"relative\" if \"rel\" in pheno else \"absolute\")\n",
    "thickness_pvals_df = thickness_pvals_df.sort_values([\"magnitude\", \"phase\", \"rel_or_abs\"])\n",
    "thickness_pvals_df = thickness_pvals_df.drop(\"pheno\", axis=1)\n",
    "thickness_pvals_df = thickness_pvals_df.set_index([\"segment\", \"phase\", \"magnitude\", \"rel_or_abs\"])\n",
    "thickness_pvals_df.columns = [ region_to_snp[x] for x in thickness_pvals_df.columns ]"
   ]
  },
  {
   "cell_type": "code",
   "execution_count": null,
   "id": "10",
   "metadata": {},
   "outputs": [],
   "source": [
    "lead_snps = set(lead_snp_df.SNP)"
   ]
  },
  {
   "cell_type": "code",
   "execution_count": null,
   "id": "11",
   "metadata": {
    "tags": []
   },
   "outputs": [],
   "source": [
    "# files = sorted(glob.glob(\"/mnt/data/workshop/workshop-user1/output/GWAS/LVWT/*thickening*tsv\"))\n",
    "# thickening_phenos = [ x.split(\"__\")[1][:-4] for x in files ]\n",
    "#\n",
    "# thickening_dfs = []\n",
    "# \n",
    "# for i, file in tqdm(enumerate(files)):\n",
    "#     pheno = thickening_phenos[i]\n",
    "#     df = pd.read_csv(file, sep=\"\\t\")\n",
    "#     df = df.loc[df.SNP.apply(lambda x: x in lead_snps)]\n",
    "#     df = df.assign(pheno=pheno)\n",
    "#     thickening_dfs.append(df)\n",
    "#     \n",
    "# thickening_df = pd.concat(thickening_dfs)\n",
    "# thickening_df.to_csv(\"kk.csv\")"
   ]
  },
  {
   "cell_type": "code",
   "execution_count": null,
   "id": "12",
   "metadata": {
    "jupyter": {
     "outputs_hidden": true
    },
    "tags": []
   },
   "outputs": [],
   "source": [
    "thickening_pvals_df = pd.read_csv(\"CardiacMotionGWAS/results/LV_wall_thickening_pvals.csv\")\n",
    "thickening_pvals_df[\"segment\"] = thickening_pvals_df.pheno.apply(lambda x: re.match(\".*(aha..).*\", x).group(1))\n",
    "thickening_pvals_df[\"magnitude\"] = \"thickening\"\n",
    "thickening_pvals_df[\"rel_or_abs\"] = thickening_pvals_df.pheno.apply(lambda pheno: \"relative\" if \"rel\" in pheno else \"absolute\")\n",
    "thickening_pvals_df[\"phase\"] = None\n",
    "\n",
    "thickening_pvals_df = thickening_pvals_df.sort_values([\"magnitude\", \"phase\", \"rel_or_abs\"])\n",
    "thickening_pvals_df = thickening_pvals_df.drop(\"Unnamed: 0\", axis=1)# thickening_pvals_df\n",
    "\n",
    "thickening_pvals_df = thickening_pvals_df.pivot(index=[\"segment\", \"phase\", \"magnitude\", \"rel_or_abs\"], values=\"P\", columns=\"SNP\").reset_index()\n",
    "thickening_pvals_df.set_index([\"segment\", \"phase\", \"magnitude\", \"rel_or_abs\"])"
   ]
  },
  {
   "cell_type": "code",
   "execution_count": null,
   "id": "13",
   "metadata": {},
   "outputs": [],
   "source": [
    "import re"
   ]
  },
  {
   "cell_type": "code",
   "execution_count": null,
   "id": "14",
   "metadata": {
    "tags": []
   },
   "outputs": [],
   "source": [
    "thickening_pvals_df = thickening_pvals_df.set_index([\"segment\", \"phase\", \"magnitude\", \"rel_or_abs\"])"
   ]
  },
  {
   "cell_type": "code",
   "execution_count": null,
   "id": "15",
   "metadata": {},
   "outputs": [],
   "source": [
    "pvals = pd.concat([\n",
    "    thickness_pvals_df,\n",
    "    thickening_pvals_df#.set_index(['segment', 'phase', 'magnitude', 'rel_or_abs'])  \n",
    "])\n"
   ]
  },
  {
   "cell_type": "code",
   "execution_count": null,
   "id": "16",
   "metadata": {},
   "outputs": [],
   "source": [
    "pvals.to_csv(\"/home/user/01_repos/CardiacMotionGWAS/results/LVWT_pvals.csv\")   "
   ]
  },
  {
   "cell_type": "code",
   "execution_count": null,
   "id": "17",
   "metadata": {},
   "outputs": [],
   "source": [
    "pvals_df = pd.read_csv(\"/home/user/01_repos/CardiacMotionGWAS/results/LVWT_pvals.csv\")\n",
    "pvals_df = pvals_df.set_index([\"magnitude\", \"rel_or_abs\", \"phase\", \"segment\"])"
   ]
  },
  {
   "cell_type": "code",
   "execution_count": null,
   "id": "18",
   "metadata": {},
   "outputs": [],
   "source": [
    "log_pvals = -np.log10(pvals_df)"
   ]
  },
  {
   "cell_type": "code",
   "execution_count": null,
   "id": "19",
   "metadata": {
    "jupyter": {
     "outputs_hidden": true
    },
    "tags": []
   },
   "outputs": [],
   "source": [
    "log_pvals.transpose()[\"thickness\", \"absolute\", \"ED\"]"
   ]
  },
  {
   "cell_type": "code",
   "execution_count": null,
   "id": "20",
   "metadata": {},
   "outputs": [],
   "source": [
    "pvals.set_index([\"segment\", \"phase\", \"magnitude\", \"rel_or_abs\"])"
   ]
  },
  {
   "cell_type": "code",
   "execution_count": null,
   "id": "21",
   "metadata": {},
   "outputs": [],
   "source": []
  },
  {
   "cell_type": "code",
   "execution_count": null,
   "id": "22",
   "metadata": {},
   "outputs": [],
   "source": []
  },
  {
   "cell_type": "code",
   "execution_count": null,
   "id": "23",
   "metadata": {},
   "outputs": [],
   "source": []
  },
  {
   "cell_type": "code",
   "execution_count": null,
   "id": "24",
   "metadata": {},
   "outputs": [],
   "source": []
  },
  {
   "cell_type": "code",
   "execution_count": null,
   "id": "25",
   "metadata": {},
   "outputs": [],
   "source": []
  },
  {
   "cell_type": "code",
   "execution_count": null,
   "id": "26",
   "metadata": {},
   "outputs": [],
   "source": [
    "abs_thickening_results = EnsembleGWASResults(root_dir=f\"{Paths.Data.gwas_results}/absolute_wall_thickening\")\n",
    "abs_thickening_results = abs_thickening_results.region_assocs_df[abs_thickening_results.region_assocs_df.region.apply(lambda x: x in relevant_regions)]\n",
    "abs_wt_log10p_df = (-np.log10(abs_thickening_results.pivot(index=\"region\", values=\"P\", columns=\"pheno\")))\n",
    "\n",
    "rel_thickening_results = EnsembleGWASResults(root_dir=f\"{Paths.Data.gwas_results}/relative_wall_thickening\")\n",
    "rel_thickening_results = rel_thickening_results.region_assocs_df[rel_thickening_results.region_assocs_df.region.apply(lambda x: x in relevant_regions)]\n",
    "rel_wt_log10p_df = (-np.log10(rel_thickening_results.pivot(index=\"region\", values=\"P\", columns=\"pheno\")))\n",
    "\n",
    "REL_THICKENING_FILE = \"/home/user/01_repos/CardiacMotionGWAS/results/log10p_rel_thickening.csv\"\n",
    "ABS_THICKENING_FILE = \"/home/user/01_repos/CardiacMotionGWAS/results/log10p_abs_thickening.csv\"\n",
    "\n",
    "best_logp_thickening_df = pd.merge(\n",
    "    pd.DataFrame(abs_wt_log10p_df.max(axis=1)), \n",
    "    pd.DataFrame(rel_wt_log10p_df.max(axis=1)), \n",
    "    left_index=True, right_index=True\n",
    ").rename({\"0_x\": \"abs_wall_thickening\", \"0_y\": \"rel_wall_thickening\"}, axis=1)\n",
    "\n",
    "best_logp_thickening_df.to_csv(f\"{Paths.Repos.CARDIAC_MOTION_GWAS}/results/log10p_wall_thickening\")"
   ]
  }
 ],
 "metadata": {
  "kernelspec": {
   "display_name": "Python 3 (ipykernel)",
   "language": "python",
   "name": "python3"
  },
  "language_info": {
   "codemirror_mode": {
    "name": "ipython",
    "version": 3
   },
   "file_extension": ".py",
   "mimetype": "text/x-python",
   "name": "python",
   "nbconvert_exporter": "python",
   "pygments_lexer": "ipython3",
   "version": "3.9.16"
  }
 },
 "nbformat": 4,
 "nbformat_minor": 5
}
