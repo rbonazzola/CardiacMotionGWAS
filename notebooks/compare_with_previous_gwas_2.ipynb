{
 "cells": [
  {
   "cell_type": "markdown",
   "id": "0",
   "metadata": {},
   "source": [
    "### Preliminaries"
   ]
  },
  {
   "cell_type": "code",
   "execution_count": null,
   "id": "1",
   "metadata": {},
   "outputs": [],
   "source": [
    "import os\n",
    "HOME = os.environ[\"HOME\"]\n",
    "CARDIAC_MOTION_GWAS_REPO = f\"{HOME}/01_repos/CardiacMotionGWAS\"\n",
    "CARDIAC_MOTION_REPO = f\"{HOME}/01_repos/CardiacMotion\"\n",
    "# MLRUNS_DIR = f\"{CARDIAC_COMA_REPO}/mlruns\"\n",
    "os.chdir(CARDIAC_MOTION_REPO)"
   ]
  },
  {
   "cell_type": "code",
   "execution_count": null,
   "id": "2",
   "metadata": {},
   "outputs": [],
   "source": [
    "import mlflow\n",
    "from mlflow.tracking import MlflowClient\n",
    "\n",
    "import os, sys\n",
    "\n",
    "import torch\n",
    "import torch.nn.functional as F\n",
    "\n",
    "from config.cli_args import overwrite_config_items\n",
    "from config.load_config import load_yaml_config, to_dict\n",
    "\n",
    "import ipywidgets as widgets\n",
    "from ipywidgets import interact\n",
    "from IPython.display import Image\n",
    "\n",
    "import pandas as pd\n",
    "import shlex\n",
    "from subprocess import check_output\n",
    "\n",
    "import pickle as pkl\n",
    "import pytorch_lightning as pl\n",
    "\n",
    "from argparse import Namespace\n",
    "import matplotlib.pyplot as plt\n",
    "\n",
    "import numpy as np\n",
    "import pandas as pd\n",
    "from IPython import embed\n",
    "sys.path.insert(0, '..')\n",
    "\n",
    "# import model.Model3D\n",
    "# from utils.helpers import get_coma_args, get_lightning_module, get_datamodule\n",
    "from copy import deepcopy\n",
    "from pprint import pprint\n",
    "\n",
    "from typing import List\n",
    "from tqdm import tqdm\n",
    "\n",
    "import pandas as pd\n",
    "\n",
    "import pyvista as pv\n",
    "from ipywidgets import interact, interactive, fixed, interact_manual"
   ]
  },
  {
   "cell_type": "code",
   "execution_count": null,
   "id": "3",
   "metadata": {
    "hide_input": false
   },
   "outputs": [],
   "source": [
    "os.chdir(CARDIAC_MOTION_GWAS_REPO)\n",
    "\n",
    "import glob\n",
    "import os\n",
    "import numpy as np\n",
    "import pandas as pd\n",
    "from IPython import embed\n",
    "import functools\n",
    "\n",
    "from data.gwas_details import GWAS_dict\n",
    "GWAS_PATH = \"data/other_gwas/original_files\""
   ]
  },
  {
   "cell_type": "code",
   "execution_count": null,
   "id": "4",
   "metadata": {},
   "outputs": [],
   "source": [
    "gwas_harmonized_pattern = \"data/other_gwas/preprocessed_files/{prefix}__{phenotype}.tsv\"\n",
    "gwas_selected_snps_pattern = \"data/other_gwas/preprocessed_files/{prefix}__{phenotype}__selected_snps.tsv\"\n",
    "COMA_GWAS_SUMMARY = \"results/gwas_loci_summary_across_runs.csv\"\n",
    "LOGP_PATH = \"results/log10p_for_selected_snps_across_gwas.csv\""
   ]
  },
  {
   "cell_type": "code",
   "execution_count": null,
   "id": "5",
   "metadata": {},
   "outputs": [],
   "source": [
    "from loci_mapping import LOCUS_TO_REGION, REGION_TO_LOCUS, LOCI_TO_DROP"
   ]
  },
  {
   "cell_type": "markdown",
   "id": "6",
   "metadata": {},
   "source": [
    "### GWAS file - reduction"
   ]
  },
  {
   "cell_type": "code",
   "execution_count": null,
   "id": "7",
   "metadata": {
    "deletable": false,
    "editable": false,
    "hide_input": false,
    "run_control": {
     "frozen": true
    }
   },
   "outputs": [],
   "source": [
    "for file, info in GWAS_dict.items():\n",
    "    prefix = info[\"prefix\"]\n",
    "    phenotype = info[\"phenotype\"].replace(\" \", \"_\")\n",
    "    o_filename = f\"{prefix}__{phenotype}.tsv\"\n",
    "    file = os.path.join(GWAS_PATH, file)\n",
    "    df = pd.read_csv(file, sep=\"\\t\").rename(info[\"columns\"], axis=1)    \n",
    "    df = df[[\"CHR\", \"BP\", \"SNP\", \"P\"]]\n",
    "    df.to_csv(o_filename, sep='\\t', header=True, index=False)"
   ]
  },
  {
   "cell_type": "markdown",
   "id": "8",
   "metadata": {},
   "source": [
    "___"
   ]
  },
  {
   "cell_type": "markdown",
   "id": "9",
   "metadata": {},
   "source": [
    "### Filter GWAS files for specific SNPS"
   ]
  },
  {
   "cell_type": "markdown",
   "id": "10",
   "metadata": {},
   "source": [
    "#### Find significant SNPs across COMA runs."
   ]
  },
  {
   "cell_type": "code",
   "execution_count": null,
   "id": "11",
   "metadata": {},
   "outputs": [],
   "source": [
    "gwas_loci_summary_across_runs_df"
   ]
  },
  {
   "cell_type": "code",
   "execution_count": null,
   "id": "12",
   "metadata": {},
   "outputs": [],
   "source": [
    "os.chdir(CARDIAC_GWAS_REPO)"
   ]
  },
  {
   "cell_type": "code",
   "execution_count": null,
   "id": "13",
   "metadata": {
    "hide_input": true
   },
   "outputs": [],
   "source": [
    "gwas_loci_summary_across_runs_df = pd.read_csv(COMA_GWAS_SUMMARY)\n",
    "\n",
    "# get index of best locus/variable\n",
    "idx = gwas_loci_summary_across_runs_df.groupby([\"region\"])[\"P\"].transform(min) == gwas_loci_summary_across_runs_df[\"P\"]\n",
    "\n",
    "best_association_per_region = gwas_loci_summary_across_runs_df[idx].sort_values(\"region\")\n",
    "best_snps = set(best_association_per_region.SNP)"
   ]
  },
  {
   "cell_type": "code",
   "execution_count": null,
   "id": "14",
   "metadata": {},
   "outputs": [],
   "source": [
    "best_association_per_region['locus_name'] = best_association_per_region.region.apply(lambda x: REGION_TO_LOCUS.get(x, x))\n",
    "best_association_per_region"
   ]
  },
  {
   "cell_type": "code",
   "execution_count": null,
   "id": "15",
   "metadata": {},
   "outputs": [],
   "source": [
    "os.chdir(CARDIAC_COMA_REPO)"
   ]
  },
  {
   "cell_type": "code",
   "execution_count": null,
   "id": "16",
   "metadata": {},
   "outputs": [],
   "source": [
    "regions = { \n",
    "    f\"{assoc[1].region} ({assoc[1].P:.1e})\": assoc[1].region \n",
    "    for assoc in best_association_per_region.sort_values(\"P\").iterrows() \n",
    "} \n",
    "\n",
    "del regions[\"chr6_79 (4.5e-20)\"]\n",
    "\n",
    "@interact\n",
    "def manhattan(\n",
    "    region=widgets.Select(options=regions, description=\"Locus: \\n\",),\n",
    "    PC_adjusted=False\n",
    "):\n",
    "    \n",
    "    from PIL import Image\n",
    "    best_association_per_region\n",
    "    _best_association_per_region = best_association_per_region.set_index(\"region\")\n",
    "    \n",
    "    assoc = _best_association_per_region.loc[region]\n",
    "    \n",
    "    run_id, z_variable = assoc.run, assoc.pheno[-4:]\n",
    "    \n",
    "    if PC_adjusted: \n",
    "        manhattan_file = f\"mlruns/1/{run_id}/artifacts/GWAS_adj_10PCs/figures/GWAS__{z_variable}__1_{run_id}__manhattan.png\"\n",
    "        qq_file = f\"mlruns/1/{run_id}/artifacts/GWAS_adj_10PCs/figures/GWAS__{z_variable}__1_{run_id}__QQ-plot.png\"\n",
    "    else:\n",
    "        manhattan_file = f\"mlruns/1/{run_id}/artifacts/GWAS/figures/{z_variable}__manhattan.png\"\n",
    "        qq_file = f\"mlruns/1/{run_id}/artifacts/GWAS/figures/{z_variable}__QQ-plot.png\"\n",
    "\n",
    "    print(run_id, z_variable)\n",
    "    display(Image.open(manhattan_file))\n",
    "    display(Image.open(qq_file))"
   ]
  },
  {
   "cell_type": "markdown",
   "id": "17",
   "metadata": {},
   "source": [
    "#### Filter GWAS files for selected SNPs"
   ]
  },
  {
   "cell_type": "code",
   "execution_count": null,
   "id": "18",
   "metadata": {
    "deletable": false,
    "editable": false,
    "hide_input": false,
    "run_control": {
     "frozen": true
    }
   },
   "outputs": [],
   "source": [
    "for file, info in GWAS_dict.items():\n",
    "    \n",
    "    prefix = info[\"prefix\"]\n",
    "    phenotype = info[\"phenotype\"].replace(\" \", \"_\")\n",
    "    \n",
    "    o_filename = gwas_harmonized_pattern.format(prefix=prefix, phenotype=phenotype)           \n",
    "    ofile_selected = gwas_selected_snps_pattern.format(prefix=prefix, phenotype=phenotype)           \n",
    "    \n",
    "    df = pd.read_csv(o_filename, sep=\"\\t\")\n",
    "    keep = df.apply(lambda row: row.SNP in best_snps, axis=1)    \n",
    "    \n",
    "    print(ofile_selected)\n",
    "    df[keep].to_csv(ofile_selected, sep=\"\\t\", index=False, header=True)        "
   ]
  },
  {
   "cell_type": "code",
   "execution_count": null,
   "id": "19",
   "metadata": {
    "deletable": false,
    "editable": false,
    "run_control": {
     "frozen": true
    }
   },
   "outputs": [],
   "source": [
    "pp = []\n",
    "\n",
    "for file, info in GWAS_dict.items():\n",
    "    \n",
    "    prefix = info[\"prefix\"]\n",
    "    phenotype = info[\"phenotype\"].replace(\" \", \"_\")\n",
    "        \n",
    "    ofile_selected_snps = gwas_selected_snps_pattern.format(prefix=prefix, phenotype=phenotype)\n",
    "    \n",
    "    df = pd.read_csv(ofile_selected, sep=\"\\t\")\n",
    "    df = df[[\"SNP\", \"P\"]]\n",
    "    df = df.rename({\"P\": f\"{prefix}__{phenotype}\"}, axis=1)\n",
    "    \n",
    "    pp.append(df)\n",
    "    \n",
    "\n",
    "pp = [dd.set_index(\"SNP\") for dd in pp]\n",
    "snps_across_gwas = functools.reduce(lambda df1,df2: pd.merge(df1,df2,on='SNP'), pp)\n",
    "\n",
    "# WHAT'S HAPPENING WITH THIS SNP?\n",
    "snps_across_gwas = snps_across_gwas.drop(\"rs533885\")\n",
    "log10p_gwas_df = (-np.log10(snps_across_gwas))\n",
    "log10p_gwas_df.to_csv(LOGP_PATH, index=True)"
   ]
  },
  {
   "cell_type": "code",
   "execution_count": null,
   "id": "20",
   "metadata": {},
   "outputs": [],
   "source": [
    "best_association_per_region"
   ]
  },
  {
   "cell_type": "code",
   "execution_count": null,
   "id": "21",
   "metadata": {},
   "outputs": [],
   "source": [
    "logp = pd.DataFrame(best_association_per_region.apply(lambda row: -np.log10(row.P), axis=1)).rename({0: '-log10(p)'}, axis=1)"
   ]
  },
  {
   "cell_type": "code",
   "execution_count": null,
   "id": "22",
   "metadata": {},
   "outputs": [],
   "source": [
    "z_assoc = pd.concat([best_association_per_region[[\"SNP\", \"region\", \"locus_name\"]], logp], axis=1)"
   ]
  },
  {
   "cell_type": "code",
   "execution_count": null,
   "id": "23",
   "metadata": {},
   "outputs": [],
   "source": [
    "os.chdir(CARDIAC_GWAS_REPO)"
   ]
  },
  {
   "cell_type": "code",
   "execution_count": null,
   "id": "24",
   "metadata": {},
   "outputs": [],
   "source": [
    "log10p_gwas_df = pd.read_csv(LOGP_PATH)\n",
    "log10p_gwas_df"
   ]
  },
  {
   "cell_type": "code",
   "execution_count": null,
   "id": "25",
   "metadata": {},
   "outputs": [],
   "source": [
    "assoc_df = pd.merge(z_assoc, log10p_gwas_df.set_index(\"SNP\"), right_index=True, left_on=\"SNP\").sort_values(by=\"-log10(p)\", ascending=False)\n",
    "assoc_df = assoc_df.set_index(\"SNP\").drop(\"rs10872167\").reset_index()\n",
    "assoc_df = assoc_df.set_index(assoc_df.locus_name.where(assoc_df.locus_name != \"Unnamed\", assoc_df.region))"
   ]
  },
  {
   "cell_type": "code",
   "execution_count": null,
   "id": "26",
   "metadata": {},
   "outputs": [],
   "source": [
    "assoc_df.to_csv(\"results/log_p_assoc.csv\")"
   ]
  },
  {
   "cell_type": "code",
   "execution_count": null,
   "id": "27",
   "metadata": {},
   "outputs": [],
   "source": []
  },
  {
   "cell_type": "code",
   "execution_count": null,
   "id": "28",
   "metadata": {},
   "outputs": [],
   "source": []
  },
  {
   "cell_type": "code",
   "execution_count": null,
   "id": "29",
   "metadata": {},
   "outputs": [],
   "source": []
  }
 ],
 "metadata": {
  "hide_input": false,
  "kernelspec": {
   "display_name": "Python 3 (ipykernel)",
   "language": "python",
   "name": "python3"
  },
  "language_info": {
   "codemirror_mode": {
    "name": "ipython",
    "version": 3
   },
   "file_extension": ".py",
   "mimetype": "text/x-python",
   "name": "python",
   "nbconvert_exporter": "python",
   "pygments_lexer": "ipython3",
   "version": "3.9.16"
  },
  "toc": {
   "base_numbering": 1,
   "nav_menu": {},
   "number_sections": true,
   "sideBar": true,
   "skip_h1_title": false,
   "title_cell": "Table of Contents",
   "title_sidebar": "Contents",
   "toc_cell": false,
   "toc_position": {
    "height": "calc(100% - 180px)",
    "left": "10px",
    "top": "150px",
    "width": "234px"
   },
   "toc_section_display": true,
   "toc_window_display": true
  },
  "varInspector": {
   "cols": {
    "lenName": 16,
    "lenType": 16,
    "lenVar": 40
   },
   "kernels_config": {
    "python": {
     "delete_cmd_postfix": "",
     "delete_cmd_prefix": "del ",
     "library": "var_list.py",
     "varRefreshCmd": "print(var_dic_list())"
    },
    "r": {
     "delete_cmd_postfix": ") ",
     "delete_cmd_prefix": "rm(",
     "library": "var_list.r",
     "varRefreshCmd": "cat(var_dic_list()) "
    }
   },
   "types_to_exclude": [
    "module",
    "function",
    "builtin_function_or_method",
    "instance",
    "_Feature"
   ],
   "window_display": false
  }
 },
 "nbformat": 4,
 "nbformat_minor": 5
}
