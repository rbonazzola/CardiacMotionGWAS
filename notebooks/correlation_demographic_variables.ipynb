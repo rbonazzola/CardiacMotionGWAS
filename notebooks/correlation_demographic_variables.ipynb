{
 "cells": [
  {
   "cell_type": "code",
   "execution_count": null,
   "id": "0",
   "metadata": {},
   "outputs": [],
   "source": [
    "import numpy as np\n",
    "import pandas as pd\n",
    "import statsmodels.api as sm\n",
    "from sklearn.preprocessing import OneHotEncoder, PolynomialFeatures"
   ]
  },
  {
   "cell_type": "code",
   "execution_count": null,
   "id": "1",
   "metadata": {},
   "outputs": [],
   "source": [
    "demog_df = pd.read_csv(\"~/01_repos/CardiacGWAS/shiny/data/gwas_covariates_63k.csv\")\n",
    "\n",
    "cardiac_indices = pd.read_csv(\"~/01_repos/CardiacSegmentation/data/transforms/LVED_cardiac_indices.csv\")\n",
    "cardiac_indices = cardiac_indices.drop([\"LVMVR_mesh\", \"LVM_mesh\"], axis=1).rename({\"LVM_vox\": \"LVM\", \"LVMVR_vox\": \"LVMVR\"}, axis=1)"
   ]
  },
  {
   "cell_type": "code",
   "execution_count": null,
   "id": "2",
   "metadata": {},
   "outputs": [],
   "source": [
    "df = pd.merge(cardiac_indices, demog_df)\n",
    "\n",
    "onehot = OneHotEncoder(drop='first')\n",
    "columns_to_encode = [\"alcohol_intake_freq\", \"smoking_status\", \"sex\", \"imaging_centre\"]\n",
    "X_onehot = onehot.fit_transform(df[columns_to_encode])\n",
    "encoded_names = onehot.get_feature_names_out(columns_to_encode)"
   ]
  },
  {
   "cell_type": "code",
   "execution_count": null,
   "id": "3",
   "metadata": {},
   "outputs": [],
   "source": [
    "float_cols = ['weight', 'height', 'bmi', 'age', 'body_surface_area', 'adj_dbp', 'adj_sbp']\n",
    "poly = PolynomialFeatures(degree=2, include_bias=False)\n",
    "X_poly = poly.fit_transform(df[float_cols])\n",
    "poly_features = poly.get_feature_names_out()"
   ]
  },
  {
   "cell_type": "code",
   "execution_count": null,
   "id": "4",
   "metadata": {},
   "outputs": [],
   "source": [
    "phenotypes = ['LVEDV', 'LVEDSph', 'LVM', 'LVMVR', 'RVEDV']"
   ]
  },
  {
   "cell_type": "code",
   "execution_count": null,
   "id": "5",
   "metadata": {},
   "outputs": [],
   "source": [
    "imaging_centre_cols = [ x for x in encoded_names if \"imaging\" in x ]"
   ]
  },
  {
   "cell_type": "code",
   "execution_count": null,
   "id": "6",
   "metadata": {},
   "outputs": [],
   "source": [
    "imaging_centre_cols"
   ]
  },
  {
   "cell_type": "code",
   "execution_count": null,
   "id": "7",
   "metadata": {},
   "outputs": [],
   "source": [
    "df = pd.concat([\n",
    "    pd.DataFrame(X_poly, columns=poly_features),\n",
    "    pd.DataFrame(X_onehot.todense(), columns=encoded_names),\n",
    "    df[phenotypes]],\n",
    "    axis=1\n",
    ")"
   ]
  },
  {
   "cell_type": "code",
   "execution_count": null,
   "id": "8",
   "metadata": {},
   "outputs": [],
   "source": [
    "# Define your independent variables\n",
    "independent_vars = poly_features.tolist() + encoded_names.tolist()"
   ]
  },
  {
   "cell_type": "code",
   "execution_count": null,
   "id": "9",
   "metadata": {},
   "outputs": [],
   "source": [
    "variables_to_rm = [ \"sex_MALE\" ]"
   ]
  },
  {
   "cell_type": "code",
   "execution_count": null,
   "id": "10",
   "metadata": {},
   "outputs": [],
   "source": [
    "variables_to_rm = imaging_centre_cols"
   ]
  },
  {
   "cell_type": "code",
   "execution_count": null,
   "id": "11",
   "metadata": {},
   "outputs": [],
   "source": [
    "# Add a constant term for the intercept\n",
    "X = sm.add_constant(df[independent_vars])\n",
    "\n",
    "results, residues = {}, {}\n",
    "\n",
    "for phenotype in phenotypes:\n",
    "    \n",
    "    y = np.asarray(df[phenotype])\n",
    "    X_ = X.drop(variables_to_rm, axis=1)\n",
    "    \n",
    "    model = sm.OLS(y, X_)\n",
    "    \n",
    "    results[phenotype] = model.fit()\n",
    "    \n",
    "    yhat = results[phenotype].predict(X_)\n",
    "    \n",
    "    residues[phenotype] = y - yhat\n",
    "  \n",
    "# To access the results\n",
    "# for phenotype, result in results.items():\n",
    "#    print(f\"Results for {phenotype}:\\n\", result.summary(), \"\\n\")"
   ]
  },
  {
   "cell_type": "code",
   "execution_count": null,
   "id": "12",
   "metadata": {},
   "outputs": [],
   "source": [
    "df.groupby(\"sex_MALE\")[\"RVEDV\"].mean()"
   ]
  },
  {
   "cell_type": "code",
   "execution_count": null,
   "id": "13",
   "metadata": {},
   "outputs": [],
   "source": [
    "kk = sm.OLS(df['LVEDSph'], sm.add_constant(df[\"bmi\"])).fit()\n",
    "print(kk.pvalues)\n",
    "kk.summary()"
   ]
  },
  {
   "cell_type": "code",
   "execution_count": null,
   "id": "14",
   "metadata": {},
   "outputs": [],
   "source": [
    "import seaborn as sns"
   ]
  },
  {
   "cell_type": "code",
   "execution_count": null,
   "id": "15",
   "metadata": {},
   "outputs": [],
   "source": [
    "df.LVEDV.hist();"
   ]
  },
  {
   "cell_type": "code",
   "execution_count": null,
   "id": "16",
   "metadata": {},
   "outputs": [],
   "source": [
    "sns.boxplot(data=df, x=\"age\", y=\"LVEDV\");"
   ]
  },
  {
   "cell_type": "code",
   "execution_count": null,
   "id": "17",
   "metadata": {},
   "outputs": [],
   "source": [
    "model = sm.OLS(df['LVEDV'], sm.add_constant(pd.concat([df['age'], df['age'] * df['sex_MALE']], axis=1)))\n",
    "kk = model.fit()\n",
    "# print(kk.pvalues)\n",
    "kk.summary()"
   ]
  },
  {
   "cell_type": "code",
   "execution_count": null,
   "id": "18",
   "metadata": {},
   "outputs": [],
   "source": [
    "-0.9552 * 7.5"
   ]
  },
  {
   "cell_type": "code",
   "execution_count": null,
   "id": "19",
   "metadata": {},
   "outputs": [],
   "source": [
    "kk = sm.OLS(df.query(\"sex_MALE == 1\")['LVEDV'], df.query(\"sex_MALE == 1\")[\"age\"]).fit()\n",
    "print(kk.pvalues)\n",
    "kk.summary()"
   ]
  },
  {
   "cell_type": "code",
   "execution_count": null,
   "id": "20",
   "metadata": {},
   "outputs": [],
   "source": []
  }
 ],
 "metadata": {
  "kernelspec": {
   "display_name": "Python 3 (ipykernel)",
   "language": "python",
   "name": "python3"
  },
  "language_info": {
   "codemirror_mode": {
    "name": "ipython",
    "version": 3
   },
   "file_extension": ".py",
   "mimetype": "text/x-python",
   "name": "python",
   "nbconvert_exporter": "python",
   "pygments_lexer": "ipython3",
   "version": "3.10.12"
  }
 },
 "nbformat": 4,
 "nbformat_minor": 5
}
