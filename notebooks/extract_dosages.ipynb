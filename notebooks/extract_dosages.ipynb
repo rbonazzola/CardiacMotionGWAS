{
 "cells": [
  {
   "cell_type": "code",
   "execution_count": 2,
   "id": "0ab03e76-11c7-4511-8ae2-4193a0a05fa7",
   "metadata": {},
   "outputs": [
    {
     "ename": "ModuleNotFoundError",
     "evalue": "No module named 'pybgen'",
     "output_type": "error",
     "traceback": [
      "\u001b[0;31m---------------------------------------------------------------------------\u001b[0m",
      "\u001b[0;31mModuleNotFoundError\u001b[0m                       Traceback (most recent call last)",
      "Cell \u001b[0;32mIn[2], line 4\u001b[0m\n\u001b[1;32m      2\u001b[0m \u001b[38;5;28;01mimport\u001b[39;00m \u001b[38;5;21;01mpandas\u001b[39;00m \u001b[38;5;28;01mas\u001b[39;00m \u001b[38;5;21;01mpd\u001b[39;00m\n\u001b[1;32m      3\u001b[0m \u001b[38;5;28;01mfrom\u001b[39;00m \u001b[38;5;21;01mtqdm\u001b[39;00m \u001b[38;5;28;01mimport\u001b[39;00m tqdm\n\u001b[0;32m----> 4\u001b[0m \u001b[38;5;28;01mimport\u001b[39;00m \u001b[38;5;21;01mpybgen\u001b[39;00m\n\u001b[1;32m      5\u001b[0m \u001b[38;5;28;01mfrom\u001b[39;00m \u001b[38;5;21;01mhelpers\u001b[39;00m \u001b[38;5;28;01mimport\u001b[39;00m EnsembleGWASResults\n",
      "\u001b[0;31mModuleNotFoundError\u001b[0m: No module named 'pybgen'"
     ]
    }
   ],
   "source": [
    "import os, sys; os.chdir(f\"{os.environ['HOME']}/01_repos\")\n",
    "from paths import Paths\n",
    "\n",
    "import numpy as np\n",
    "import pandas as pd\n",
    "\n",
    "from tqdm import tqdm\n",
    "import pybgen\n",
    "\n",
    "from helpers import EnsembleGWASResults"
   ]
  },
  {
   "cell_type": "code",
   "execution_count": 4,
   "id": "1657ba75-caa3-4c40-8b55-ec5d9e44fd79",
   "metadata": {},
   "outputs": [
    {
     "ename": "NameError",
     "evalue": "name 'EnsembleGWASResults' is not defined",
     "output_type": "error",
     "traceback": [
      "\u001b[0;31m---------------------------------------------------------------------------\u001b[0m",
      "\u001b[0;31mNameError\u001b[0m                                 Traceback (most recent call last)",
      "Cell \u001b[0;32mIn[4], line 2\u001b[0m\n\u001b[1;32m      1\u001b[0m GWAS_RESULTS_DIR \u001b[38;5;241m=\u001b[39m \u001b[38;5;124m\"\u001b[39m\u001b[38;5;124m/mnt/data/workshop/workshop-user1/output/GWAS/All_partitions_spatiotemporal/\u001b[39m\u001b[38;5;124m\"\u001b[39m\n\u001b[0;32m----> 2\u001b[0m results \u001b[38;5;241m=\u001b[39m \u001b[43mEnsembleGWASResults\u001b[49m(GWAS_RESULTS_DIR)\n",
      "\u001b[0;31mNameError\u001b[0m: name 'EnsembleGWASResults' is not defined"
     ]
    }
   ],
   "source": [
    "GWAS_RESULTS_DIR = \"/mnt/data/workshop/workshop-user1/output/GWAS/All_partitions_spatiotemporal/\"\n",
    "results = EnsembleGWASResults(GWAS_RESULTS_DIR)"
   ]
  },
  {
   "cell_type": "code",
   "execution_count": 5,
   "id": "c3733126-f6b3-4f5f-98e3-e36626cce7eb",
   "metadata": {},
   "outputs": [],
   "source": [
    "snps_df = results.get_lead_snps()"
   ]
  },
  {
   "cell_type": "code",
   "execution_count": 92,
   "id": "6171c1e6-2744-4705-bd30-df06ebc50b95",
   "metadata": {},
   "outputs": [
    {
     "name": "stderr",
     "output_type": "stream",
     "text": [
      "100%|███████████████████████████████████████████████████████████████████████████████████████████████████████████████████████████████████████████████████████████████████████| 22/22 [01:51<00:00,  5.06s/it]\n"
     ]
    }
   ],
   "source": [
    "BGEN_PATH = \"/mnt/data/workshop/workshop-user1/datasets/UKBB/genotypes/imputed/full/ukb22828_c{chromosome}_b0_v3.bgen\"\n",
    "\n",
    "dosages = []\n",
    "snps = []\n",
    "\n",
    "for chromosome in tqdm(range(1, 22+1)):\n",
    "    _dosages = []\n",
    "    filename = BGEN_PATH.format(chromosome=chromosome)\n",
    "    bgen = pybgen.pybgen.PyBGEN(filename)\n",
    "    variants = snps_df[snps_df.CHR == chromosome].SNP\n",
    "    for variant in variants:\n",
    "        _dosages.append(bgen.get_variant(variant)) \n",
    "    snps.extend([dosage[0][0].name for i, dosage in enumerate(_dosages)])\n",
    "    dosages.extend([dosage[0][1] for i, dosage in enumerate(_dosages)])\n",
    "    \n",
    "dosages = np.array(dosages)"
   ]
  },
  {
   "cell_type": "code",
   "execution_count": 1,
   "id": "65274f8d-3629-4423-8ecf-991f143ec3ee",
   "metadata": {},
   "outputs": [
    {
     "ename": "NameError",
     "evalue": "name 'pd' is not defined",
     "output_type": "error",
     "traceback": [
      "\u001b[0;31m---------------------------------------------------------------------------\u001b[0m",
      "\u001b[0;31mNameError\u001b[0m                                 Traceback (most recent call last)",
      "Cell \u001b[0;32mIn[1], line 2\u001b[0m\n\u001b[1;32m      1\u001b[0m samples \u001b[38;5;241m=\u001b[39m \u001b[38;5;124m\"\u001b[39m\u001b[38;5;124m/mnt/data/workshop/workshop-user1/datasets/UKBB/genotypes/imputed/full/487000_samples.txt\u001b[39m\u001b[38;5;124m\"\u001b[39m\n\u001b[0;32m----> 2\u001b[0m samples_df \u001b[38;5;241m=\u001b[39m \u001b[43mpd\u001b[49m\u001b[38;5;241m.\u001b[39mread_csv(samples, header\u001b[38;5;241m=\u001b[39m\u001b[38;5;28;01mNone\u001b[39;00m)\n\u001b[1;32m      3\u001b[0m samples_df \u001b[38;5;241m=\u001b[39m samples_df\u001b[38;5;241m.\u001b[39mrename({\u001b[38;5;241m0\u001b[39m: \u001b[38;5;124m\"\u001b[39m\u001b[38;5;124mID\u001b[39m\u001b[38;5;124m\"\u001b[39m}, axis\u001b[38;5;241m=\u001b[39m\u001b[38;5;241m1\u001b[39m)\n\u001b[1;32m      4\u001b[0m samples_df\u001b[38;5;241m.\u001b[39mID \u001b[38;5;241m=\u001b[39m samples_df\u001b[38;5;241m.\u001b[39mID\u001b[38;5;241m.\u001b[39mastype(\u001b[38;5;28mint\u001b[39m)\n",
      "\u001b[0;31mNameError\u001b[0m: name 'pd' is not defined"
     ]
    }
   ],
   "source": [
    "samples = \"/mnt/data/workshop/workshop-user1/datasets/UKBB/genotypes/imputed/full/487000_samples.txt\"\n",
    "samples_df = pd.read_csv(samples, header=None)\n",
    "samples_df = samples_df.rename({0: \"ID\"}, axis=1)\n",
    "samples_df.ID = samples_df.ID.astype(int)"
   ]
  },
  {
   "cell_type": "code",
   "execution_count": 95,
   "id": "d7c80176-b0d9-4b94-bb60-554cb17dabd3",
   "metadata": {},
   "outputs": [],
   "source": [
    "dosages_df = pd.DataFrame(dosages.T)\n",
    "dosages_df.columns = snps\n",
    "dosages_df.index = samples_df.ID\n",
    "dosages_df.to_csv(f\"{Repos.CARDIAC_MOTION_GWAS}/data/dosages.csv\")"
   ]
  },
  {
   "cell_type": "code",
   "execution_count": 101,
   "id": "e10a01c2-f96c-417d-93f1-74262f43545c",
   "metadata": {},
   "outputs": [],
   "source": []
  },
  {
   "cell_type": "code",
   "execution_count": 109,
   "id": "084806ba-1be0-4699-8390-c37ab5d459e0",
   "metadata": {},
   "outputs": [],
   "source": []
  },
  {
   "cell_type": "code",
   "execution_count": null,
   "id": "5b605ee9-4a73-4e7d-888f-8b196b988d17",
   "metadata": {},
   "outputs": [],
   "source": []
  }
 ],
 "metadata": {
  "kernelspec": {
   "display_name": "Python 3 (ipykernel)",
   "language": "python",
   "name": "python3"
  },
  "language_info": {
   "codemirror_mode": {
    "name": "ipython",
    "version": 3
   },
   "file_extension": ".py",
   "mimetype": "text/x-python",
   "name": "python",
   "nbconvert_exporter": "python",
   "pygments_lexer": "ipython3",
   "version": "3.9.16"
  }
 },
 "nbformat": 4,
 "nbformat_minor": 5
}
