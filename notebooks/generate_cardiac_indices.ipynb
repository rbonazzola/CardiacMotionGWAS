{
 "cells": [
  {
   "cell_type": "markdown",
   "id": "435e9d1a-53be-41fb-bad4-877994fa0287",
   "metadata": {},
   "source": [
    "# Cardiac index generation"
   ]
  },
  {
   "cell_type": "markdown",
   "id": "a05fdc51-1b4d-425b-8338-43d7caf867a8",
   "metadata": {},
   "source": [
    "For functional PCs, look at the `fPCA.ipynb` notebook."
   ]
  },
  {
   "cell_type": "code",
   "execution_count": 2,
   "id": "17a0d054-1439-414c-9dc0-7cd43535b9b3",
   "metadata": {},
   "outputs": [],
   "source": [
    "import os"
   ]
  },
  {
   "cell_type": "code",
   "execution_count": 3,
   "id": "d4f2152c-3c9a-4dab-ac22-6f46ab4f11a5",
   "metadata": {},
   "outputs": [],
   "source": [
    "os.chdir(\"/home/user/01_repos/\")"
   ]
  },
  {
   "cell_type": "code",
   "execution_count": 4,
   "id": "a368c3e4-aaf7-4d01-ab47-6eb35b603506",
   "metadata": {},
   "outputs": [],
   "source": [
    "from paths import Paths\n",
    "\n",
    "import os\n",
    "import numpy as np\n",
    "import pandas as pd\n",
    "from typing import Dict\n",
    "\n",
    "import matplotlib.pyplot as plt\n",
    "from ipywidgets import interact\n",
    "import ipywidgets as widgets\n",
    "\n",
    "import glob\n",
    "import re\n",
    "from tqdm import tqdm"
   ]
  },
  {
   "cell_type": "code",
   "execution_count": 5,
   "id": "04200bb0-e696-45da-991c-625d812ab2bc",
   "metadata": {},
   "outputs": [],
   "source": [
    "def get_id_from_path(file, cardiac_indices_regex=f\"{Paths.Data.meshes_results}/(.*)/cardiac_indices.csv\"):\n",
    "    return re.match(cardiac_indices_regex, file).group(1)\n",
    "\n",
    "def collect_cardiac_indices(output_file=\"data/cardiac_indices_mine_{n}.csv\"):\n",
    "    \n",
    "    cardiac_indices_filepattern = f\"{Paths.Data.meshes_results}/*/cardiac_indices.csv\"\n",
    "    cardiac_indices_regex = f\"{Paths.Data.meshes_results}/(.*)/cardiac_indices.csv\"\n",
    "    \n",
    "    files = glob.glob(cardiac_indices_filepattern)\n",
    "    \n",
    "    files = sorted(files)\n",
    "    \n",
    "    dfs = []\n",
    "    for file in tqdm(files):\n",
    "        df = pd.read_csv(file).assign(ID=get_id_from_path(file))\n",
    "        df = df.replace(0, np.nan)\n",
    "        dfs.append(df)\n",
    "        \n",
    "    all_indices = pd.concat(dfs)\n",
    "    all_indices = all_indices[[\"ID\", \"timeframe\", \"LVV\", \"LVM\", \"RVV\"]]\n",
    "    all_indices[\"BVV\"] = all_indices.LVV + all_indices.RVV\n",
    "    all_indices.to_csv(output_file.format(n=len(files)), index=False)\n",
    "    \n",
    "    return all_indices"
   ]
  },
  {
   "cell_type": "code",
   "execution_count": 8,
   "id": "8d5d8234-e09f-48be-b13a-ec9220ef0de8",
   "metadata": {
    "tags": []
   },
   "outputs": [
    {
     "data": {
      "text/html": [
       "<div>\n",
       "<style scoped>\n",
       "    .dataframe tbody tr th:only-of-type {\n",
       "        vertical-align: middle;\n",
       "    }\n",
       "\n",
       "    .dataframe tbody tr th {\n",
       "        vertical-align: top;\n",
       "    }\n",
       "\n",
       "    .dataframe thead th {\n",
       "        text-align: right;\n",
       "    }\n",
       "</style>\n",
       "<table border=\"1\" class=\"dataframe\">\n",
       "  <thead>\n",
       "    <tr style=\"text-align: right;\">\n",
       "      <th></th>\n",
       "      <th></th>\n",
       "      <th>LVV</th>\n",
       "      <th>LVM</th>\n",
       "      <th>RVV</th>\n",
       "      <th>BVV</th>\n",
       "    </tr>\n",
       "    <tr>\n",
       "      <th>ID</th>\n",
       "      <th>timeframe</th>\n",
       "      <th></th>\n",
       "      <th></th>\n",
       "      <th></th>\n",
       "      <th></th>\n",
       "    </tr>\n",
       "  </thead>\n",
       "  <tbody>\n",
       "    <tr>\n",
       "      <th>4486766</th>\n",
       "      <th>49</th>\n",
       "      <td>159832.0</td>\n",
       "      <td>147338.10</td>\n",
       "      <td>129115.0</td>\n",
       "      <td>288947.0</td>\n",
       "    </tr>\n",
       "    <tr>\n",
       "      <th>2188256</th>\n",
       "      <th>24</th>\n",
       "      <td>35975.0</td>\n",
       "      <td>78185.10</td>\n",
       "      <td>29299.0</td>\n",
       "      <td>65274.0</td>\n",
       "    </tr>\n",
       "    <tr>\n",
       "      <th>1006232</th>\n",
       "      <th>41</th>\n",
       "      <td>95970.0</td>\n",
       "      <td>119732.55</td>\n",
       "      <td>88840.0</td>\n",
       "      <td>184810.0</td>\n",
       "    </tr>\n",
       "    <tr>\n",
       "      <th>2259628</th>\n",
       "      <th>37</th>\n",
       "      <td>75496.0</td>\n",
       "      <td>77101.50</td>\n",
       "      <td>67620.0</td>\n",
       "      <td>143116.0</td>\n",
       "    </tr>\n",
       "    <tr>\n",
       "      <th>4438731</th>\n",
       "      <th>48</th>\n",
       "      <td>142265.0</td>\n",
       "      <td>143371.20</td>\n",
       "      <td>97843.0</td>\n",
       "      <td>240108.0</td>\n",
       "    </tr>\n",
       "    <tr>\n",
       "      <th>5040312</th>\n",
       "      <th>5</th>\n",
       "      <td>161649.0</td>\n",
       "      <td>145102.65</td>\n",
       "      <td>140660.0</td>\n",
       "      <td>302309.0</td>\n",
       "    </tr>\n",
       "    <tr>\n",
       "      <th>3089523</th>\n",
       "      <th>21</th>\n",
       "      <td>40549.0</td>\n",
       "      <td>90871.20</td>\n",
       "      <td>25891.0</td>\n",
       "      <td>66440.0</td>\n",
       "    </tr>\n",
       "    <tr>\n",
       "      <th>3346456</th>\n",
       "      <th>5</th>\n",
       "      <td>NaN</td>\n",
       "      <td>NaN</td>\n",
       "      <td>NaN</td>\n",
       "      <td>NaN</td>\n",
       "    </tr>\n",
       "    <tr>\n",
       "      <th>1554777</th>\n",
       "      <th>42</th>\n",
       "      <td>118097.0</td>\n",
       "      <td>105279.30</td>\n",
       "      <td>112867.0</td>\n",
       "      <td>230964.0</td>\n",
       "    </tr>\n",
       "    <tr>\n",
       "      <th>1935798</th>\n",
       "      <th>29</th>\n",
       "      <td>122639.0</td>\n",
       "      <td>122006.85</td>\n",
       "      <td>126037.0</td>\n",
       "      <td>248676.0</td>\n",
       "    </tr>\n",
       "    <tr>\n",
       "      <th>2062799</th>\n",
       "      <th>29</th>\n",
       "      <td>70366.0</td>\n",
       "      <td>122042.55</td>\n",
       "      <td>83970.0</td>\n",
       "      <td>154336.0</td>\n",
       "    </tr>\n",
       "    <tr>\n",
       "      <th>3437297</th>\n",
       "      <th>35</th>\n",
       "      <td>73193.0</td>\n",
       "      <td>88614.75</td>\n",
       "      <td>71366.0</td>\n",
       "      <td>144559.0</td>\n",
       "    </tr>\n",
       "    <tr>\n",
       "      <th>3608333</th>\n",
       "      <th>1</th>\n",
       "      <td>117404.0</td>\n",
       "      <td>104482.35</td>\n",
       "      <td>94860.0</td>\n",
       "      <td>212264.0</td>\n",
       "    </tr>\n",
       "    <tr>\n",
       "      <th>3163048</th>\n",
       "      <th>9</th>\n",
       "      <td>86851.0</td>\n",
       "      <td>154309.05</td>\n",
       "      <td>73811.0</td>\n",
       "      <td>160662.0</td>\n",
       "    </tr>\n",
       "    <tr>\n",
       "      <th>4787663</th>\n",
       "      <th>32</th>\n",
       "      <td>83231.0</td>\n",
       "      <td>85871.10</td>\n",
       "      <td>77807.0</td>\n",
       "      <td>161038.0</td>\n",
       "    </tr>\n",
       "    <tr>\n",
       "      <th>4360834</th>\n",
       "      <th>26</th>\n",
       "      <td>29806.0</td>\n",
       "      <td>71871.45</td>\n",
       "      <td>32313.0</td>\n",
       "      <td>62119.0</td>\n",
       "    </tr>\n",
       "    <tr>\n",
       "      <th>3350196</th>\n",
       "      <th>4</th>\n",
       "      <td>94075.0</td>\n",
       "      <td>83002.50</td>\n",
       "      <td>81403.0</td>\n",
       "      <td>175478.0</td>\n",
       "    </tr>\n",
       "    <tr>\n",
       "      <th>4958937</th>\n",
       "      <th>4</th>\n",
       "      <td>101733.0</td>\n",
       "      <td>86298.45</td>\n",
       "      <td>97610.0</td>\n",
       "      <td>199343.0</td>\n",
       "    </tr>\n",
       "    <tr>\n",
       "      <th>3769909</th>\n",
       "      <th>19</th>\n",
       "      <td>55883.0</td>\n",
       "      <td>151037.25</td>\n",
       "      <td>52698.0</td>\n",
       "      <td>108581.0</td>\n",
       "    </tr>\n",
       "    <tr>\n",
       "      <th>5970779</th>\n",
       "      <th>10</th>\n",
       "      <td>95539.0</td>\n",
       "      <td>131675.25</td>\n",
       "      <td>79865.0</td>\n",
       "      <td>175404.0</td>\n",
       "    </tr>\n",
       "  </tbody>\n",
       "</table>\n",
       "</div>"
      ],
      "text/plain": [
       "                        LVV        LVM       RVV       BVV\n",
       "ID      timeframe                                         \n",
       "4486766 49         159832.0  147338.10  129115.0  288947.0\n",
       "2188256 24          35975.0   78185.10   29299.0   65274.0\n",
       "1006232 41          95970.0  119732.55   88840.0  184810.0\n",
       "2259628 37          75496.0   77101.50   67620.0  143116.0\n",
       "4438731 48         142265.0  143371.20   97843.0  240108.0\n",
       "5040312 5          161649.0  145102.65  140660.0  302309.0\n",
       "3089523 21          40549.0   90871.20   25891.0   66440.0\n",
       "3346456 5               NaN        NaN       NaN       NaN\n",
       "1554777 42         118097.0  105279.30  112867.0  230964.0\n",
       "1935798 29         122639.0  122006.85  126037.0  248676.0\n",
       "2062799 29          70366.0  122042.55   83970.0  154336.0\n",
       "3437297 35          73193.0   88614.75   71366.0  144559.0\n",
       "3608333 1          117404.0  104482.35   94860.0  212264.0\n",
       "3163048 9           86851.0  154309.05   73811.0  160662.0\n",
       "4787663 32          83231.0   85871.10   77807.0  161038.0\n",
       "4360834 26          29806.0   71871.45   32313.0   62119.0\n",
       "3350196 4           94075.0   83002.50   81403.0  175478.0\n",
       "4958937 4          101733.0   86298.45   97610.0  199343.0\n",
       "3769909 19          55883.0  151037.25   52698.0  108581.0\n",
       "5970779 10          95539.0  131675.25   79865.0  175404.0"
      ]
     },
     "execution_count": 8,
     "metadata": {},
     "output_type": "execute_result"
    }
   ],
   "source": [
    "# all_indices_df = collect_cardiac_indices()\n",
    "all_indices_df = pd.read_csv(\"CardiacMotionGWAS//data/cardiac_indices_mine_61390.csv\")\n",
    "all_indices_df = all_indices_df.set_index([\"ID\", \"timeframe\"])\n",
    "all_indices_df.sample(20)"
   ]
  },
  {
   "cell_type": "markdown",
   "id": "5524d6cc-e5d9-422a-a0e9-e43313bcfbde",
   "metadata": {},
   "source": [
    "### Discard subjects with \"bad\" curves"
   ]
  },
  {
   "cell_type": "markdown",
   "id": "30cfdf9b-ecdd-4831-a023-033a5cd65e90",
   "metadata": {},
   "source": [
    "Discard subjects with:\n",
    "- many times where volume is higher than the supposed ED.\n",
    "- implausible ES timeframes\n",
    "- rows with any negative values"
   ]
  },
  {
   "cell_type": "code",
   "execution_count": 10,
   "id": "a48d20fa-9428-44f7-bf2f-beffaf6c3d15",
   "metadata": {},
   "outputs": [],
   "source": [
    "normalized_vols = all_indices_df.groupby(\"ID\").transform(lambda x: x / x.iloc[0])\n",
    "t_above_1 = (normalized_vols[\"LVV\"] > 1.1).groupby(\"ID\").aggregate(sum)\n",
    "bad_ids = t_above_1[t_above_1 > 5].index\n",
    "bad_ids = set(bad_ids)\n",
    "\n",
    "def ff(x):\n",
    "    try:\n",
    "        return x[1]\n",
    "    except:\n",
    "        pass\n",
    "\n",
    "end_systole_df = all_indices_df.groupby(\"ID\").idxmin(axis=0)\n",
    "es_phase = end_systole_df[\"BVV\"].apply(ff)\n",
    "es_phase = es_phase[~pd.isna(es_phase)]\n",
    "\n",
    "bad_ids = bad_ids.union(set(es_phase[(es_phase < 10) | (es_phase > 35)].index))\n",
    "bad_ids = bad_ids.union(all_indices_df[(all_indices_df < 0).any(axis=1)].index.get_level_values(\"ID\").unique())"
   ]
  },
  {
   "cell_type": "code",
   "execution_count": 12,
   "id": "b08b44e9-c7d5-49d8-a9d0-46e6ddcca632",
   "metadata": {},
   "outputs": [
    {
     "data": {
      "text/plain": [
       "1015"
      ]
     },
     "execution_count": 12,
     "metadata": {},
     "output_type": "execute_result"
    }
   ],
   "source": [
    "len(bad_ids)"
   ]
  },
  {
   "cell_type": "markdown",
   "id": "da0736de-4eb2-4768-adf8-2840286e62c3",
   "metadata": {},
   "source": [
    "#### Examine volume curves for bad IDs"
   ]
  },
  {
   "cell_type": "code",
   "execution_count": null,
   "id": "83278017-46b4-44c7-b758-2e6f399b3a4d",
   "metadata": {},
   "outputs": [],
   "source": [
    "options = all_indices_df.index.get_level_values(\"ID\").unique()[:50]\n",
    "options = bad_ids\n",
    "# options = ids\n",
    "ids_w = widgets.Select(options=options)\n",
    "\n",
    "@interact\n",
    "def show_volume_curve(id=ids_w):\n",
    "        \n",
    "    BVV = all_indices_df[all_indices_df.index.get_level_values(\"ID\") == id][\"BVV\"]#.iloc[:,0]\n",
    "    #RVV = all_indices_df[all_indices_df.index.get_level_values(\"ID\") == id].iloc[:,2]\n",
    "    #BVV = LVV + RVV\n",
    "    # print(BVV)\n",
    "    plt.plot(BVV.to_numpy());"
   ]
  },
  {
   "cell_type": "code",
   "execution_count": 5,
   "id": "cfb4a8ba-a542-4eaa-8509-f31d93c3a8b4",
   "metadata": {},
   "outputs": [],
   "source": [
    "all_indices_df = all_indices_df[pd.Series(all_indices_df.index.get_level_values(\"ID\")).apply(lambda x: x not in bad_ids).to_list()]"
   ]
  },
  {
   "cell_type": "code",
   "execution_count": 6,
   "id": "19ab6087-1d26-4b3c-bedb-f99238f81e1f",
   "metadata": {},
   "outputs": [],
   "source": [
    "end_systole_indices = all_indices_df.groupby(\"ID\").idxmin(axis=0).BVV\n",
    "end_systole_indices = [x for x in end_systole_indices if isinstance(x, tuple)]"
   ]
  },
  {
   "cell_type": "code",
   "execution_count": null,
   "id": "425252f6-5669-4c9e-9535-3db9d56a7245",
   "metadata": {},
   "outputs": [],
   "source": [
    "lvedv = all_indices_df[all_indices_df.index.get_level_values(\"timeframe\") == 1].LVV.reset_index().drop(\"timeframe\", axis=1).set_index(\"ID\")\n",
    "lvedv = lvedv.rename({\"LVV\": \"LVEDV\"}, axis=1)\n",
    "rvedv = all_indices_df[all_indices_df.index.get_level_values(\"timeframe\") == 1].RVV.reset_index().drop(\"timeframe\", axis=1).set_index(\"ID\")\n",
    "rvedv = rvedv.rename({\"RVV\": \"RVEDV\"}, axis=1)\n",
    "\n",
    "lvesv = all_indices_df.loc[end_systole_indices].LVV.reset_index().drop(\"timeframe\", axis=1).set_index(\"ID\")\n",
    "lvesv = lvesv.rename({\"LVV\": \"LVESV\"}, axis=1)\n",
    "rvesv = all_indices_df.loc[end_systole_indices].RVV.reset_index().drop(\"timeframe\", axis=1).set_index(\"ID\")\n",
    "rvesv = rvesv.rename({\"RVV\": \"RVESV\"}, axis=1)"
   ]
  },
  {
   "cell_type": "code",
   "execution_count": null,
   "id": "51708b4f-ca06-4f24-94b1-887a55cea4d7",
   "metadata": {},
   "outputs": [],
   "source": [
    "lvm = all_indices_df.reset_index()[[\"ID\", \"timeframe\", \"LVM\"]]\n",
    "lvm_ed = lvm[lvm.timeframe == 1].set_index(\"ID\").drop(\"timeframe\", axis=1).rename({\"LVM\": \"LVM_ED\"}, axis=1)\n",
    "lvm_mean = lvm.groupby(\"ID\").mean().drop(\"timeframe\", axis=1).rename({\"LVM\": \"LVM_MEAN\"}, axis=1)"
   ]
  },
  {
   "cell_type": "code",
   "execution_count": null,
   "id": "7d65e8ee-f265-4812-b92f-68230cc9399a",
   "metadata": {},
   "outputs": [],
   "source": [
    "cardiac_indices = pd.concat([lvedv, lvesv, rvedv, rvesv, lvm_ed, lvm_mean], axis=1)\n",
    "cardiac_indices = cardiac_indices.assign(LVSV=cardiac_indices.LVEDV-cardiac_indices.LVESV)\n",
    "cardiac_indices = cardiac_indices.assign(RVSV=cardiac_indices.RVEDV-cardiac_indices.RVESV)\n",
    "cardiac_indices = cardiac_indices.assign(LVEF=cardiac_indices.LVSV/cardiac_indices.LVEDV)\n",
    "cardiac_indices = cardiac_indices.assign(RVEF=cardiac_indices.RVSV/cardiac_indices.RVEDV)\n",
    "cardiac_indices.to_csv(\"data/cardiac_indices_ed_and_es.csv\")"
   ]
  },
  {
   "cell_type": "markdown",
   "id": "4d71d870-4ad2-4d75-b712-53cda038a5ef",
   "metadata": {},
   "source": [
    "___"
   ]
  },
  {
   "cell_type": "markdown",
   "id": "ccfb77bd-9b84-4223-9199-4751c6b4c0ce",
   "metadata": {},
   "source": [
    "# Find FWHM of volume curves"
   ]
  },
  {
   "cell_type": "code",
   "execution_count": null,
   "id": "df953bac-134d-4b07-be42-fc7d92c0dd8f",
   "metadata": {},
   "outputs": [],
   "source": [
    "def get_index_at_zero_height(indices, values):\n",
    "    \n",
    "    for index in indices:\n",
    "        \n",
    "        if (values[index] * values[index+1]) < 0:\n",
    "            final_index = index + (abs(values[index]) / (abs(values[index+1]) + abs(values[index])))\n",
    "            return final_index\n",
    "    \n",
    "\n",
    "def find_half_peak_width_with_midpoint(y_values):\n",
    "    \n",
    "    x_values = y_values.index\n",
    "    \n",
    "    # Find the index of the maximum value (peak)\n",
    "    peak_index = y_values.argmin()\n",
    "\n",
    "    # Calculate half of the peak's height\n",
    "    half_height = max(y_values) - (max(y_values) - min(y_values)) / 2\n",
    "\n",
    "    # Find the index of the points closest to half the peak's height on both sides\n",
    "    left_index = get_index_at_zero_height(range(1, peak_index), (y_values - half_height))\n",
    "    right_index = get_index_at_zero_height(range(peak_index, len(y_values)), (y_values - half_height))\n",
    "    \n",
    "    # Calculate the width at half of the peak's height\n",
    "    width = right_index - left_index # x_values[right_index] - x_values[left_index]\n",
    "\n",
    "    # Calculate the midpoint of the interval\n",
    "    midpoint = (right_index + left_index) / 2\n",
    "\n",
    "    return width, left_index, right_index, midpoint, peak_index\n"
   ]
  },
  {
   "cell_type": "code",
   "execution_count": null,
   "id": "b880a370-766e-4d98-bc7b-261730f0cfe2",
   "metadata": {},
   "outputs": [],
   "source": [
    "subject_ids = all_indices_df.index.get_level_values(\"ID\").unique()"
   ]
  },
  {
   "cell_type": "code",
   "execution_count": null,
   "id": "1e1367c5-fb9c-4c2c-a5df-a2e80d19028e",
   "metadata": {
    "tags": []
   },
   "outputs": [],
   "source": [
    "indices_dict = {}\n",
    "\n",
    "for subject_id in tqdm(subject_ids):\n",
    "\n",
    "    subject_curves = all_indices_df[all_indices_df.index.get_level_values(\"ID\") == subject_id]\n",
    "    subject_curves = subject_curves.reset_index().set_index(\"timeframe\")\n",
    "    \n",
    "    try:\n",
    "        width, left_t, right_t, midpoint = find_half_peak_width_with_midpoint(subject_curves.LVV)\n",
    "        indices_dict[subject_id] = (width, left_t, right_t, midpoint)\n",
    "    except:\n",
    "        pass    \n",
    "    \n",
    "    # plt.plot(subject_curves.LVV.index, subject_curves.LVV)\n",
    "    # plt.axvline(x=left_t, color='red', linestyle='--')\n",
    "    # plt.axvline(x=midpoint, color='red', linestyle='--')\n",
    "    # plt.axvline(x=right_t, color='red', linestyle='--')\n",
    "    # plt.show()"
   ]
  },
  {
   "cell_type": "code",
   "execution_count": null,
   "id": "4c298085-a86f-46c7-9feb-4a590d5b3e4a",
   "metadata": {},
   "outputs": [],
   "source": [
    "fwhm_df = pd.DataFrame(indices_dict).transpose()\n",
    "fwhm_df.columns = [\"FWHM\", \"left_half_height_index\", \"right_half_height_index\", \"midpoint\"]"
   ]
  },
  {
   "cell_type": "code",
   "execution_count": null,
   "id": "1f241253-76ae-4703-9999-ad22e10e8c87",
   "metadata": {},
   "outputs": [],
   "source": [
    "fwhm_df[[\"FWHM\", \"midpoint\"]].to_csv(f\"/home/user/01_repos/CardiacMotionGWAS/data/LVV_FWHM.csv\")"
   ]
  },
  {
   "cell_type": "code",
   "execution_count": null,
   "id": "1d1846be-e418-4221-899c-35a028f20e98",
   "metadata": {},
   "outputs": [],
   "source": [
    "@interact\n",
    "def show_curves_with_vl(subject_id=widgets.Select(options=fwhm_df.index)):\n",
    "    \n",
    "    subject_curves = all_indices_df[all_indices_df.index.get_level_values(\"ID\") == subject_id]\n",
    "    subject_curves = subject_curves.reset_index().set_index(\"timeframe\")\n",
    "    \n",
    "    lines_for_subject = fwhm_df.loc[subject_id]\n",
    "    \n",
    "    plt.plot(subject_curves.LVV.index, subject_curves.LVV)\n",
    "    plt.axvline(x=lines_for_subject.left_half_height_index, color='red', linestyle='--')\n",
    "    plt.axvline(x=lines_for_subject.midpoint, color='red', linestyle='--')\n",
    "    plt.axvline(x=lines_for_subject.right_half_height_index, color='red', linestyle='--')\n",
    "    plt.show()"
   ]
  },
  {
   "cell_type": "markdown",
   "id": "6cc7be73-d40b-416a-8a4e-c2774d0b50ff",
   "metadata": {},
   "source": [
    "# Generate local indices"
   ]
  },
  {
   "cell_type": "markdown",
   "id": "da2a1a6b-5fa1-453b-95e3-731cacb2aa14",
   "metadata": {},
   "source": [
    "Read data"
   ]
  },
  {
   "cell_type": "code",
   "execution_count": 13,
   "id": "c8720344-c31d-4649-9841-ecc4c0162973",
   "metadata": {},
   "outputs": [],
   "source": [
    "aha_thickness_df = pd.read_csv(\"aha_thickness.csv\").set_index([\"subject_id\", \"timeframe\"]).replace(0, np.nan)\n",
    "cardiac_indices = pd.read_csv(\"data/cardiac_indices_ed_and_es.csv\").rename({\"ID\": \"subject_id\"}, axis=1).set_index(\"subject_id\")\n",
    "cbrt_lvedv_df = cardiac_indices.LVEDV**(1/3)\n",
    "cbrt_lvedv_df.index.name = \"ID\"\n",
    "\n",
    "cbrt_lvesv_df = cardiac_indices.LVESV**(1/3)\n",
    "cbrt_lvesv_df.index.name = \"ID\""
   ]
  },
  {
   "cell_type": "markdown",
   "id": "6f81bd44-dff1-4474-b529-f7d77e8f97af",
   "metadata": {},
   "source": [
    "### Wall thickness"
   ]
  },
  {
   "cell_type": "code",
   "execution_count": 14,
   "id": "d7c7abf2-70e4-4d27-95ca-2e67b0e1adba",
   "metadata": {
    "tags": []
   },
   "outputs": [],
   "source": [
    "common_indices = set(aha_thickness_df.index).intersection(end_systole_indices)\n",
    "common_indices = [ (subject, phase) for subject, phase in common_indices if subject not in bad_ids ]"
   ]
  },
  {
   "cell_type": "code",
   "execution_count": 16,
   "id": "1e6aecb3-f73f-4a95-b9c4-749ccfbadb0b",
   "metadata": {},
   "outputs": [],
   "source": [
    "thickness_ES = aha_thickness_df.loc[common_indices]\n",
    "thickness_ES.columns = [f\"thickness_ES_AHA{str(x).zfill(2)}\" for x in thickness_ES.columns]\n",
    "thickness_ES = thickness_ES.reset_index()\n",
    "thickness_ES = thickness_ES.rename({\"subject_id\": \"ID\"}, axis=1)\n",
    "thickness_ES = thickness_ES.dropna()\n",
    "thickness_ES = thickness_ES.drop(\"timeframe\", axis=1)\n",
    "thickness_ES = thickness_ES.set_index(\"ID\")\n",
    "thickness_ES = thickness_ES.merge(cbrt_lvesv_df, left_index=True, right_index=True)\n",
    "\n",
    "rel_thickness_ES = thickness_ES.apply(lambda x: x / x.LVESV, axis=1)\n",
    "rel_thickness_ES = rel_thickness_ES.drop(\"LVESV\", axis=1)\n",
    "rel_thickness_ES.columns = [ f\"rel_{col}\" for col in rel_thickness_ES.columns ]\n",
    "\n",
    "thickness_ES = thickness_ES.drop(\"LVESV\", axis=1)"
   ]
  },
  {
   "cell_type": "code",
   "execution_count": 17,
   "id": "391afce1-40b2-433f-8f2a-ba8bd1bc8a1e",
   "metadata": {
    "tags": []
   },
   "outputs": [],
   "source": [
    "thickness_ED = aha_thickness_df.reset_index()[\n",
    "    aha_thickness_df.reset_index().timeframe == 0\n",
    "].drop(\"timeframe\", axis=1).reset_index(drop=True)\n",
    "\n",
    "thickness_ED = thickness_ED.dropna()\n",
    "thickness_ED = thickness_ED.rename({\"subject_id\": \"ID\"}, axis=1)\n",
    "thickness_ED = thickness_ED.set_index(\"ID\")\n",
    "thickness_ED.columns = [f\"thickness_ED_AHA{str(x).zfill(2)}\" for x in thickness_ED.columns]\n",
    "thickness_ED = thickness_ED.merge(cbrt_lvedv_df, left_index=True, right_index=True)\n",
    "rel_thickness_ED = thickness_ED.apply(lambda x: x / x.LVEDV, axis=1)\n",
    "rel_thickness_ED = rel_thickness_ED.drop(\"LVEDV\", axis=1)\n",
    "rel_thickness_ED.columns = [ f\"rel_{col}\" for col in rel_thickness_ED.columns ]\n",
    "\n",
    "thickness_ED = thickness_ED.drop(\"LVEDV\", axis=1)"
   ]
  },
  {
   "cell_type": "code",
   "execution_count": 23,
   "id": "c6a7b037-fa89-4fc2-8ef4-ee228f9ef3c6",
   "metadata": {},
   "outputs": [],
   "source": [
    "thickness_ED[\"avg_thickness_ED\"] = thickness_ED.mean(axis=1)\n",
    "thickness_ES[\"avg_thickness_ES\"] = thickness_ES.mean(axis=1)\n",
    "rel_thickness_ED[\"avg_rel_thickness_ED\"] = rel_thickness_ED.mean(axis=1)\n",
    "rel_thickness_ES[\"avg_rel_thickness_ES\"] = rel_thickness_ES.mean(axis=1)"
   ]
  },
  {
   "cell_type": "code",
   "execution_count": 25,
   "id": "381f6bd5-f2bf-493d-8a14-e6ddbca5faa6",
   "metadata": {},
   "outputs": [],
   "source": [
    "thickness_ED.to_csv(f\"{Paths.Repos.CARDIAC_MOTION_GWAS}/data/thickness_end_diastole.csv\")\n",
    "rel_thickness_ED.to_csv(f\"{Paths.Repos.CARDIAC_MOTION_GWAS}/data/relative_thickness_end_diastole.csv\")\n",
    "thickness_ES.to_csv(f\"{Paths.Repos.CARDIAC_MOTION_GWAS}/data/thickness_end_systole.csv\")\n",
    "rel_thickness_ES.to_csv(f\"{Paths.Repos.CARDIAC_MOTION_GWAS}/data/relative_thickness_end_systole.csv\")"
   ]
  },
  {
   "cell_type": "markdown",
   "id": "0a605acf-0718-4b3f-ac20-0ffa0396bebd",
   "metadata": {},
   "source": [
    "### Wall thickening"
   ]
  },
  {
   "cell_type": "code",
   "execution_count": null,
   "id": "7ce57dec-fcb7-4aaf-9132-cb19c78b0a5b",
   "metadata": {},
   "outputs": [],
   "source": [
    "import pickle as pkl"
   ]
  },
  {
   "cell_type": "code",
   "execution_count": null,
   "id": "e370f0a6-6364-4124-892a-cc64681e7267",
   "metadata": {},
   "outputs": [],
   "source": [
    "# ids = [x[:7] for x in os.listdir(f\"{Paths.Repos.CARDIAC_MOTION}/notebooks/thicknesses/\")]\n",
    "# aha_thickness_lst = []\n",
    "# \n",
    "# for id in tqdm(ids):\n",
    "#     try:\n",
    "#       aha_thickness = np.load(f\"{Paths.Repos.CARDIAC_MOTION}/notebooks/thicknesses/{id}_thickness_per_aha.npy\")\n",
    "#       aha_thickness = pd.DataFrame(aha_thickness).reset_index().rename({\"index\": \"timeframe\"}, axis=1).assign(subject_id=lambda x: id).set_index([\"subject_id\", \"timeframe\"])\n",
    "#       aha_thickness_lst.append(aha_thickness)\n",
    "#     except FileNotFoundError:\n",
    "#         pass\n",
    "#     \n",
    "# aha_thickness_df = pd.concat(aha_thickness_lst)\n",
    "# aha_thickness_df.columns = aha_thickness_df.columns + 1\n",
    "# aha_thickness_df.to_csv(\"aha_thickness.csv\", index=True)"
   ]
  },
  {
   "cell_type": "code",
   "execution_count": null,
   "id": "d9a491f4-764d-4d2c-b7ee-9bc455d3bfdf",
   "metadata": {},
   "outputs": [],
   "source": [
    "aha_thickening_df = aha_thickness_df.reset_index().groupby(\"subject_id\").max() - aha_thickness_df.reset_index().groupby(\"subject_id\").min()\n",
    "aha_thickening_df = aha_thickening_df.drop(\"timeframe\", axis=1)"
   ]
  },
  {
   "cell_type": "code",
   "execution_count": null,
   "id": "228bafe2-9b4d-46cd-9986-4e084ae1c7cf",
   "metadata": {},
   "outputs": [],
   "source": [
    "thickening_rltv2vol = aha_thickening_df.merge(\n",
    "    cbrt_lvedv_df, left_index=True, right_index=True\n",
    ").apply(lambda x: x/x.LVEDV, axis=1)"
   ]
  },
  {
   "cell_type": "code",
   "execution_count": null,
   "id": "8be55f77-00db-40bf-9734-e0d1de9486d1",
   "metadata": {},
   "outputs": [],
   "source": [
    "kk = relative_wall_thickening[[\"1\"]].merge(thickening_rltv2vol[[\"1\"]], left_index=True, right_index=True)\n",
    "plt.scatter(kk[\"1_x\"], kk[\"1_y\"], alpha=0.1, s=0.2)\n",
    "plt.xlim((1.5, 3))\n",
    "plt.ylim((0.05, 0.2))"
   ]
  },
  {
   "cell_type": "code",
   "execution_count": null,
   "id": "776716d3-fce1-4520-aae9-58bfe38450c9",
   "metadata": {},
   "outputs": [],
   "source": [
    "relative_wall_thickening = aha_thickness_df.reset_index().groupby(\"subject_id\").max() / aha_thickness_df.reset_index().groupby(\"subject_id\").min()\n",
    "relative_wall_thickening = relative_wall_thickening.drop(\"timeframe\", axis=1)\n",
    "relative_wall_thickening = relative_wall_thickening.dropna()\n",
    "relative_wall_thickening = relative_wall_thickening[relative_wall_thickening[\"1\"] > 1.1]\n",
    "relative_wall_thickening.columns = [ f\"relative_wall_thickness_aha{str(i).zfill(2)}\" for i in range(1,18) ]\n",
    "relative_wall_thickening.to_csv(f\"{Paths.Repos.CARDIAC_MOTION}/data/relative_wall_thickening.csv\")"
   ]
  },
  {
   "cell_type": "code",
   "execution_count": null,
   "id": "d6c9a0d9-a588-4de9-a415-b1d1fd3f67e4",
   "metadata": {},
   "outputs": [],
   "source": [
    "plt.hist(relative_wall_thickening[\"1\"], bins=100);"
   ]
  },
  {
   "cell_type": "code",
   "execution_count": null,
   "id": "488d2270-524e-45d1-a784-33882b928d13",
   "metadata": {},
   "outputs": [],
   "source": [
    "absolute_wall_thickening = aha_thickness_df.reset_index().groupby(\"subject_id\").max() - aha_thickness_df.reset_index().groupby(\"subject_id\").min()\n",
    "absolute_wall_thickening = absolute_wall_thickening.drop(\"timeframe\", axis=1)\n",
    "absolute_wall_thickening = absolute_wall_thickening.loc[relative_wall_thickening.index]\n",
    "absolute_wall_thickening.columns = [ f\"absolute_wall_thickness_aha{str(i).zfill(2)}\" for i in range(1,18) ]\n",
    "absolute_wall_thickening.to_csv(f\"{Paths.Repos.CARDIAC_MOTION}/data/absolute_wall_thickening.csv\")"
   ]
  },
  {
   "cell_type": "code",
   "execution_count": null,
   "id": "31d2e0fa-18e9-4be3-8322-6a943787f11f",
   "metadata": {},
   "outputs": [],
   "source": [
    "@interact\n",
    "def show_curve_per_segment(\n",
    "    subject_id=4932980,#aha_thickness_df.index.get_level_values(\"subject_id\").unique()[:20],\n",
    "    aha_segment=widgets.IntSlider(min=1,max=17)\n",
    "):\n",
    "    \n",
    "    values = aha_thickness_df.loc[subject_id, str(aha_segment)]\n",
    "    plt.plot(values.index, values)\n",
    "    \n",
    "    width, l_t, r_t, midpoint, peak_index = find_half_peak_width_with_midpoint(-values)\n",
    "   \n",
    "    plt.axvline(x=l_t, color='red', linestyle='--')\n",
    "    plt.axvline(x=peak_index, color='red', linestyle='--')\n",
    "    plt.axvline(r_t, color='red', linestyle='--')\n",
    "    plt.show()"
   ]
  }
 ],
 "metadata": {
  "kernelspec": {
   "display_name": "Python 3 (ipykernel)",
   "language": "python",
   "name": "python3"
  },
  "language_info": {
   "codemirror_mode": {
    "name": "ipython",
    "version": 3
   },
   "file_extension": ".py",
   "mimetype": "text/x-python",
   "name": "python",
   "nbconvert_exporter": "python",
   "pygments_lexer": "ipython3",
   "version": "3.9.16"
  }
 },
 "nbformat": 4,
 "nbformat_minor": 5
}
