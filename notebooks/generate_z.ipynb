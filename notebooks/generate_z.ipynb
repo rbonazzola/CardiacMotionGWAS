{
 "cells": [
  {
   "cell_type": "code",
   "execution_count": null,
   "id": "0",
   "metadata": {},
   "outputs": [],
   "source": [
    "import os, sys; os.chdir(f\"{os.environ['HOME']}/01_repos\")\n",
    "\n",
    "import pickle as pkl\n",
    "import yaml\n",
    "from pprint import pprint\n",
    "from argparse import Namespace\n",
    "import logging\n",
    "\n",
    "import numpy as np"
   ]
  },
  {
   "cell_type": "code",
   "execution_count": null,
   "id": "1",
   "metadata": {},
   "outputs": [],
   "source": [
    "from CardiacMotion.utils.run_helpers import Run, get_runs"
   ]
  },
  {
   "cell_type": "markdown",
   "id": "2",
   "metadata": {},
   "source": [
    "___"
   ]
  },
  {
   "cell_type": "markdown",
   "id": "3",
   "metadata": {},
   "source": [
    "- Load run.\n",
    "- Generate synthetic shapes\n",
    "- subset for only myocardium"
   ]
  },
  {
   "cell_type": "code",
   "execution_count": null,
   "id": "4",
   "metadata": {},
   "outputs": [],
   "source": [
    "runs_df = get_runs(only_finished=False)"
   ]
  },
  {
   "cell_type": "code",
   "execution_count": null,
   "id": "5",
   "metadata": {},
   "outputs": [],
   "source": [
    "runs_df_filtered = runs_df.loc[ (runs_df[\"metrics.training_recon_loss_c\"] < 2) ] #  & (runs_df[\"params.dataset_static_representative\"] == \"end_diastole\") ]\n",
    "# runs_df.loc[ (runs_df[\"metrics.training_recon_loss_s\"] < 5) & (runs_df[\"params.dataset_static_representative\"] == \"end_diastole\")]"
   ]
  },
  {
   "cell_type": "code",
   "execution_count": null,
   "id": "6",
   "metadata": {},
   "outputs": [],
   "source": [
    "# runs_df[[\"params.latent_dim_c\", \"params.latent_dim_s\"]]"
   ]
  },
  {
   "cell_type": "code",
   "execution_count": null,
   "id": "7",
   "metadata": {},
   "outputs": [],
   "source": [
    "run = Run(runs_df.iloc[0], load_dataloader=False, batch_size=128)"
   ]
  },
  {
   "cell_type": "code",
   "execution_count": null,
   "id": "8",
   "metadata": {},
   "outputs": [],
   "source": [
    "for i in range(len(runs_df)):\n",
    "    \n",
    "    try:\n",
    "        run = Run(runs_df.iloc[i], load_dataloader=False, batch_size=128)\n",
    "        run.generate_z_df()\n",
    "    except Exception as e:\n",
    "        print(e)\n",
    "        continue"
   ]
  }
 ],
 "metadata": {
  "kernelspec": {
   "display_name": "Python 3 (ipykernel)",
   "language": "python",
   "name": "python3"
  },
  "language_info": {
   "codemirror_mode": {
    "name": "ipython",
    "version": 3
   },
   "file_extension": ".py",
   "mimetype": "text/x-python",
   "name": "python",
   "nbconvert_exporter": "python",
   "pygments_lexer": "ipython3",
   "version": "3.9.16"
  }
 },
 "nbformat": 4,
 "nbformat_minor": 5
}
