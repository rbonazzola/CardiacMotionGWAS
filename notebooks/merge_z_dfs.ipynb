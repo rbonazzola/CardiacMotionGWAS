{
 "cells": [
  {
   "cell_type": "code",
   "execution_count": null,
   "id": "0",
   "metadata": {},
   "outputs": [],
   "source": [
    "import os, sys\n",
    "\n",
    "os.chdir(f\"{os.environ['HOME']}/01_repos\")\n",
    "\n",
    "from paths import Paths\n",
    "import datetime\n",
    "import pytz\n",
    "import pandas as pd\n",
    "\n",
    "from CardiacMotion.utils.run_helpers import fhm_mesh\n",
    "from CardiacMotion.utils.run_helpers import Run, get_runs"
   ]
  },
  {
   "cell_type": "code",
   "execution_count": null,
   "id": "1",
   "metadata": {},
   "outputs": [],
   "source": [
    "runs_df = get_runs()"
   ]
  },
  {
   "cell_type": "code",
   "execution_count": null,
   "id": "2",
   "metadata": {},
   "outputs": [],
   "source": [
    "REFERENCE_DATE = pytz.utc.localize(datetime.datetime(2024, 2, 10, 0, 0, 0))"
   ]
  },
  {
   "cell_type": "code",
   "execution_count": null,
   "id": "3",
   "metadata": {},
   "outputs": [],
   "source": [
    "runs_df = runs_df[runs_df.start_time > REFERENCE_DATE]"
   ]
  },
  {
   "cell_type": "code",
   "execution_count": null,
   "id": "4",
   "metadata": {},
   "outputs": [],
   "source": [
    "MLRUNS_DIR = f\"{Paths.Repos.CARDIAC_MOTION}/mlruns\""
   ]
  },
  {
   "cell_type": "code",
   "execution_count": null,
   "id": "5",
   "metadata": {},
   "outputs": [],
   "source": [
    "z_df_merged = []\n",
    "\n",
    "for index, row in runs_df.iterrows():\n",
    "\n",
    "    exp_id, run_id = row.experiment_id, row.run_id\n",
    "    latent_vector_file = f\"{MLRUNS_DIR}/{exp_id}/{run_id}/artifacts/latent_vector.csv\"\n",
    "    try:\n",
    "        z_df = pd.read_csv(latent_vector_file)\n",
    "    except FileNotFoundError:\n",
    "        print(f\"File {latent_vector_file} not found. Skipping...\")\n",
    "        continue\n",
    "        \n",
    "    z_df = z_df.set_index(\"ID\")\n",
    "    z_df.columns = [ f\"{z}_{run_id}\" for z in z_df.columns ]\n",
    "    z_df = z_df.sort_index()\n",
    "    z_df.index = z_df.index.astype(int)\n",
    "    z_df_merged.append(z_df)\n",
    "\n",
    "z_df_merged = pd.concat(z_df_merged, axis=1)\n",
    "\n",
    "z_df_merged.to_csv(\n",
    "    f\"{Paths.Repos.CARDIAC_MOTION_GWAS}/data/latent_vector_all_runs_after_Feb2024.csv\", \n",
    "    index=True, index_label=\"ID\", float_format='%.8f'\n",
    ")"
   ]
  }
 ],
 "metadata": {
  "kernelspec": {
   "display_name": "Python 3 (ipykernel)",
   "language": "python",
   "name": "python3"
  },
  "language_info": {
   "codemirror_mode": {
    "name": "ipython",
    "version": 3
   },
   "file_extension": ".py",
   "mimetype": "text/x-python",
   "name": "python",
   "nbconvert_exporter": "python",
   "pygments_lexer": "ipython3",
   "version": "3.9.16"
  }
 },
 "nbformat": 4,
 "nbformat_minor": 5
}
