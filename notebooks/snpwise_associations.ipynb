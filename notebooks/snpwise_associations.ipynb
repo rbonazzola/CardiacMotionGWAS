{
 "cells": [
  {
   "cell_type": "code",
   "execution_count": 1,
   "id": "c8ec5a3c-b08f-4a99-97f5-d5f2bd345a14",
   "metadata": {},
   "outputs": [
    {
     "ename": "ModuleNotFoundError",
     "evalue": "No module named 'CardiacMotion'",
     "output_type": "error",
     "traceback": [
      "\u001b[0;31m---------------------------------------------------------------------------\u001b[0m",
      "\u001b[0;31mModuleNotFoundError\u001b[0m                       Traceback (most recent call last)",
      "Cell \u001b[0;32mIn[1], line 9\u001b[0m\n\u001b[1;32m      6\u001b[0m \u001b[38;5;28;01mimport\u001b[39;00m \u001b[38;5;21;01mpytz\u001b[39;00m\n\u001b[1;32m      7\u001b[0m \u001b[38;5;28;01mimport\u001b[39;00m \u001b[38;5;21;01mpandas\u001b[39;00m \u001b[38;5;28;01mas\u001b[39;00m \u001b[38;5;21;01mpd\u001b[39;00m\n\u001b[0;32m----> 9\u001b[0m \u001b[38;5;28;01mfrom\u001b[39;00m \u001b[38;5;21;01mCardiacMotion\u001b[39;00m\u001b[38;5;21;01m.\u001b[39;00m\u001b[38;5;21;01mutils\u001b[39;00m\u001b[38;5;21;01m.\u001b[39;00m\u001b[38;5;21;01mrun_helpers\u001b[39;00m \u001b[38;5;28;01mimport\u001b[39;00m fhm_mesh\n\u001b[1;32m     10\u001b[0m \u001b[38;5;28;01mfrom\u001b[39;00m \u001b[38;5;21;01mCardiacMotion\u001b[39;00m\u001b[38;5;21;01m.\u001b[39;00m\u001b[38;5;21;01mutils\u001b[39;00m\u001b[38;5;21;01m.\u001b[39;00m\u001b[38;5;21;01mrun_helpers\u001b[39;00m \u001b[38;5;28;01mimport\u001b[39;00m Run, get_runs\n",
      "\u001b[0;31mModuleNotFoundError\u001b[0m: No module named 'CardiacMotion'"
     ]
    }
   ],
   "source": [
    "import numpy as np\n",
    "import pandas as pd\n",
    "from tqdm import tqdm\n",
    "\n",
    "import datetime\n",
    "import pytz\n",
    "import pandas as pd\n",
    "\n",
    "from CardiacMotion.utils.run_helpers import fhm_mesh\n",
    "from CardiacMotion.utils.run_helpers import Run, get_runs"
   ]
  },
  {
   "cell_type": "code",
   "execution_count": null,
   "id": "18fc4a5c-451f-4657-91d8-fdc36528e954",
   "metadata": {},
   "outputs": [],
   "source": [
    "class Repos:\n",
    "    \n",
    "    import os    \n",
    "    \n",
    "    GWAS = f\"{os.environ['HOME']}/01_repos/GWAS_pipeline/\"\n",
    "    CARDIAC = f\"{os.environ['HOME']}/01_repos/CardiacCOMA/\"\n",
    "    CARDIAC_MOTION = f\"{os.environ['HOME']}/01_repos/CardiacMotionRL\"\n",
    "    CARDIAC_GWAS = f\"{os.environ['HOME']}/01_repos/CardiacGWAS/\"\n",
    "    CARDIAC_MOTION_GWAS = f\"{os.environ['HOME']}/01_repos/CardiacMotionGWAS/\"\n",
    "    UKBB_HELPERS = f\"{os.environ['HOME']}/01_repos/UKBB_helpers\"\n",
    "    "
   ]
  },
  {
   "cell_type": "code",
   "execution_count": null,
   "id": "250762c0-0fb3-4627-8c9f-85f0ff464149",
   "metadata": {},
   "outputs": [],
   "source": [
    "dosages_df = pd.read_csv(f\"{Repos.CARDIAC_MOTION_GWAS}/data/dosages.csv\").set_index(\"ID\")"
   ]
  },
  {
   "cell_type": "code",
   "execution_count": null,
   "id": "0f89d95a-e4e2-46e2-a224-adc9c69a509a",
   "metadata": {},
   "outputs": [],
   "source": [
    "column_means = dosages_df.mean()\n",
    "dosages_df = dosages_df.fillna(column_means)"
   ]
  },
  {
   "cell_type": "markdown",
   "id": "8e15bafd-2239-48b4-bd0d-9987f0ab51ed",
   "metadata": {},
   "source": [
    "___"
   ]
  },
  {
   "cell_type": "code",
   "execution_count": null,
   "id": "5f73859e-07f0-4f1c-a523-d89f8fa27d34",
   "metadata": {},
   "outputs": [],
   "source": [
    "pd.read_csv(f\"/home/user/01_repos/CardiacMotionGWAS/data/latent_vector_all_runs_after_Feb2024.csv\")"
   ]
  },
  {
   "cell_type": "code",
   "execution_count": null,
   "id": "c4250404-3f5f-489a-ab96-5a60b2b363d8",
   "metadata": {},
   "outputs": [],
   "source": [
    "z_df_merged = pd.read_csv(f\"/home/user/01_repos/CardiacMotionGWAS/data/latent_vector_all_runs_after_Feb2024__adj_GBR.csv\", sep=\"\\t\")\n",
    "z_df_merged = z_df_merged.set_index(\"ID\")\n",
    "missing_rows = z_df_merged.apply(lambda x: any((x == -999) | (x == -9)), axis=1)\n",
    "valid_rows = z_df_merged.index[~missing_rows]\n",
    "valid_rows = set(dosages_df.index).intersection(valid_rows)"
   ]
  },
  {
   "cell_type": "code",
   "execution_count": null,
   "id": "2613fe03-c911-464d-bce8-055655c4a6d8",
   "metadata": {},
   "outputs": [],
   "source": [
    "z_df_merged = z_df_merged.loc[valid_rows]"
   ]
  },
  {
   "cell_type": "code",
   "execution_count": null,
   "id": "eae190ba-412b-4a7d-87c0-f70684333950",
   "metadata": {},
   "outputs": [],
   "source": [
    "dosages_df = dosages_df.loc[valid_rows]"
   ]
  },
  {
   "cell_type": "code",
   "execution_count": null,
   "id": "2b683d7f-3d48-4849-a5c5-fa5915b71bce",
   "metadata": {},
   "outputs": [],
   "source": [
    "from scipy.stats import pearsonr, spearmanr"
   ]
  },
  {
   "cell_type": "code",
   "execution_count": null,
   "id": "d475fe3f-7a7a-42f5-8d85-7ea70c48cba8",
   "metadata": {},
   "outputs": [],
   "source": [
    "pval_list = []\n",
    "\n",
    "for col in tqdm(z_df_merged.columns):    \n",
    "  for snp in dosages_df.columns:\n",
    "    \n",
    "    x = z_df_merged.loc[:, col]\n",
    "    y = dosages_df.loc[:, snp]\n",
    "    \n",
    "    try:\n",
    "        t, p = pearsonr(x,y)\n",
    "        pval_row = pd.DataFrame([[col, snp, p]], columns=[\"phenotype\", \"snp\", \"pvalue\"])\n",
    "        # if p < 1e-8: print(col, snp, p)\n",
    "        pval_list.append(pval_row)\n",
    "    except Exception as e:\n",
    "        print(e)\n",
    "        pass\n",
    "    \n",
    "pval_df = pd.concat(pval_list)"
   ]
  },
  {
   "cell_type": "code",
   "execution_count": null,
   "id": "e299cb49-8b78-4ca6-956b-1d0889aef8f0",
   "metadata": {},
   "outputs": [],
   "source": [
    "best_pvals = pval_df.sort_values(\"pvalue\").head(115)\n",
    "best_pvals['region'] = best_pvals.apply(lambda x: snp_to_region[x.snp], axis=1)\n",
    "best_pvals['chamber'] = best_pvals.phenotype.apply(lambda x: run_to_chamber[x.split(\"_\")[1]])\n"
   ]
  },
  {
   "cell_type": "code",
   "execution_count": null,
   "id": "e1bc561f-8bc9-45ce-8223-6cb72a58d53e",
   "metadata": {},
   "outputs": [],
   "source": [
    "best_pvals[best_pvals.region == \"chr1_124\"]"
   ]
  },
  {
   "cell_type": "code",
   "execution_count": null,
   "id": "4c03ce95-7896-47a2-8d4d-64a4dfcdffa0",
   "metadata": {},
   "outputs": [],
   "source": [
    "from CardiacMotion.utils.run_helpers import Run, get_runs\n",
    "runs_df = get_runs()"
   ]
  },
  {
   "cell_type": "code",
   "execution_count": null,
   "id": "c256a17e-2ccb-492c-a39a-a99522c206bb",
   "metadata": {},
   "outputs": [],
   "source": [
    "EXPERIMENT_DICT = {\n",
    "  \"3\": \"RV\",\n",
    "  \"4\": \"LV\",\n",
    "  \"5\": \"BV\",\n",
    "  \"6\": \"LA\",\n",
    "  \"7\": \"RA\",\n",
    "  \"8\": \"AO\",\n",
    "}"
   ]
  },
  {
   "cell_type": "code",
   "execution_count": null,
   "id": "168386ed-c55d-4a86-8b9f-fc0a052aab60",
   "metadata": {},
   "outputs": [],
   "source": [
    "run_to_chamber = runs_df.set_index(\"run_id\")[\"experiment_id\"].apply(lambda x: EXPERIMENT_DICT[x]).to_dict()"
   ]
  },
  {
   "cell_type": "code",
   "execution_count": null,
   "id": "f7cac63a-3d3a-4ab3-a9dd-baa5f0aa4585",
   "metadata": {},
   "outputs": [],
   "source": [
    "runs_df['partition'] = runs_df.set_index(\"run_id\")[\"experiment_id\"].apply(lambda x: EXPERIMENT_DICT[x])"
   ]
  },
  {
   "cell_type": "code",
   "execution_count": null,
   "id": "dcdc43ae-8718-4913-8fb4-f310e96121c9",
   "metadata": {},
   "outputs": [],
   "source": [
    "best_pvals.loc[best_pvals.region == \"chr5_103\"]"
   ]
  },
  {
   "cell_type": "code",
   "execution_count": null,
   "id": "50edcbcb-f57f-454b-b73a-a41e038bf9a0",
   "metadata": {},
   "outputs": [],
   "source": [
    "from helpers import EnsembleGWASResults\n",
    "gwas_results = EnsembleGWASResults(root_dir=f\"/mnt/data/workshop/workshop-user1/output/GWAS/All_partitions_spatiotemporal\", top_n_runs_per_chamber=None)\n",
    "snp_to_region = gwas_results.region_assocs_df.set_index(\"SNP\")[[\"region\"]].to_dict()['region']"
   ]
  },
  {
   "cell_type": "code",
   "execution_count": null,
   "id": "e333049f-1088-4a7f-bb1f-53c3cc2d55c3",
   "metadata": {},
   "outputs": [],
   "source": []
  },
  {
   "cell_type": "code",
   "execution_count": null,
   "id": "ca558dd6-4282-4e30-a4f7-1f8e3a07945b",
   "metadata": {},
   "outputs": [],
   "source": []
  },
  {
   "cell_type": "markdown",
   "id": "fb5d1296-6305-4061-a56c-b2237302b53b",
   "metadata": {},
   "source": [
    "___"
   ]
  },
  {
   "cell_type": "code",
   "execution_count": null,
   "id": "670ac87c-c09c-4b74-9c7e-03c3b93023e4",
   "metadata": {},
   "outputs": [],
   "source": [
    "fpcs_df = pd.read_csv(\"~/01_repos/CardiacMotionGWAS/results/seed_42/functional_PCs_lvv_lvm_rvm-discovery_10n90__extended_to_61301.csv\", delimiter=\"\\t\")\n",
    "fpcs_df = fpcs_df.set_index(\"ID\")\n",
    "missing_rows = fpcs_df.apply(lambda x: any((x == -999) | (x == -9)), axis=1)\n",
    "valid_rows = fpcs_df.index[~missing_rows]\n",
    "valid_rows = set(dosages_df.index).intersection(valid_rows)\n",
    "\n",
    "fpcs_df = fpcs_df.loc[valid_rows]"
   ]
  },
  {
   "cell_type": "code",
   "execution_count": null,
   "id": "385dff7f-5aa3-4036-abbf-1825c3f94cea",
   "metadata": {},
   "outputs": [],
   "source": [
    "dosages_df = dosages_df.loc[valid_rows]"
   ]
  },
  {
   "cell_type": "code",
   "execution_count": null,
   "id": "1e934c03-da2c-4bdb-9918-4790bf811570",
   "metadata": {},
   "outputs": [],
   "source": [
    "from scipy.stats import pearsonr, spearmanr"
   ]
  },
  {
   "cell_type": "code",
   "execution_count": null,
   "id": "fd9d2c76-fada-4b92-bb5e-5e3bc33cc5e3",
   "metadata": {},
   "outputs": [],
   "source": [
    "pval_list = []\n",
    "\n",
    "for col in tqdm(fpcs_df.columns):    \n",
    "  for snp in dosages_df.columns:\n",
    "    \n",
    "    x = fpcs_df.loc[:, col]\n",
    "    y = dosages_df.loc[:, snp]\n",
    "    \n",
    "    try:\n",
    "        t, p = pearsonr(x,y)\n",
    "        pval_row = pd.DataFrame([[col, snp, p]], columns=[\"phenotype\", \"snp\", \"pvalue\"])\n",
    "        # if p < 1e-8: print(col, snp, p)\n",
    "        pval_list.append(pval_row)\n",
    "    except e:\n",
    "        print(e)\n",
    "        pass\n",
    "    \n",
    "pval_df = pd.concat(pval_list)"
   ]
  },
  {
   "cell_type": "code",
   "execution_count": null,
   "id": "4e531115-2d4e-4815-ab39-bb0e59e02400",
   "metadata": {
    "tags": []
   },
   "outputs": [],
   "source": [
    "pval_df.sort_values(\"pvalue\")"
   ]
  },
  {
   "cell_type": "code",
   "execution_count": null,
   "id": "a8eace48-d179-4fec-a8df-bad611cef5c0",
   "metadata": {},
   "outputs": [],
   "source": [
    "from helpers import EnsembleGWASResults\n",
    "GWAS_RESULTS_DIR = \"/mnt/data/workshop/workshop-user1/output/GWAS/All_partitions_spatiotemporal/\"\n",
    "results = EnsembleGWASResults(GWAS_RESULTS_DIR)"
   ]
  },
  {
   "cell_type": "code",
   "execution_count": null,
   "id": "3eea6cd3-905f-488a-abcb-59f68d12e28a",
   "metadata": {},
   "outputs": [],
   "source": [
    "snps_df = results.region_assocs_df"
   ]
  },
  {
   "cell_type": "code",
   "execution_count": null,
   "id": "f372a15a-447c-4eee-a5bf-40c79750a44b",
   "metadata": {},
   "outputs": [],
   "source": [
    "snps_df = results.loci_summary()\n"
   ]
  },
  {
   "cell_type": "code",
   "execution_count": null,
   "id": "120158ee-e115-45ea-96e5-dba82e4988d4",
   "metadata": {},
   "outputs": [],
   "source": [
    "snps_df = snps_df.reset_index()\n",
    "snps_dynamic_df = snps_df[snps_df.variable_type == \"dynamic\"]"
   ]
  },
  {
   "cell_type": "code",
   "execution_count": null,
   "id": "ef0f570b-ea85-45e7-8793-043c34d925b2",
   "metadata": {
    "tags": []
   },
   "outputs": [],
   "source": [
    "snps_dynamic_df.loc[snps_dynamic_df.groupby(\"region\")[\"min_P\"].idxmin()].sort_values(\"min_P\").head(40)"
   ]
  },
  {
   "cell_type": "code",
   "execution_count": null,
   "id": "8aac1afa-916c-4c0c-ac77-3399b9df7f54",
   "metadata": {
    "tags": []
   },
   "outputs": [],
   "source": [
    "merged_df = pd.merge(pval_df, snps_df, left_on=\"snp\", right_on=\"SNP\")\n",
    "best_pheno = merged_df.loc[merged_df.groupby(\"snp\")[\"pvalue\"].idxmin()]\n",
    "best_pheno.sort_values(\"pvalue\")"
   ]
  },
  {
   "cell_type": "code",
   "execution_count": null,
   "id": "c99c646a-7637-4e1c-a19b-ae9ac8a70ffb",
   "metadata": {},
   "outputs": [],
   "source": []
  }
 ],
 "metadata": {
  "kernelspec": {
   "display_name": "Python 3 (ipykernel)",
   "language": "python",
   "name": "python3"
  },
  "language_info": {
   "codemirror_mode": {
    "name": "ipython",
    "version": 3
   },
   "file_extension": ".py",
   "mimetype": "text/x-python",
   "name": "python",
   "nbconvert_exporter": "python",
   "pygments_lexer": "ipython3",
   "version": "3.9.12"
  }
 },
 "nbformat": 4,
 "nbformat_minor": 5
}
