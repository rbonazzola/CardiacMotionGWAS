{
 "cells": [
  {
   "cell_type": "code",
   "execution_count": 29,
   "id": "a368c3e4-aaf7-4d01-ab47-6eb35b603506",
   "metadata": {},
   "outputs": [],
   "source": [
    "import os\n",
    "import sys\n",
    "import numpy as np\n",
    "import pandas as pd\n",
    "from typing import Dict\n",
    "from tqdm import tqdm\n",
    "\n",
    "import matplotlib.pyplot as plt\n",
    "from ipywidgets import interact\n",
    "import ipywidgets as widgets\n",
    "\n",
    "from paths import Paths\n",
    "from CardiacMotionGWAS.helpers import EnsembleGWASResults\n",
    "from CardiacMotion.utils.run_helpers import Run, compute_thickness_per_aha\n",
    "\n",
    "sys.path.append(Paths.Repos.REPOS_ROOT)"
   ]
  },
  {
   "cell_type": "code",
   "execution_count": 2,
   "id": "ffdaa17a-dd40-4ee6-ac18-4dd3326ea66a",
   "metadata": {},
   "outputs": [],
   "source": [
    "volume_df = get_cardiac_indices()\n",
    "volume_df = volume_df.sort_index()"
   ]
  },
  {
   "cell_type": "code",
   "execution_count": 3,
   "id": "3f18100b-c5bc-4988-b5e1-04fcb704c263",
   "metadata": {},
   "outputs": [
    {
     "data": {
      "application/vnd.jupyter.widget-view+json": {
       "model_id": "44f6430f439b41df9462aea6eeedca33",
       "version_major": 2,
       "version_minor": 0
      },
      "text/plain": [
       "interactive(children=(Select(description='id', options=(1000215, 1000336, 1000363, 1000380, 1000407, 1000434, …"
      ]
     },
     "metadata": {},
     "output_type": "display_data"
    }
   ],
   "source": [
    "@interact\n",
    "def show_volume_curve(id=widgets.Select(options=volume_df.index.get_level_values(\"case_id\").unique()[:50])):\n",
    "    \n",
    "    kk = volume_df[volume_df.index.get_level_values(\"case_id\") == id].iloc[:,0]\n",
    "    plt.plot(kk.to_numpy());"
   ]
  },
  {
   "cell_type": "code",
   "execution_count": 5,
   "id": "a546a647-104d-414b-9773-070557461b4f",
   "metadata": {},
   "outputs": [],
   "source": [
    "exp_id = \"3\""
   ]
  },
  {
   "cell_type": "code",
   "execution_count": 33,
   "id": "a7ff42e9-3f8a-485e-ba59-d98a75abfbcf",
   "metadata": {},
   "outputs": [],
   "source": [
    "loci_df = fetch_loci_mapping()\n",
    "dynamic_loci = loci_df[~loci_df.only_dynamic.isnull()].index"
   ]
  },
  {
   "cell_type": "code",
   "execution_count": 34,
   "id": "eaf3763f-5e5e-4e79-a8f9-519505657bb3",
   "metadata": {},
   "outputs": [
    {
     "data": {
      "application/vnd.jupyter.widget-view+json": {
       "model_id": "9d4dae7e8e704cdb8945ab9cd5c14771",
       "version_major": 2,
       "version_minor": 0
      },
      "text/plain": [
       "interactive(children=(Select(description='region', options=('chr1_5', 'chr1_107', 'chr1_118', 'chr3_28', 'chr3…"
      ]
     },
     "metadata": {},
     "output_type": "display_data"
    }
   ],
   "source": [
    "@interact\n",
    "def show_volume_curve(region=widgets.Select(options=dynamic_loci), which_extreme=widgets.Checkbox()):\n",
    "    \n",
    "    assocs_for_region = region_assocs_df[(region_assocs_df.region == region) & (region_assocs_df.expid == \"X3\")].sort_values(\"P\")\n",
    "    runid, zvar = assocs_for_region.run.iloc[0], assocs_for_region.pheno.iloc[0]\n",
    "    \n",
    "    MLFLOW_TRACKING_URI = f\"{Paths.Repos.CARDIAC_MOTION}/mlruns/\"\n",
    "    z_df = pd.read_csv(f\"{MLFLOW_TRACKING_URI}/{exp_id}/{runid}/artifacts/latent_vector.csv\")\n",
    "    z_df = z_df.set_index(\"ID\")\n",
    "    z_df = z_df[zvar]\n",
    "    # print()\n",
    "    z_df = z_df.drop(set(ids_feos).intersection(z_df.index))\n",
    "    \n",
    "    ids_top = z_df[z_df > z_df.quantile(0.99)].index.to_list()\n",
    "    ids_bottom = z_df[z_df < z_df.quantile(0.01)].index.to_list()\n",
    "    \n",
    "    if which_extreme:\n",
    "        ids = set(ids_bottom).intersection(volume_df.index.get_level_values(\"case_id\"))\n",
    "    else:\n",
    "        ids = set(ids_top).intersection(volume_df.index.get_level_values(\"case_id\"))\n",
    "    \n",
    "    for id in list(ids)[:50]:        \n",
    "        kk = volume_df[volume_df.index.get_level_values(\"case_id\") == id].iloc[:,0]\n",
    "        if len(kk) != 50:\n",
    "            continue\n",
    "        plt.plot(kk.to_numpy()/kk.iloc[0]);"
   ]
  },
  {
   "cell_type": "code",
   "execution_count": 25,
   "id": "036e8f25-e6ed-43db-99bc-bea6e577efae",
   "metadata": {},
   "outputs": [
    {
     "name": "stderr",
     "output_type": "stream",
     "text": [
      "100%|██████████████████████████████████████████████████████████████████████████████████████████████████████████████████| 60001/60001 [02:10<00:00, 459.81it/s]\n"
     ]
    }
   ],
   "source": [
    "ids = [x[:7] for x in os.listdir(f\"{Paths.Repos.CARDIAC_MOTION}/notebooks/thicknesses/\")]\n",
    "aha_thickness_lst = []\n",
    "\n",
    "for id in tqdm(ids):\n",
    "    try:\n",
    "      aha_thickness = np.load(f\"{Paths.Repos.CARDIAC_MOTION}/notebooks/thicknesses/{id}_thickness_per_aha.npy\")\n",
    "      aha_thickness = pd.DataFrame(aha_thickness).reset_index().rename({\"index\": \"timeframe\"}, axis=1).assign(subject_id=lambda x: id).set_index([\"subject_id\", \"timeframe\"])\n",
    "      aha_thickness_lst.append(aha_thickness)\n",
    "    except FileNotFoundError:\n",
    "        pass\n",
    "    \n",
    "aha_thickness_df = pd.concat(aha_thickness_lst)\n",
    "aha_thickness_df.to_csv(\"aha_thickness.csv\", index=True)"
   ]
  },
  {
   "cell_type": "code",
   "execution_count": 74,
   "id": "f3e97993-b049-4825-a5fe-9477528fd7e6",
   "metadata": {},
   "outputs": [
    {
     "data": {
      "text/plain": [
       "Index(['4305589', '4305589', '4305589', '4305589', '4305589', '4305589',\n",
       "       '4305589', '4305589', '4305589', '4305589',\n",
       "       ...\n",
       "       '5733702', '5733702', '5733702', '5733702', '5733702', '5733702',\n",
       "       '5733702', '5733702', '5733702', '5733702'],\n",
       "      dtype='object', name='subject_id', length=3000000)"
      ]
     },
     "execution_count": 74,
     "metadata": {},
     "output_type": "execute_result"
    }
   ],
   "source": [
    "aha_thickness_df.index.get_level_values(\"subject_id\") == "
   ]
  },
  {
   "cell_type": "code",
   "execution_count": 82,
   "id": "3295d294-8999-4e36-ad19-65874ac4f2b0",
   "metadata": {},
   "outputs": [
    {
     "data": {
      "application/vnd.jupyter.widget-view+json": {
       "model_id": "5f441ee0d4da45bda83b2c5ccb69973a",
       "version_major": 2,
       "version_minor": 0
      },
      "text/plain": [
       "interactive(children=(Select(description='region', options=('chr1_5', 'chr1_107', 'chr1_118', 'chr3_28', 'chr3…"
      ]
     },
     "metadata": {},
     "output_type": "display_data"
    }
   ],
   "source": [
    "@interact\n",
    "def show_thickness_curve(\n",
    "    region=widgets.Select(options=dynamic_loci), which_extreme=widgets.Checkbox(),\n",
    "    aha_segment=widgets.IntSlider(min=0, max=17)\n",
    "):\n",
    "    \n",
    "    assocs_for_region = region_assocs_df[(region_assocs_df.region == region) & (region_assocs_df.expid == \"X3\")].sort_values(\"P\")\n",
    "    runid, zvar = assocs_for_region.run.iloc[0], assocs_for_region.pheno.iloc[0]\n",
    "    \n",
    "    MLFLOW_TRACKING_URI = f\"{os.environ['HOME']}/01_repos/CardiacMotion/mlruns/\"\n",
    "    z_df = pd.read_csv(f\"{MLFLOW_TRACKING_URI}/{exp_id}/{runid}/artifacts/latent_vector.csv\")\n",
    "    z_df = z_df.set_index(\"ID\")\n",
    "    z_df = z_df[zvar]\n",
    "    # print()\n",
    "    z_df = z_df.drop(set(ids_feos).intersection(z_df.index))\n",
    "    \n",
    "    ids_top = z_df[z_df > z_df.quantile(0.99)].index.to_list()\n",
    "    ids_bottom = z_df[z_df < z_df.quantile(0.01)].index.to_list()\n",
    "    \n",
    "    if which_extreme:        \n",
    "        ids = set(ids_bottom).intersection(aha_thickness_df.index.get_level_values(\"subject_id\").unique().astype(int))\n",
    "    else:\n",
    "        ids = set(ids_top).intersection(aha_thickness_df.index.get_level_values(\"subject_id\").unique().astype(int))\n",
    "    \n",
    "    # volume_df[volume_df.index.get_level_values(\"case_id\") == id].iloc[:,0]\n",
    "    for id in list(ids)[:10]: \n",
    "        # print(aha_thickness_df.index.get_level_values(\"subject_id\") == str(id))\n",
    "        kk = aha_thickness_df[aha_thickness_df.index.get_level_values(\"subject_id\") == str(id)].iloc[:,aha_segment]\n",
    "        # print(kk)\n",
    "        if len(kk) != 50:\n",
    "            continue\n",
    "        plt.plot(kk.to_numpy()/kk.iloc[0]);\n",
    "        plt.ylim([0.9, 3])"
   ]
  },
  {
   "cell_type": "code",
   "execution_count": 11,
   "id": "a9825a11-ca03-47df-a60a-62d9ecc34c3d",
   "metadata": {},
   "outputs": [
    {
     "data": {
      "text/plain": [
       "Int64Index([1000590, 1000892, 1001629, 1003065, 1003814, 1005995, 1006929,\n",
       "            1007469, 1013023, 1013345,\n",
       "            ...\n",
       "            4986456, 4987449, 4987912, 4988345, 4988483, 4989669, 4989728,\n",
       "            4990164, 4992639, 4994894],\n",
       "           dtype='int64', name='case_id', length=3530)"
      ]
     },
     "execution_count": 11,
     "metadata": {},
     "output_type": "execute_result"
    }
   ],
   "source": [
    "normalized_vols = volume_df.groupby(\"case_id\").transform(lambda x: x/x.iloc[0])\n",
    "t_above_1 = (normalized_vols[\"LVEDV (mL)\"] > 1).groupby(\"case_id\").aggregate(sum)\n",
    "ids_feos = t_above_1[t_above_1 > 5].index\n",
    "ids_feos"
   ]
  },
  {
   "cell_type": "code",
   "execution_count": 21,
   "id": "84069777-dcda-4cd5-929d-db6b1757c015",
   "metadata": {},
   "outputs": [
    {
     "data": {
      "application/vnd.jupyter.widget-view+json": {
       "model_id": "ce8a3f737b584ee48582f7a20ab9880b",
       "version_major": 2,
       "version_minor": 0
      },
      "text/plain": [
       "interactive(children=(Select(description='id', options=(1017591, 1098773, 1165317, 1191279, 1328149, 1452949, …"
      ]
     },
     "metadata": {},
     "output_type": "display_data"
    }
   ],
   "source": [
    "@interact\n",
    "def show_volume_curve(id=widgets.Select(options=ids_feos)):\n",
    "    \n",
    "    kk = volume_df[volume_df.index.get_level_values(\"case_id\") == id].iloc[:,0]\n",
    "    plt.plot(kk.to_numpy());"
   ]
  }
 ],
 "metadata": {
  "kernelspec": {
   "display_name": "Python 3 (ipykernel)",
   "language": "python",
   "name": "python3"
  },
  "language_info": {
   "codemirror_mode": {
    "name": "ipython",
    "version": 3
   },
   "file_extension": ".py",
   "mimetype": "text/x-python",
   "name": "python",
   "nbconvert_exporter": "python",
   "pygments_lexer": "ipython3",
   "version": "3.9.16"
  }
 },
 "nbformat": 4,
 "nbformat_minor": 5
}
