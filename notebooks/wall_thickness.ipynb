{
 "cells": [
  {
   "cell_type": "code",
   "execution_count": 1,
   "metadata": {},
   "outputs": [],
   "source": [
    "import pandas as pd\n",
    "import pickle as pkl\n",
    "\n",
    "import ipywidgets as widgets\n",
    "from IPython.display import display\n",
    "from ipywidgets import interact, interactive, fixed, interact_manual\n",
    "\n",
    "import scipy\n",
    "from scipy.stats import spearmanr\n",
    "from scipy import sparse as sp\n",
    "\n",
    "import pyvista as pv\n",
    "import numpy as np\n",
    "import matplotlib.pyplot as plt"
   ]
  },
  {
   "cell_type": "code",
   "execution_count": 2,
   "metadata": {},
   "outputs": [],
   "source": [
    "import cardio_mesh\n",
    "from cardio_mesh import Cardiac3DMesh\n",
    "\n",
    "from cardio_mesh.paths import (\n",
    "    get_3d_pointcloud_file,\n",
    "    get_4d_pointcloud\n",
    ")\n",
    "\n",
    "from cardio_mesh.lv_aha_quantification import (\n",
    "    compute_thickness_per_aha\n",
    ")\n",
    "\n",
    "all_ids = cardio_mesh.list_mesh_ids()"
   ]
  },
  {
   "cell_type": "code",
   "execution_count": 3,
   "metadata": {},
   "outputs": [],
   "source": [
    "meshes = dict( get_4d_pointcloud(all_ids[:10], return_id=True) )\n"
   ]
  },
  {
   "cell_type": "code",
   "execution_count": 5,
   "metadata": {},
   "outputs": [
    {
     "data": {
      "text/plain": [
       "(50, 19455, 3)"
      ]
     },
     "execution_count": 5,
     "metadata": {},
     "output_type": "execute_result"
    }
   ],
   "source": [
    "meshes['2897041'].shape"
   ]
  },
  {
   "cell_type": "code",
   "execution_count": 4,
   "metadata": {},
   "outputs": [
    {
     "ename": "AssertionError",
     "evalue": "The input point cloud array should have 4396 points (corresponding to a left ventricle without the valve surfaces).",
     "output_type": "error",
     "traceback": [
      "\u001b[0;31m---------------------------------------------------------------------------\u001b[0m",
      "\u001b[0;31mAssertionError\u001b[0m                            Traceback (most recent call last)",
      "Cell \u001b[0;32mIn[4], line 1\u001b[0m\n\u001b[0;32m----> 1\u001b[0m \u001b[43mcompute_thickness_per_aha\u001b[49m\u001b[43m(\u001b[49m\u001b[43mmeshes\u001b[49m\u001b[43m[\u001b[49m\u001b[38;5;124;43m'\u001b[39;49m\u001b[38;5;124;43m2897041\u001b[39;49m\u001b[38;5;124;43m'\u001b[39;49m\u001b[43m]\u001b[49m\u001b[43m)\u001b[49m\n",
      "File \u001b[0;32m/mnt/data/01_repos/CardioMesh/cardio_mesh/lv_aha_quantification.py:72\u001b[0m, in \u001b[0;36mcompute_thickness_per_aha\u001b[0;34m(point_cloud_array)\u001b[0m\n\u001b[1;32m     69\u001b[0m \u001b[38;5;28;01mdef\u001b[39;00m \u001b[38;5;21mcompute_thickness_per_aha\u001b[39m(point_cloud_array):\n\u001b[1;32m     71\u001b[0m     \u001b[38;5;28;01massert\u001b[39;00m \u001b[38;5;28misinstance\u001b[39m(point_cloud_array, np\u001b[38;5;241m.\u001b[39mndarray), \u001b[38;5;124mf\u001b[39m\u001b[38;5;124m\"\u001b[39m\u001b[38;5;124mThe input point cloud array should be a numpy array. Got \u001b[39m\u001b[38;5;132;01m{\u001b[39;00m\u001b[38;5;28mtype\u001b[39m(point_cloud_array)\u001b[38;5;132;01m}\u001b[39;00m\u001b[38;5;124m.\u001b[39m\u001b[38;5;124m\"\u001b[39m\n\u001b[0;32m---> 72\u001b[0m     \u001b[38;5;28;01massert\u001b[39;00m point_cloud_array\u001b[38;5;241m.\u001b[39mshape[\u001b[38;5;241m-\u001b[39m\u001b[38;5;241m2\u001b[39m] \u001b[38;5;241m==\u001b[39m LV_OPEN_N_POINTS, \u001b[38;5;124mf\u001b[39m\u001b[38;5;124m\"\u001b[39m\u001b[38;5;124mThe input point cloud array should have \u001b[39m\u001b[38;5;132;01m{\u001b[39;00mLV_OPEN_N_POINTS\u001b[38;5;132;01m}\u001b[39;00m\u001b[38;5;124m points (corresponding to a left ventricle without the valve surfaces).\u001b[39m\u001b[38;5;124m\"\u001b[39m\n\u001b[1;32m     74\u001b[0m     \u001b[38;5;28;01mif\u001b[39;00m \u001b[38;5;28mlen\u001b[39m(point_cloud\u001b[38;5;241m.\u001b[39mshape) \u001b[38;5;241m==\u001b[39m \u001b[38;5;241m2\u001b[39m:\n\u001b[1;32m     75\u001b[0m         thickness_per_segment \u001b[38;5;241m=\u001b[39m []\n",
      "\u001b[0;31mAssertionError\u001b[0m: The input point cloud array should have 4396 points (corresponding to a left ventricle without the valve surfaces)."
     ]
    }
   ],
   "source": [
    "compute_thickness_per_aha(meshes['2897041'])"
   ]
  },
  {
   "cell_type": "code",
   "execution_count": null,
   "metadata": {},
   "outputs": [],
   "source": [
    "dict( get_4d_pointcloud(all_ids[:10], return_id=True) )"
   ]
  },
  {
   "cell_type": "markdown",
   "metadata": {},
   "source": [
    "___"
   ]
  },
  {
   "cell_type": "markdown",
   "metadata": {},
   "source": [
    "### Wall thickness"
   ]
  },
  {
   "cell_type": "markdown",
   "metadata": {},
   "source": [
    "For each point in the epicardial surface, find closest point in the endocardial surface."
   ]
  },
  {
   "cell_type": "code",
   "execution_count": null,
   "metadata": {},
   "outputs": [
    {
     "data": {
      "application/vnd.jupyter.widget-view+json": {
       "model_id": "8e7a1f421d444b50b04d455452370408",
       "version_major": 2,
       "version_minor": 0
      },
      "text/plain": [
       "interactive(children=(IntSlider(value=1, description='aha_index', max=17, min=1), Output()), _dom_classes=('wi…"
      ]
     },
     "metadata": {},
     "output_type": "display_data"
    }
   ],
   "source": [
    "@interact\n",
    "def count_vertices(aha_index=widgets.IntSlider(min=1, max=17)):\n",
    "    print (sum((epi_endo_labels == EPI) & (lv_aha_labels == aha_index)))    "
   ]
  },
  {
   "cell_type": "code",
   "execution_count": null,
   "metadata": {
    "tags": []
   },
   "outputs": [
    {
     "ename": "UnboundLocalError",
     "evalue": "local variable 'point_cloud_array' referenced before assignment",
     "output_type": "error",
     "traceback": [
      "\u001b[0;31m---------------------------------------------------------------------------\u001b[0m",
      "\u001b[0;31mUnboundLocalError\u001b[0m                         Traceback (most recent call last)",
      "Cell \u001b[0;32mIn[5], line 1\u001b[0m\n\u001b[0;32m----> 1\u001b[0m \u001b[43mget_ipython\u001b[49m\u001b[43m(\u001b[49m\u001b[43m)\u001b[49m\u001b[38;5;241;43m.\u001b[39;49m\u001b[43mrun_cell_magic\u001b[49m\u001b[43m(\u001b[49m\u001b[38;5;124;43m'\u001b[39;49m\u001b[38;5;124;43mtimeit\u001b[39;49m\u001b[38;5;124;43m'\u001b[39;49m\u001b[43m,\u001b[49m\u001b[43m \u001b[49m\u001b[38;5;124;43m'\u001b[39;49m\u001b[38;5;124;43m'\u001b[39;49m\u001b[43m,\u001b[49m\u001b[43m \u001b[49m\u001b[38;5;124;43m'\u001b[39;49m\u001b[38;5;124;43mnp.array(compute_thickness_per_aha(\u001b[39;49m\u001b[38;5;124;43m\"\u001b[39;49m\u001b[38;5;124;43m1000215\u001b[39;49m\u001b[38;5;124;43m\"\u001b[39;49m\u001b[38;5;124;43m))\u001b[39;49m\u001b[38;5;130;43;01m\\n\u001b[39;49;00m\u001b[38;5;124;43m'\u001b[39;49m\u001b[43m)\u001b[49m\n",
      "File \u001b[0;32m~/miniconda/envs/cardiac_motion/lib/python3.8/site-packages/IPython/core/interactiveshell.py:2478\u001b[0m, in \u001b[0;36mInteractiveShell.run_cell_magic\u001b[0;34m(self, magic_name, line, cell)\u001b[0m\n\u001b[1;32m   2476\u001b[0m \u001b[38;5;28;01mwith\u001b[39;00m \u001b[38;5;28mself\u001b[39m\u001b[38;5;241m.\u001b[39mbuiltin_trap:\n\u001b[1;32m   2477\u001b[0m     args \u001b[38;5;241m=\u001b[39m (magic_arg_s, cell)\n\u001b[0;32m-> 2478\u001b[0m     result \u001b[38;5;241m=\u001b[39m \u001b[43mfn\u001b[49m\u001b[43m(\u001b[49m\u001b[38;5;241;43m*\u001b[39;49m\u001b[43margs\u001b[49m\u001b[43m,\u001b[49m\u001b[43m \u001b[49m\u001b[38;5;241;43m*\u001b[39;49m\u001b[38;5;241;43m*\u001b[39;49m\u001b[43mkwargs\u001b[49m\u001b[43m)\u001b[49m\n\u001b[1;32m   2480\u001b[0m \u001b[38;5;66;03m# The code below prevents the output from being displayed\u001b[39;00m\n\u001b[1;32m   2481\u001b[0m \u001b[38;5;66;03m# when using magics with decodator @output_can_be_silenced\u001b[39;00m\n\u001b[1;32m   2482\u001b[0m \u001b[38;5;66;03m# when the last Python token in the expression is a ';'.\u001b[39;00m\n\u001b[1;32m   2483\u001b[0m \u001b[38;5;28;01mif\u001b[39;00m \u001b[38;5;28mgetattr\u001b[39m(fn, magic\u001b[38;5;241m.\u001b[39mMAGIC_OUTPUT_CAN_BE_SILENCED, \u001b[38;5;28;01mFalse\u001b[39;00m):\n",
      "File \u001b[0;32m~/miniconda/envs/cardiac_motion/lib/python3.8/site-packages/IPython/core/magics/execution.py:1170\u001b[0m, in \u001b[0;36mExecutionMagics.timeit\u001b[0;34m(self, line, cell, local_ns)\u001b[0m\n\u001b[1;32m   1168\u001b[0m \u001b[38;5;28;01mfor\u001b[39;00m index \u001b[38;5;129;01min\u001b[39;00m \u001b[38;5;28mrange\u001b[39m(\u001b[38;5;241m0\u001b[39m, \u001b[38;5;241m10\u001b[39m):\n\u001b[1;32m   1169\u001b[0m     number \u001b[38;5;241m=\u001b[39m \u001b[38;5;241m10\u001b[39m \u001b[38;5;241m*\u001b[39m\u001b[38;5;241m*\u001b[39m index\n\u001b[0;32m-> 1170\u001b[0m     time_number \u001b[38;5;241m=\u001b[39m \u001b[43mtimer\u001b[49m\u001b[38;5;241;43m.\u001b[39;49m\u001b[43mtimeit\u001b[49m\u001b[43m(\u001b[49m\u001b[43mnumber\u001b[49m\u001b[43m)\u001b[49m\n\u001b[1;32m   1171\u001b[0m     \u001b[38;5;28;01mif\u001b[39;00m time_number \u001b[38;5;241m>\u001b[39m\u001b[38;5;241m=\u001b[39m \u001b[38;5;241m0.2\u001b[39m:\n\u001b[1;32m   1172\u001b[0m         \u001b[38;5;28;01mbreak\u001b[39;00m\n",
      "File \u001b[0;32m~/miniconda/envs/cardiac_motion/lib/python3.8/site-packages/IPython/core/magics/execution.py:158\u001b[0m, in \u001b[0;36mTimer.timeit\u001b[0;34m(self, number)\u001b[0m\n\u001b[1;32m    156\u001b[0m gc\u001b[38;5;241m.\u001b[39mdisable()\n\u001b[1;32m    157\u001b[0m \u001b[38;5;28;01mtry\u001b[39;00m:\n\u001b[0;32m--> 158\u001b[0m     timing \u001b[38;5;241m=\u001b[39m \u001b[38;5;28;43mself\u001b[39;49m\u001b[38;5;241;43m.\u001b[39;49m\u001b[43minner\u001b[49m\u001b[43m(\u001b[49m\u001b[43mit\u001b[49m\u001b[43m,\u001b[49m\u001b[43m \u001b[49m\u001b[38;5;28;43mself\u001b[39;49m\u001b[38;5;241;43m.\u001b[39;49m\u001b[43mtimer\u001b[49m\u001b[43m)\u001b[49m\n\u001b[1;32m    159\u001b[0m \u001b[38;5;28;01mfinally\u001b[39;00m:\n\u001b[1;32m    160\u001b[0m     \u001b[38;5;28;01mif\u001b[39;00m gcold:\n",
      "File \u001b[0;32m<magic-timeit>:1\u001b[0m, in \u001b[0;36minner\u001b[0;34m(_it, _timer)\u001b[0m\n",
      "File \u001b[0;32m/mnt/data/01_repos/CardioMesh/cardio_mesh/lv_aha_quantification.py:71\u001b[0m, in \u001b[0;36mcompute_thickness_per_aha\u001b[0;34m(point_cloud)\u001b[0m\n\u001b[1;32m     69\u001b[0m \u001b[38;5;28;01mdef\u001b[39;00m \u001b[38;5;21mcompute_thickness_per_aha\u001b[39m(point_cloud):\n\u001b[0;32m---> 71\u001b[0m     \u001b[38;5;28;01massert\u001b[39;00m \u001b[38;5;28misinstance\u001b[39m(\u001b[43mpoint_cloud_array\u001b[49m, np\u001b[38;5;241m.\u001b[39mndarray), \u001b[38;5;124mf\u001b[39m\u001b[38;5;124m\"\u001b[39m\u001b[38;5;124mThe input point cloud array should be a numpy array. Got \u001b[39m\u001b[38;5;132;01m{\u001b[39;00m\u001b[38;5;28mtype\u001b[39m(point_cloud_array)\u001b[38;5;132;01m}\u001b[39;00m\u001b[38;5;124m.\u001b[39m\u001b[38;5;124m\"\u001b[39m\n\u001b[1;32m     72\u001b[0m     \u001b[38;5;28;01massert\u001b[39;00m point_cloud_array[\u001b[38;5;241m-\u001b[39m\u001b[38;5;241m2\u001b[39m] \u001b[38;5;241m==\u001b[39m LV_OPEN_N_POINTS, \u001b[38;5;124mf\u001b[39m\u001b[38;5;124m\"\u001b[39m\u001b[38;5;124mThe input point cloud array should have \u001b[39m\u001b[38;5;132;01m{\u001b[39;00mLV_OPEN_N_POINTS\u001b[38;5;132;01m}\u001b[39;00m\u001b[38;5;124m points (corresponding to a left ventricle without the valve surfaces).\u001b[39m\u001b[38;5;124m\"\u001b[39m\n\u001b[1;32m     74\u001b[0m     \u001b[38;5;28;01mif\u001b[39;00m \u001b[38;5;28mlen\u001b[39m(point_cloud\u001b[38;5;241m.\u001b[39mshape) \u001b[38;5;241m==\u001b[39m \u001b[38;5;241m2\u001b[39m:\n",
      "\u001b[0;31mUnboundLocalError\u001b[0m: local variable 'point_cloud_array' referenced before assignment"
     ]
    }
   ],
   "source": [
    "%%timeit\n",
    "np.array(compute_thickness_per_aha(\"1000215\"))"
   ]
  },
  {
   "cell_type": "code",
   "execution_count": null,
   "metadata": {},
   "outputs": [],
   "source": [
    "import multiprocessing\n",
    "\n",
    "def worker_function(args):\n",
    "    \n",
    "    start, end = args\n",
    "    \n",
    "    for i in range(start, end):\n",
    "        id = ids[i]\n",
    "        NPY_FILE = f\"notebooks/thicknesses/{id}_thickness_per_aha.npy\"\n",
    "        thickness = compute_thickness_per_aha(id)\n",
    "        np.save(NPY_FILE, thickness)\n",
    "        \n",
    "\n",
    "def parallel_for_loop(num_cores, total_iterations):\n",
    "    \n",
    "    chunk_size = total_iterations // num_cores\n",
    "    pool = multiprocessing.Pool(processes=num_cores)\n",
    "    indices = [(i, i + chunk_size) for i in range(0, total_iterations, chunk_size)]\n",
    "    pool.map(worker_function, indices)\n",
    "    pool.close()\n",
    "    pool.join()"
   ]
  },
  {
   "cell_type": "code",
   "execution_count": null,
   "metadata": {
    "tags": []
   },
   "outputs": [],
   "source": [
    "TOTAL_ITERATIONS = 60000\n",
    "ids = [ \n",
    "    id for id in all_ids[:TOTAL_ITERATIONS] \n",
    "    if not os.path.exists(f\"notebooks/thicknesses/{id}_thickness_per_aha.npy\") \n",
    "]\n",
    "\n",
    "print(len(ids))\n",
    "\n",
    "NUM_CORES = 200 # multiprocessing.cpu_count()  # Use all available CPU cores\n",
    "parallel_for_loop(NUM_CORES, TOTAL_ITERATIONS)\n",
    "# result = parallel_for_loop(NUM_CORES, TOTAL_ITERATIONS)\n",
    "# print(\"Final result:\", result)"
   ]
  },
  {
   "cell_type": "code",
   "execution_count": null,
   "metadata": {},
   "outputs": [],
   "source": [
    "@interact\n",
    "def plot_thickness(id=widgets.Select(options=ids[:10]), aha_index=widgets.IntSlider(min=1, max=17, description=\"AHA segment\")):\n",
    "    t = np.load(f\"notebooks/thicknesses/{id}_thickness_per_aha.npy\")\n",
    "    plt.scatter(x=range(50), y=t[:, aha_index-1])"
   ]
  },
  {
   "cell_type": "code",
   "execution_count": null,
   "metadata": {},
   "outputs": [],
   "source": [
    "# count vertices per AHA segment \n",
    "# pd.Series(mesh.point_data['subpartID'].astype(int)).value_counts().sort_index()"
   ]
  },
  {
   "cell_type": "code",
   "execution_count": null,
   "metadata": {},
   "outputs": [],
   "source": [
    "wall_thickness = pkl.load(open(\"data/transforms/cached/wall_thickness.pkl\", \"rb\"))"
   ]
  },
  {
   "cell_type": "code",
   "execution_count": null,
   "metadata": {},
   "outputs": [],
   "source": [
    "wall_thickness[\"wall_thickness_epicardial\"].shape"
   ]
  },
  {
   "cell_type": "code",
   "execution_count": null,
   "metadata": {},
   "outputs": [],
   "source": [
    "normalized_wt = []\n",
    "for i, wt in enumerate(wall_thickness[\"wall_thickness_epicardial\"]):\n",
    "    cbrt_vol = wall_thickness[\"convex_hull_volumes\"][i]**(1./3)\n",
    "    normalized_wt.append(wt/cbrt_vol)\n",
    "normalized_wt = np.array(normalized_wt)"
   ]
  },
  {
   "cell_type": "code",
   "execution_count": null,
   "metadata": {},
   "outputs": [],
   "source": [
    "output_dir = \"output\"\n",
    "experiments = [x for x in os.listdir(output_dir) if os.path.exists(os.path.join(output_dir, x, \".finished\"))]\n",
    "\n",
    "w = widgets.Dropdown(\n",
    "    value=\"2020-09-11_02-13-41\",\n",
    "    options=experiments,\n",
    "    description='Experiment:',\n",
    "    disabled=False,\n",
    ")\n",
    "\n",
    "display(w)"
   ]
  },
  {
   "cell_type": "code",
   "execution_count": null,
   "metadata": {},
   "outputs": [],
   "source": [
    "dic = pkl.load(open(\"data/transforms/cached/2ch_segmentation__LV__ED__non_scaled__dic.pkl\", \"rb\"))"
   ]
  },
  {
   "cell_type": "code",
   "execution_count": null,
   "metadata": {},
   "outputs": [],
   "source": [
    "# Get indices of each subpartition (LV endo and epi)\n",
    "LVRV = Cardiac3DMesh(\"template/template.vtk\").extractSubpart([1,2])\n",
    "\n",
    "# Booleans indicating vertices that belong to each surface\n",
    "endo_j = (LVRV.subpartID == 1)\n",
    "epi_j = (LVRV.subpartID == 2)"
   ]
  },
  {
   "cell_type": "code",
   "execution_count": null,
   "metadata": {},
   "outputs": [],
   "source": [
    "faces = np.hstack([[3] + list(x) for x in LVRV.triangles])\n",
    "LVRV_pv = pv.PolyData(dic[\"mean\"], faces)"
   ]
  },
  {
   "cell_type": "code",
   "execution_count": null,
   "metadata": {},
   "outputs": [],
   "source": [
    "id = 2\n",
    "# prepending a 3 before each triangle (PyVista format for faces)\n",
    "faces_epi = np.hstack([[3] + list(x) for x in lv_epi.triangles])\n",
    "lv_epi_pv = pv.PolyData(LVRV.points[epi_j], faces_epi)\n",
    "\n",
    "faces_endo = np.hstack([[3] + list(x) for x in lv_endo.triangles])\n",
    "lv_endo_pv = pv.PolyData(endo[id], faces_endo)\n",
    "\n",
    "# lv_epi_pv.plot(scalars=wall_thickness[id])\n",
    "# lv_epi_pv.rotate_z(180)\n",
    "# lv_endo_pv.rotate_z(180)"
   ]
  },
  {
   "cell_type": "code",
   "execution_count": null,
   "metadata": {},
   "outputs": [],
   "source": [
    "corr = spearmanr(z, normalized_wt, axis=0)"
   ]
  },
  {
   "cell_type": "code",
   "execution_count": null,
   "metadata": {},
   "outputs": [],
   "source": [
    "def plot_mesh(mesh, faces, angle=0):\n",
    "    \n",
    "  surf = pv.PolyData(mesh, faces)\n",
    "    \n",
    "  surf.rotate_z(angle)\n",
    "  plotter = pv.Plotter(notebook=True)\n",
    "  # kargs = {\"point_size\": 2, \"render_points_as_spheres\": True}\n",
    "    \n",
    "  # surf.plot() #, **kargs)\n",
    "  plotter.add_mesh(surf, show_edges=True)\n",
    "  plotter.show(interactive=True)\n",
    "\n",
    "  plotter.enable()"
   ]
  },
  {
   "cell_type": "code",
   "execution_count": null,
   "metadata": {},
   "outputs": [],
   "source": [
    "def f(id, angle):\n",
    "  \n",
    "  lv_epi_pv = pv.PolyData(epi[id], faces_epi)\n",
    "  lv_endo_pv = pv.PolyData(endo[id], faces_endo)\n",
    "\n",
    "  lv_epi_pv.rotate_z(angle)\n",
    "  lv_endo_pv.rotate_z(angle)\n",
    "  \n",
    "  plotter = pv.Plotter(notebook=False)\n",
    "          \n",
    "  # plotter.add_mesh(lv_epi_pv, opacity=0.8, scalars=wall_thickness['wall_thickness_epicardial'][id])\n",
    "  plotter.add_mesh(lv_epi_pv, opacity=1, scalars=corr.correlation[8:,(1,)])\n",
    "  plotter.add_mesh(lv_endo_pv, opacity=1)    \n",
    "  plotter.show(interactive=True)\n",
    "  plotter.enable()\n",
    "\n",
    "interact(f, \n",
    "  id = widgets.SelectionSlider(options=range(200)),\n",
    "  angle = widgets.SelectionSlider(options=range(360))\n",
    ")"
   ]
  },
  {
   "cell_type": "code",
   "execution_count": null,
   "metadata": {},
   "outputs": [],
   "source": [
    "def f():    \n",
    "    plotter = pv.Plotter(notebook=True)          \n",
    "    # plotter.add_mesh(LVRV_pv, opacity=0.8)#, scalars=wall_thickness['wall_thickness_epicardial'][id])\n",
    "    plotter.add_mesh(lv_epi_pv, opacity=1, scalars=corr.correlation[8:,(1,)])\n",
    "    plotter.add_mesh(lv_endo_pv, opacity=1)    \n",
    "    plotter.show(interactive=True)\n",
    "    plotter.enable()\n",
    "\n",
    "f()"
   ]
  }
 ],
 "metadata": {
  "kernelspec": {
   "display_name": "cardiac_motion",
   "language": "python",
   "name": "python3"
  },
  "language_info": {
   "codemirror_mode": {
    "name": "ipython",
    "version": 3
   },
   "file_extension": ".py",
   "mimetype": "text/x-python",
   "name": "python",
   "nbconvert_exporter": "python",
   "pygments_lexer": "ipython3",
   "version": "3.8.20"
  }
 },
 "nbformat": 4,
 "nbformat_minor": 4
}
