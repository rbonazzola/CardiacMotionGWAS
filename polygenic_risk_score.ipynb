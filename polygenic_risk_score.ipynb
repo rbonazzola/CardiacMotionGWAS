{
 "cells": [
  {
   "cell_type": "code",
   "execution_count": 35,
   "id": "d0f7e4d2-90fa-47ff-bbf5-88581c53e55d",
   "metadata": {},
   "outputs": [],
   "source": [
    "import numpy as np\n",
    "import pandas as pd\n",
    "from tqdm import tqdm\n",
    "# import pybgen\n",
    "from helpers import EnsembleResults\n",
    "from ICD10_codes_dict import ICD10_CODES"
   ]
  },
  {
   "cell_type": "code",
   "execution_count": 17,
   "id": "86f8e1c2-0602-41ba-8cbf-24d511d70c23",
   "metadata": {},
   "outputs": [],
   "source": [
    "class Repos:\n",
    "    \n",
    "    import os    \n",
    "    \n",
    "    GWAS = f\"{os.environ['HOME']}/01_repos/GWAS_pipeline/\"\n",
    "    CARDIAC = f\"{os.environ['HOME']}/01_repos/CardiacCOMA/\"\n",
    "    CARDIAC_MOTION = f\"{os.environ['HOME']}/01_repos/CardiacMotionRL\"\n",
    "    CARDIAC_GWAS = f\"{os.environ['HOME']}/01_repos/CardiacGWAS/\"\n",
    "    CARDIAC_MOTION_GWAS = f\"{os.environ['HOME']}/01_repos/CardiacMotionGWAS/\"\n",
    "    UKBB_HELPERS = f\"{os.environ['HOME']}/01_repos/UKBB_helpers\"\n",
    "    "
   ]
  },
  {
   "cell_type": "code",
   "execution_count": 3,
   "id": "c2b1750e-c3c8-4bdb-b4e9-9e0f59056f8e",
   "metadata": {},
   "outputs": [],
   "source": [
    "dosages_df = pd.read_csv(f\"{Repos.CARDIAC_MOTION_GWAS}/data/dosages.csv\").set_index(\"ID\")"
   ]
  },
  {
   "cell_type": "markdown",
   "id": "ee146767-88a8-4ed4-b553-86a72362a6bb",
   "metadata": {},
   "source": [
    "___"
   ]
  },
  {
   "cell_type": "markdown",
   "id": "cbd37c0d-acd9-48d9-84cd-de36ace6aa53",
   "metadata": {},
   "source": [
    "Load IDs for different diseases"
   ]
  },
  {
   "cell_type": "code",
   "execution_count": 25,
   "id": "6e2650b7-4c5d-4c5b-8a0f-cf1026211d8f",
   "metadata": {},
   "outputs": [],
   "source": [
    "import os\n",
    "import fileinput\n",
    "\n",
    "# Define the root directory you want to start from\n",
    "root_directory = f\"{Repos.UKBB_HELPERS}/data/subject_ids/icd_10\"\n",
    "\n",
    "# Use list comprehension to count lines for each file in each directory\n",
    "line_counts = {\n",
    "    os.path.join(root, file): sum(1 for _ in fileinput.input(os.path.join(root, file)))\n",
    "    for root, _, files in os.walk(root_directory)\n",
    "    for file in files\n",
    "}\n",
    "\n",
    "line_counts = { k:v for k,v in line_counts.items() if v > 5000 }"
   ]
  },
  {
   "cell_type": "code",
   "execution_count": 36,
   "id": "77b27d6c-78a7-4d9f-911f-455ab4c2ab85",
   "metadata": {},
   "outputs": [],
   "source": [
    "kk = { k.split(\"/\")[-1].replace(\".txt\", \"\"): v for k, v in line_counts.items() }\n",
    "kk = { ICD10_CODES[k]: v for k, v in kk.items() }\n",
    "\n",
    "ids_for_disease = { k.split(\"/\")[-1][:-4]: set([ id.strip() for id in open(k).readlines()]) for k in line_counts }"
   ]
  },
  {
   "cell_type": "code",
   "execution_count": 54,
   "id": "0e81eb92-9cc4-42f4-881c-de3812562d75",
   "metadata": {},
   "outputs": [],
   "source": [
    "all_diseased_ids = {element for value in ids_for_disease.values() for element in value}\n",
    "healthy = pd.Series(dosages_df.index).apply(lambda id: int(str(id) not in all_diseased_ids))\n",
    "healthy.index = dosages_df.index"
   ]
  },
  {
   "cell_type": "code",
   "execution_count": null,
   "id": "d58280ac-f31d-48d1-b4e4-543fcb2afc23",
   "metadata": {},
   "outputs": [],
   "source": [
    "healthy_ids = healthy[healthy == 1].index"
   ]
  },
  {
   "cell_type": "code",
   "execution_count": 169,
   "id": "45024cac-fc02-4e64-b6f3-eb8c3a24bb73",
   "metadata": {},
   "outputs": [],
   "source": [
    "import sklearn\n",
    "from sklearn.linear_model import LogisticRegression \n",
    "from sklearn.ensemble import AdaBoostClassifierRandomForestClassifier\n",
    "from sklearn.model_selection import train_test_split\n",
    "import ipywidgets as widgets"
   ]
  },
  {
   "cell_type": "code",
   "execution_count": 117,
   "id": "5e46b190-a124-496d-9447-357fb6eafd79",
   "metadata": {},
   "outputs": [],
   "source": [
    "from sklearn.metrics import roc_curve, roc_auc_score\n",
    "from sklearn.datasets import make_classification"
   ]
  },
  {
   "cell_type": "code",
   "execution_count": 294,
   "id": "2d2c47d3-9c18-477b-b2a1-1a2affe6b559",
   "metadata": {},
   "outputs": [
    {
     "data": {
      "application/vnd.jupyter.widget-view+json": {
       "model_id": "8cc9a3127b37468889e2d3a4ca88b585",
       "version_major": 2,
       "version_minor": 0
      },
      "text/plain": [
       "Select(options={'Pulmonary embolism without acute cor pulmonale': 'I269', 'Congestive heart failure': 'I500', …"
      ]
     },
     "metadata": {},
     "output_type": "display_data"
    }
   ],
   "source": [
    "disease_w = widgets.Select(options={v:k for k,v in ICD10_CODES.items() if k in ids_for_disease})\n",
    "disease_w"
   ]
  },
  {
   "cell_type": "code",
   "execution_count": 769,
   "id": "d09fb24b-0661-4a74-8833-841dc192070d",
   "metadata": {},
   "outputs": [
    {
     "data": {
      "text/plain": [
       "'I209'"
      ]
     },
     "execution_count": 769,
     "metadata": {},
     "output_type": "execute_result"
    }
   ],
   "source": [
    "disease_w.value"
   ]
  },
  {
   "cell_type": "code",
   "execution_count": 770,
   "id": "c96ece0d-7471-4e42-88c6-f0bba6597b2f",
   "metadata": {},
   "outputs": [],
   "source": [
    "dosage_ids = set(dosages_df.index)"
   ]
  },
  {
   "cell_type": "code",
   "execution_count": 771,
   "id": "9c04ca38-a93f-4f27-98c8-99d752da63b6",
   "metadata": {},
   "outputs": [],
   "source": [
    "case_ids = ids_for_disease[disease_w.value]\n",
    "control_ids = healthy_ids[:4*len(case_ids)]\n",
    "\n",
    "case_ids = [int(x) for x in case_ids]\n",
    "case_ids = [x for x in case_ids if x in dosage_ids]\n",
    "\n",
    "control_ids = [int(x) for x in control_ids]\n",
    "control_ids = [x for x in control_ids if x in dosage_ids]"
   ]
  },
  {
   "cell_type": "code",
   "execution_count": 772,
   "id": "4434a75f-fb6c-4258-af12-79c82bdf5dae",
   "metadata": {},
   "outputs": [
    {
     "name": "stderr",
     "output_type": "stream",
     "text": [
      "/tmp/ipykernel_243675/2087379438.py:4: FutureWarning: Passing a set as an indexer is deprecated and will raise in a future version. Use a list instead.\n",
      "  covariates_df = covariates_df.loc[intersec_ids]\n"
     ]
    }
   ],
   "source": [
    "covariates_df = pd.read_csv(\"/home/user/01_repos/UKBB_helpers/data/transforms/covariates.tsv\", sep=\"\\t\")\n",
    "covariates_df = covariates_df.set_index(\"FID\").drop(\"IID\", axis=1)\n",
    "intersec_ids = set(case_ids + control_ids).intersection(covariates_df.index)\n",
    "covariates_df = covariates_df.loc[intersec_ids]"
   ]
  },
  {
   "cell_type": "code",
   "execution_count": 773,
   "id": "0831e9d1-26c6-45dc-b50b-fe9867e0c3e4",
   "metadata": {},
   "outputs": [],
   "source": [
    "dosages = dosages_df.loc[case_ids+control_ids]\n",
    "labels = [1]*len(case_ids) + [0]*len(control_ids)\n",
    "dosages = dosages.fillna(dosages.mean())"
   ]
  },
  {
   "cell_type": "code",
   "execution_count": 774,
   "id": "fc1dc4a1-2ddf-48d3-8f4f-4f1b46e70212",
   "metadata": {},
   "outputs": [],
   "source": [
    "filter_bool = dosages.reset_index().ID.apply(lambda id: id in intersec_ids)\n",
    "filter_bool.index = dosages.index\n",
    "dosages = dosages.loc[filter_bool]\n",
    "labels = [l for i, l in enumerate(labels) if filter_bool.iloc[i]]"
   ]
  },
  {
   "cell_type": "code",
   "execution_count": 779,
   "id": "042ee143-2964-4382-9778-b3471cb54538",
   "metadata": {},
   "outputs": [
    {
     "data": {
      "image/png": "[encoded data removed]",
      "text/plain": [
       "<Figure size 800x600 with 1 Axes>"
      ]
     },
     "metadata": {},
     "output_type": "display_data"
    }
   ],
   "source": [
    "# X, y = pd.concat([dosages, covariates_df], axis=1), labels\n",
    "# X, y = pd.concat([dosages, covariates_df.iloc[:,[0,3,5]]], axis=1), labels\n",
    "X, y = covariates_df.loc[dosages.index], labels\n",
    "X_train, X_test, y_train, y_test = train_test_split(X, y)\n",
    "# model = LogisticRegression(penalty='l2', max_iter=1000) \n",
    "model = RandomForestClassifier(n_estimators = 20, max_depth = 5, max_features = 50, bootstrap = True, random_state = 18)\n",
    "model.fit(X_train, y_train)\n",
    "y_probs = model.predict_proba(X_test)[:, 1]\n",
    "fpr, tpr, thresholds = roc_curve(y_test, y_probs)\n",
    "roc_auc = roc_auc_score(y_test, y_probs)\n",
    "\n",
    "\n",
    "import matplotlib.pyplot as plt\n",
    "\n",
    "plt.figure(figsize=(8, 6))\n",
    "plt.plot(fpr, tpr, label=f'ROC curve (AUC = {roc_auc:.2f})')\n",
    "plt.plot([0, 1], [0, 1], 'k--', label='Random')\n",
    "plt.xlabel('False Positive Rate')\n",
    "plt.ylabel('True Positive Rate')\n",
    "plt.title('Receiver Operating Characteristic (ROC) Curve')\n",
    "plt.legend()\n",
    "plt.show()"
   ]
  },
  {
   "cell_type": "code",
   "execution_count": 778,
   "id": "7cf54267-608d-42b4-a4c6-1578e2794e35",
   "metadata": {},
   "outputs": [
    {
     "data": {
      "text/plain": [
       "array([0.14150416, 0.00669191, 0.07109796, 0.20150051, 0.04779508,\n",
       "       0.53141038])"
      ]
     },
     "execution_count": 778,
     "metadata": {},
     "output_type": "execute_result"
    }
   ],
   "source": [
    "model.feature_importances_"
   ]
  },
  {
   "cell_type": "code",
   "execution_count": null,
   "id": "2d264b95-f6fd-482f-8327-c4855f6c2ff9",
   "metadata": {},
   "outputs": [],
   "source": []
  },
  {
   "cell_type": "code",
   "execution_count": null,
   "id": "53ae9f38-782d-4b65-aee1-87e0117cf15d",
   "metadata": {},
   "outputs": [],
   "source": []
  },
  {
   "cell_type": "code",
   "execution_count": null,
   "id": "4f0a5c88-ced9-49f7-bdfd-c930293ceff7",
   "metadata": {},
   "outputs": [],
   "source": []
  },
  {
   "cell_type": "code",
   "execution_count": null,
   "id": "99155d8b-1aa8-4de2-81af-3ead9b0cd794",
   "metadata": {},
   "outputs": [],
   "source": []
  },
  {
   "cell_type": "code",
   "execution_count": null,
   "id": "b7c66cc0-e616-44cd-b18b-ffdc44ac7693",
   "metadata": {},
   "outputs": [],
   "source": []
  },
  {
   "cell_type": "code",
   "execution_count": null,
   "id": "cfb70db9-a28c-441f-8b51-91c02e0127c0",
   "metadata": {},
   "outputs": [],
   "source": []
  },
  {
   "cell_type": "code",
   "execution_count": null,
   "id": "71e9dde5-1f23-4878-85ba-1cd9fa2000a4",
   "metadata": {},
   "outputs": [],
   "source": []
  },
  {
   "cell_type": "code",
   "execution_count": null,
   "id": "40ebf1f4-3d91-4fa1-9395-552bcf0974d1",
   "metadata": {},
   "outputs": [],
   "source": []
  },
  {
   "cell_type": "code",
   "execution_count": null,
   "id": "2c547f92-8edd-4dbe-a311-103849f5950c",
   "metadata": {},
   "outputs": [],
   "source": []
  },
  {
   "cell_type": "code",
   "execution_count": null,
   "id": "2fd32221-e395-46b8-8ea1-ca422a8c7d35",
   "metadata": {},
   "outputs": [],
   "source": []
  },
  {
   "cell_type": "code",
   "execution_count": null,
   "id": "64e33950-03ac-4fae-9420-a470f31ebe1b",
   "metadata": {},
   "outputs": [],
   "source": []
  },
  {
   "cell_type": "code",
   "execution_count": null,
   "id": "d9dbc030-a5f3-42de-8bb3-698fb1a97e78",
   "metadata": {},
   "outputs": [],
   "source": []
  },
  {
   "cell_type": "code",
   "execution_count": null,
   "id": "55258691-1f22-4626-9326-f60067106e0b",
   "metadata": {},
   "outputs": [],
   "source": []
  },
  {
   "cell_type": "code",
   "execution_count": null,
   "id": "df6274a6-9a2b-4dac-b47b-31101b558287",
   "metadata": {},
   "outputs": [],
   "source": []
  },
  {
   "cell_type": "code",
   "execution_count": null,
   "id": "853e71ef-d5b3-4be6-8f19-e9573c87d45d",
   "metadata": {},
   "outputs": [],
   "source": []
  },
  {
   "cell_type": "code",
   "execution_count": null,
   "id": "f1b0cd4d-e821-4357-8c06-505fa3878b5d",
   "metadata": {},
   "outputs": [],
   "source": []
  },
  {
   "cell_type": "code",
   "execution_count": null,
   "id": "4f1d096f-ac59-4ac9-8fc6-196d7b51720c",
   "metadata": {},
   "outputs": [],
   "source": []
  },
  {
   "cell_type": "code",
   "execution_count": null,
   "id": "bc98fbdb-e70a-4a6e-ae18-ce44eb292d91",
   "metadata": {},
   "outputs": [],
   "source": []
  }
 ],
 "metadata": {
  "kernelspec": {
   "display_name": "Python 3 (ipykernel)",
   "language": "python",
   "name": "python3"
  },
  "language_info": {
   "codemirror_mode": {
    "name": "ipython",
    "version": 3
   },
   "file_extension": ".py",
   "mimetype": "text/x-python",
   "name": "python",
   "nbconvert_exporter": "python",
   "pygments_lexer": "ipython3",
   "version": "3.9.12"
  }
 },
 "nbformat": 4,
 "nbformat_minor": 5
}
