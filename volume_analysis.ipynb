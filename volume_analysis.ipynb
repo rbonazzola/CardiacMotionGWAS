{
 "cells": [
  {
   "cell_type": "code",
   "execution_count": 1,
   "id": "a368c3e4-aaf7-4d01-ab47-6eb35b603506",
   "metadata": {},
   "outputs": [],
   "source": [
    "import os\n",
    "import pandas as pd\n",
    "from typing import Dict\n",
    "\n",
    "import matplotlib.pyplot as plt\n",
    "from ipywidgets import interact\n",
    "import ipywidgets as widgets\n",
    "\n",
    "CARDIAC_COMA_REPO = f\"{os.environ['HOME']}/01_repos/CardiacCOMA\"\n",
    "\n",
    "def get_cardiac_indices():\n",
    "        \n",
    "    timeframes = [str(i).zfill(3) for i in range(1, 50+1)]\n",
    "    datafolder = f\"{CARDIAC_COMA_REPO}/data/cardio/cardiac_indices\"\n",
    "    \n",
    "    dfs = []\n",
    "    for timeframe in timeframes:        \n",
    "        df = pd.concat([\n",
    "          pd.read_csv(f\"{datafolder}/G{i}/LVRV_time{timeframe}.csv\", index_col=\"case_id\") \n",
    "          for i in range(1,5)\n",
    "        ])\n",
    "        df = df.assign(timeframe=timeframe)\n",
    "        dfs.append(df)\n",
    "        \n",
    "    df = pd.concat(dfs)\n",
    "    df = df.reset_index().set_index(['case_id', 'timeframe'])\n",
    "    \n",
    "    return df\n",
    "\n",
    "def get_end_systolic_timeframes() -> Dict:\n",
    "    \n",
    "    END_SYS_TIMEFRAMES = f\"{CARDIAC_COMA_REPO}/data/cardio/end_systole_timeframes.csv\"\n",
    "    \n",
    "    dd = [ (x.id, str(x.end_systole_index).zfill(3)) for i, x in pd.read_csv(END_SYS_TIMEFRAMES).iterrows() ]\n",
    "    \n",
    "    return dd\n",
    "\n",
    "\n",
    "def get_end_diastolic_timeframes() -> Dict:\n",
    "    \n",
    "    END_SYS_TIMEFRAMES = f\"{CARDIAC_COMA_REPO}/data/cardio/end_systole_timeframes.csv\"\n",
    "    \n",
    "    dd = [ (x.id, \"001\") for i, x in pd.read_csv(END_SYS_TIMEFRAMES).iterrows() ]\n",
    "    \n",
    "    return dd"
   ]
  },
  {
   "cell_type": "code",
   "execution_count": 2,
   "id": "ffdaa17a-dd40-4ee6-ac18-4dd3326ea66a",
   "metadata": {},
   "outputs": [],
   "source": [
    "volume_df = get_cardiac_indices()\n",
    "volume_df = volume_df.sort_index()"
   ]
  },
  {
   "cell_type": "code",
   "execution_count": 3,
   "id": "3f18100b-c5bc-4988-b5e1-04fcb704c263",
   "metadata": {},
   "outputs": [
    {
     "data": {
      "application/vnd.jupyter.widget-view+json": {
       "model_id": "44f6430f439b41df9462aea6eeedca33",
       "version_major": 2,
       "version_minor": 0
      },
      "text/plain": [
       "interactive(children=(Select(description='id', options=(1000215, 1000336, 1000363, 1000380, 1000407, 1000434, …"
      ]
     },
     "metadata": {},
     "output_type": "display_data"
    }
   ],
   "source": [
    "@interact\n",
    "def show_volume_curve(id=widgets.Select(options=volume_df.index.get_level_values(\"case_id\").unique()[:50])):\n",
    "    \n",
    "    kk = volume_df[volume_df.index.get_level_values(\"case_id\") == id].iloc[:,0]\n",
    "    plt.plot(kk.to_numpy());"
   ]
  },
  {
   "cell_type": "code",
   "execution_count": 4,
   "id": "1123de8c-f631-4dc6-9b30-95319fc44898",
   "metadata": {},
   "outputs": [],
   "source": [
    "region_assocs_df = pd.read_csv(\"/home/rodrigo/01_repos/CardiacMotionGWAS/results/all_associations_best_per_region.csv\")"
   ]
  },
  {
   "cell_type": "code",
   "execution_count": 5,
   "id": "a546a647-104d-414b-9773-070557461b4f",
   "metadata": {},
   "outputs": [],
   "source": [
    "exp_id = \"3\""
   ]
  },
  {
   "cell_type": "code",
   "execution_count": 6,
   "id": "49ba287a-d54c-4780-bf15-53260e933370",
   "metadata": {},
   "outputs": [],
   "source": [
    "def fetch_loci_mapping():\n",
    "    \n",
    "    import requests\n",
    "    from io import StringIO\n",
    "    # https://docs.google.com/spreadsheets/d/1LbILFyaTHeRPit8v3gwx2Db4uS1Hnx6dibeGHK9zXcU/edit?usp=sharing\n",
    "    # LINK = 'https://docs.google.com/spreadsheet/ccc?key=1LbILFyaTHeRPit8v3gwx2Db4uS1Hnx6dibeGHK9zXcU&output=csv'\n",
    "    LINK = 'https://docs.google.com/spreadsheet/ccc?key=1XvVDFZSvcWWyVaLaQuTpglOqrCGB6Kdf6c78JJxymYw&output=csv'\n",
    "    response = requests.get(LINK)\n",
    "    assert response.status_code == 200, 'Wrong status code'\n",
    "    loci_mapping_df = pd.read_csv(\n",
    "        StringIO(response.content.decode()),\n",
    "        sep=\",\"\n",
    "    ).set_index(\"region\")\n",
    "    \n",
    "    return loci_mapping_df"
   ]
  },
  {
   "cell_type": "code",
   "execution_count": 7,
   "id": "a7ff42e9-3f8a-485e-ba59-d98a75abfbcf",
   "metadata": {},
   "outputs": [],
   "source": [
    "loci_df = fetch_loci_mapping()"
   ]
  },
  {
   "cell_type": "code",
   "execution_count": 8,
   "id": "00540a9a-0e8f-4224-be0f-be548ce1c46b",
   "metadata": {},
   "outputs": [],
   "source": [
    "dynamic_loci = loci_df[~loci_df.only_dynamic.isnull()].index"
   ]
  },
  {
   "cell_type": "code",
   "execution_count": 9,
   "id": "eaf3763f-5e5e-4e79-a8f9-519505657bb3",
   "metadata": {},
   "outputs": [
    {
     "data": {
      "application/vnd.jupyter.widget-view+json": {
       "model_id": "aaa739b8e7d24787b97726ca52f1284d",
       "version_major": 2,
       "version_minor": 0
      },
      "text/plain": [
       "interactive(children=(Select(description='region', options=('chr1_5', 'chr1_107', 'chr1_118', 'chr3_28', 'chr3…"
      ]
     },
     "metadata": {},
     "output_type": "display_data"
    }
   ],
   "source": [
    "@interact\n",
    "def show_volume_curve(region=widgets.Select(options=dynamic_loci), which_extreme=widgets.Checkbox()):\n",
    "    \n",
    "    assocs_for_region = region_assocs_df[(region_assocs_df.region == region) & (region_assocs_df.expid == \"X3\")].sort_values(\"P\")\n",
    "    runid, zvar = assocs_for_region.run.iloc[0], assocs_for_region.pheno.iloc[0]\n",
    "    \n",
    "    MLFLOW_TRACKING_URI = f\"{os.environ['HOME']}/01_repos/CardiacMotion/mlruns/\"\n",
    "    z_df = pd.read_csv(f\"{MLFLOW_TRACKING_URI}/{exp_id}/{runid}/artifacts/latent_vector.csv\")\n",
    "    z_df = z_df.set_index(\"ID\")\n",
    "    z_df = z_df[zvar]\n",
    "    # print()\n",
    "    z_df = z_df.drop(set(ids_feos).intersection(z_df.index))\n",
    "    \n",
    "    ids_top = z_df[z_df > z_df.quantile(0.99)].index.to_list()\n",
    "    ids_bottom = z_df[z_df < z_df.quantile(0.01)].index.to_list()\n",
    "    \n",
    "    if which_extreme:\n",
    "        ids = set(ids_bottom).intersection(volume_df.index.get_level_values(\"case_id\"))\n",
    "    else:\n",
    "        ids = set(ids_top).intersection(volume_df.index.get_level_values(\"case_id\"))\n",
    "    \n",
    "    for id in list(ids)[:50]:        \n",
    "        kk = volume_df[volume_df.index.get_level_values(\"case_id\") == id].iloc[:,0]\n",
    "        if len(kk) != 50:\n",
    "            continue\n",
    "        plt.plot(kk.to_numpy()/kk.iloc[0]);"
   ]
  },
  {
   "cell_type": "code",
   "execution_count": 13,
   "id": "353f0f1d-a832-4c21-b256-6d2eab781f8d",
   "metadata": {},
   "outputs": [],
   "source": [
    "import numpy as np"
   ]
  },
  {
   "cell_type": "code",
   "execution_count": 18,
   "id": "80ba3aa5-b411-43ba-a81a-263e21fc7a46",
   "metadata": {},
   "outputs": [],
   "source": [
    "ids = [x[:7] for x in os.listdir(\"/home/rodrigo/01_repos/CardiacMotion/data/thicknesses/\")]"
   ]
  },
  {
   "cell_type": "code",
   "execution_count": 19,
   "id": "2dfdfa2d-4203-4dfb-aba9-4e1b50789d73",
   "metadata": {},
   "outputs": [
    {
     "data": {
      "text/plain": [
       "(50, 17)"
      ]
     },
     "execution_count": 19,
     "metadata": {},
     "output_type": "execute_result"
    }
   ],
   "source": [
    "np.load(\"/home/rodrigo/01_repos/CardiacMotion/data/thicknesses/1000215_thickness_per_aha.npy\")"
   ]
  },
  {
   "cell_type": "code",
   "execution_count": 46,
   "id": "036e8f25-e6ed-43db-99bc-bea6e577efae",
   "metadata": {},
   "outputs": [],
   "source": [
    "aha_thickness_lst = []\n",
    "for id in ids:\n",
    "    try:\n",
    "      aha_thickness = np.load(f\"/home/rodrigo/01_repos/CardiacMotion/data/thicknesses/{id}_thickness_per_aha.npy\")\n",
    "      aha_thickness = pd.DataFrame(aha_thickness).reset_index().rename({\"index\": \"timeframe\"}, axis=1).assign(subject_id=lambda x: id).set_index([\"subject_id\", \"timeframe\"])\n",
    "      aha_thickness_lst.append(aha_thickness)\n",
    "    except FileNotFoundError:\n",
    "        pass"
   ]
  },
  {
   "cell_type": "code",
   "execution_count": 47,
   "id": "5056d380-f4de-4b3e-89f5-de3213dce16f",
   "metadata": {},
   "outputs": [],
   "source": [
    "aha_thickness_df = pd.concat(aha_thickness_lst)"
   ]
  },
  {
   "cell_type": "code",
   "execution_count": 54,
   "id": "49db91d7-5a08-47c7-a387-29b903f6c0c8",
   "metadata": {},
   "outputs": [
    {
     "data": {
      "text/html": [
       "<div>\n",
       "<style scoped>\n",
       "    .dataframe tbody tr th:only-of-type {\n",
       "        vertical-align: middle;\n",
       "    }\n",
       "\n",
       "    .dataframe tbody tr th {\n",
       "        vertical-align: top;\n",
       "    }\n",
       "\n",
       "    .dataframe thead th {\n",
       "        text-align: right;\n",
       "    }\n",
       "</style>\n",
       "<table border=\"1\" class=\"dataframe\">\n",
       "  <thead>\n",
       "    <tr style=\"text-align: right;\">\n",
       "      <th></th>\n",
       "      <th></th>\n",
       "      <th>0</th>\n",
       "      <th>1</th>\n",
       "      <th>2</th>\n",
       "      <th>3</th>\n",
       "      <th>4</th>\n",
       "      <th>5</th>\n",
       "      <th>6</th>\n",
       "      <th>7</th>\n",
       "      <th>8</th>\n",
       "      <th>9</th>\n",
       "      <th>10</th>\n",
       "      <th>11</th>\n",
       "      <th>12</th>\n",
       "      <th>13</th>\n",
       "      <th>14</th>\n",
       "      <th>15</th>\n",
       "      <th>16</th>\n",
       "    </tr>\n",
       "    <tr>\n",
       "      <th>subject_id</th>\n",
       "      <th>timeframe</th>\n",
       "      <th></th>\n",
       "      <th></th>\n",
       "      <th></th>\n",
       "      <th></th>\n",
       "      <th></th>\n",
       "      <th></th>\n",
       "      <th></th>\n",
       "      <th></th>\n",
       "      <th></th>\n",
       "      <th></th>\n",
       "      <th></th>\n",
       "      <th></th>\n",
       "      <th></th>\n",
       "      <th></th>\n",
       "      <th></th>\n",
       "      <th></th>\n",
       "      <th></th>\n",
       "    </tr>\n",
       "  </thead>\n",
       "  <tbody>\n",
       "    <tr>\n",
       "      <th rowspan=\"5\" valign=\"top\">4305589</th>\n",
       "      <th>0</th>\n",
       "      <td>4.408707</td>\n",
       "      <td>5.438991</td>\n",
       "      <td>8.699946</td>\n",
       "      <td>7.293068</td>\n",
       "      <td>4.805453</td>\n",
       "      <td>6.093532</td>\n",
       "      <td>5.871246</td>\n",
       "      <td>4.729550</td>\n",
       "      <td>6.745433</td>\n",
       "      <td>8.318595</td>\n",
       "      <td>5.252271</td>\n",
       "      <td>6.557948</td>\n",
       "      <td>6.608489</td>\n",
       "      <td>6.003170</td>\n",
       "      <td>6.852224</td>\n",
       "      <td>6.570515</td>\n",
       "      <td>6.849149</td>\n",
       "    </tr>\n",
       "    <tr>\n",
       "      <th>1</th>\n",
       "      <td>4.299850</td>\n",
       "      <td>5.370710</td>\n",
       "      <td>8.821410</td>\n",
       "      <td>7.479640</td>\n",
       "      <td>4.696481</td>\n",
       "      <td>5.865532</td>\n",
       "      <td>5.677747</td>\n",
       "      <td>4.626704</td>\n",
       "      <td>6.669958</td>\n",
       "      <td>8.265118</td>\n",
       "      <td>5.033722</td>\n",
       "      <td>6.199977</td>\n",
       "      <td>6.473427</td>\n",
       "      <td>5.954152</td>\n",
       "      <td>6.574781</td>\n",
       "      <td>6.215128</td>\n",
       "      <td>6.607017</td>\n",
       "    </tr>\n",
       "    <tr>\n",
       "      <th>2</th>\n",
       "      <td>4.185653</td>\n",
       "      <td>5.260313</td>\n",
       "      <td>8.659714</td>\n",
       "      <td>7.411335</td>\n",
       "      <td>4.606374</td>\n",
       "      <td>5.709787</td>\n",
       "      <td>5.712825</td>\n",
       "      <td>4.566908</td>\n",
       "      <td>6.688507</td>\n",
       "      <td>8.259472</td>\n",
       "      <td>5.020565</td>\n",
       "      <td>6.261362</td>\n",
       "      <td>6.561679</td>\n",
       "      <td>6.113524</td>\n",
       "      <td>6.588739</td>\n",
       "      <td>6.208053</td>\n",
       "      <td>6.716912</td>\n",
       "    </tr>\n",
       "    <tr>\n",
       "      <th>3</th>\n",
       "      <td>4.311679</td>\n",
       "      <td>5.399271</td>\n",
       "      <td>8.566120</td>\n",
       "      <td>7.247109</td>\n",
       "      <td>4.773534</td>\n",
       "      <td>5.928116</td>\n",
       "      <td>5.899192</td>\n",
       "      <td>4.715051</td>\n",
       "      <td>6.801800</td>\n",
       "      <td>8.272139</td>\n",
       "      <td>5.190833</td>\n",
       "      <td>6.580440</td>\n",
       "      <td>6.720671</td>\n",
       "      <td>6.209472</td>\n",
       "      <td>6.800464</td>\n",
       "      <td>6.528518</td>\n",
       "      <td>6.945863</td>\n",
       "    </tr>\n",
       "    <tr>\n",
       "      <th>4</th>\n",
       "      <td>4.534400</td>\n",
       "      <td>5.689459</td>\n",
       "      <td>8.626673</td>\n",
       "      <td>7.271320</td>\n",
       "      <td>5.060733</td>\n",
       "      <td>6.214196</td>\n",
       "      <td>6.005643</td>\n",
       "      <td>4.783818</td>\n",
       "      <td>6.817751</td>\n",
       "      <td>8.378364</td>\n",
       "      <td>5.389844</td>\n",
       "      <td>6.830173</td>\n",
       "      <td>6.822239</td>\n",
       "      <td>6.110757</td>\n",
       "      <td>6.872331</td>\n",
       "      <td>6.755327</td>\n",
       "      <td>6.924328</td>\n",
       "    </tr>\n",
       "    <tr>\n",
       "      <th>...</th>\n",
       "      <th>...</th>\n",
       "      <td>...</td>\n",
       "      <td>...</td>\n",
       "      <td>...</td>\n",
       "      <td>...</td>\n",
       "      <td>...</td>\n",
       "      <td>...</td>\n",
       "      <td>...</td>\n",
       "      <td>...</td>\n",
       "      <td>...</td>\n",
       "      <td>...</td>\n",
       "      <td>...</td>\n",
       "      <td>...</td>\n",
       "      <td>...</td>\n",
       "      <td>...</td>\n",
       "      <td>...</td>\n",
       "      <td>...</td>\n",
       "      <td>...</td>\n",
       "    </tr>\n",
       "    <tr>\n",
       "      <th rowspan=\"5\" valign=\"top\">5733702</th>\n",
       "      <th>45</th>\n",
       "      <td>5.599268</td>\n",
       "      <td>6.528843</td>\n",
       "      <td>9.096674</td>\n",
       "      <td>7.552526</td>\n",
       "      <td>4.893432</td>\n",
       "      <td>6.700122</td>\n",
       "      <td>6.748923</td>\n",
       "      <td>5.108354</td>\n",
       "      <td>7.415311</td>\n",
       "      <td>9.160182</td>\n",
       "      <td>6.052199</td>\n",
       "      <td>7.843151</td>\n",
       "      <td>7.210152</td>\n",
       "      <td>7.068819</td>\n",
       "      <td>7.331299</td>\n",
       "      <td>7.152646</td>\n",
       "      <td>7.195482</td>\n",
       "    </tr>\n",
       "    <tr>\n",
       "      <th>46</th>\n",
       "      <td>5.551963</td>\n",
       "      <td>6.478180</td>\n",
       "      <td>8.907543</td>\n",
       "      <td>7.374985</td>\n",
       "      <td>4.865488</td>\n",
       "      <td>6.677384</td>\n",
       "      <td>6.734124</td>\n",
       "      <td>5.135115</td>\n",
       "      <td>7.328893</td>\n",
       "      <td>9.098469</td>\n",
       "      <td>6.005125</td>\n",
       "      <td>7.784189</td>\n",
       "      <td>7.268034</td>\n",
       "      <td>7.127250</td>\n",
       "      <td>7.376049</td>\n",
       "      <td>7.189196</td>\n",
       "      <td>7.331838</td>\n",
       "    </tr>\n",
       "    <tr>\n",
       "      <th>47</th>\n",
       "      <td>5.329280</td>\n",
       "      <td>6.220796</td>\n",
       "      <td>8.583465</td>\n",
       "      <td>7.197787</td>\n",
       "      <td>4.719181</td>\n",
       "      <td>6.499273</td>\n",
       "      <td>6.527290</td>\n",
       "      <td>4.994314</td>\n",
       "      <td>7.088156</td>\n",
       "      <td>8.934456</td>\n",
       "      <td>5.818436</td>\n",
       "      <td>7.513484</td>\n",
       "      <td>7.146656</td>\n",
       "      <td>7.018718</td>\n",
       "      <td>7.242469</td>\n",
       "      <td>7.023096</td>\n",
       "      <td>7.261381</td>\n",
       "    </tr>\n",
       "    <tr>\n",
       "      <th>48</th>\n",
       "      <td>5.206666</td>\n",
       "      <td>6.084897</td>\n",
       "      <td>8.369320</td>\n",
       "      <td>7.041084</td>\n",
       "      <td>4.628309</td>\n",
       "      <td>6.391046</td>\n",
       "      <td>6.376649</td>\n",
       "      <td>4.872652</td>\n",
       "      <td>6.970689</td>\n",
       "      <td>8.814599</td>\n",
       "      <td>5.697511</td>\n",
       "      <td>7.340452</td>\n",
       "      <td>6.985889</td>\n",
       "      <td>6.905425</td>\n",
       "      <td>7.172629</td>\n",
       "      <td>6.883384</td>\n",
       "      <td>7.139301</td>\n",
       "    </tr>\n",
       "    <tr>\n",
       "      <th>49</th>\n",
       "      <td>5.145636</td>\n",
       "      <td>6.070642</td>\n",
       "      <td>8.296981</td>\n",
       "      <td>6.974694</td>\n",
       "      <td>4.625704</td>\n",
       "      <td>6.345131</td>\n",
       "      <td>6.271651</td>\n",
       "      <td>4.811877</td>\n",
       "      <td>6.938661</td>\n",
       "      <td>8.758216</td>\n",
       "      <td>5.650101</td>\n",
       "      <td>7.240765</td>\n",
       "      <td>6.879594</td>\n",
       "      <td>6.796749</td>\n",
       "      <td>7.087104</td>\n",
       "      <td>6.775026</td>\n",
       "      <td>6.997472</td>\n",
       "    </tr>\n",
       "  </tbody>\n",
       "</table>\n",
       "<p>3000000 rows × 17 columns</p>\n",
       "</div>"
      ],
      "text/plain": [
       "                             0         1         2         3         4  \\\n",
       "subject_id timeframe                                                     \n",
       "4305589    0          4.408707  5.438991  8.699946  7.293068  4.805453   \n",
       "           1          4.299850  5.370710  8.821410  7.479640  4.696481   \n",
       "           2          4.185653  5.260313  8.659714  7.411335  4.606374   \n",
       "           3          4.311679  5.399271  8.566120  7.247109  4.773534   \n",
       "           4          4.534400  5.689459  8.626673  7.271320  5.060733   \n",
       "...                        ...       ...       ...       ...       ...   \n",
       "5733702    45         5.599268  6.528843  9.096674  7.552526  4.893432   \n",
       "           46         5.551963  6.478180  8.907543  7.374985  4.865488   \n",
       "           47         5.329280  6.220796  8.583465  7.197787  4.719181   \n",
       "           48         5.206666  6.084897  8.369320  7.041084  4.628309   \n",
       "           49         5.145636  6.070642  8.296981  6.974694  4.625704   \n",
       "\n",
       "                             5         6         7         8         9  \\\n",
       "subject_id timeframe                                                     \n",
       "4305589    0          6.093532  5.871246  4.729550  6.745433  8.318595   \n",
       "           1          5.865532  5.677747  4.626704  6.669958  8.265118   \n",
       "           2          5.709787  5.712825  4.566908  6.688507  8.259472   \n",
       "           3          5.928116  5.899192  4.715051  6.801800  8.272139   \n",
       "           4          6.214196  6.005643  4.783818  6.817751  8.378364   \n",
       "...                        ...       ...       ...       ...       ...   \n",
       "5733702    45         6.700122  6.748923  5.108354  7.415311  9.160182   \n",
       "           46         6.677384  6.734124  5.135115  7.328893  9.098469   \n",
       "           47         6.499273  6.527290  4.994314  7.088156  8.934456   \n",
       "           48         6.391046  6.376649  4.872652  6.970689  8.814599   \n",
       "           49         6.345131  6.271651  4.811877  6.938661  8.758216   \n",
       "\n",
       "                            10        11        12        13        14  \\\n",
       "subject_id timeframe                                                     \n",
       "4305589    0          5.252271  6.557948  6.608489  6.003170  6.852224   \n",
       "           1          5.033722  6.199977  6.473427  5.954152  6.574781   \n",
       "           2          5.020565  6.261362  6.561679  6.113524  6.588739   \n",
       "           3          5.190833  6.580440  6.720671  6.209472  6.800464   \n",
       "           4          5.389844  6.830173  6.822239  6.110757  6.872331   \n",
       "...                        ...       ...       ...       ...       ...   \n",
       "5733702    45         6.052199  7.843151  7.210152  7.068819  7.331299   \n",
       "           46         6.005125  7.784189  7.268034  7.127250  7.376049   \n",
       "           47         5.818436  7.513484  7.146656  7.018718  7.242469   \n",
       "           48         5.697511  7.340452  6.985889  6.905425  7.172629   \n",
       "           49         5.650101  7.240765  6.879594  6.796749  7.087104   \n",
       "\n",
       "                            15        16  \n",
       "subject_id timeframe                      \n",
       "4305589    0          6.570515  6.849149  \n",
       "           1          6.215128  6.607017  \n",
       "           2          6.208053  6.716912  \n",
       "           3          6.528518  6.945863  \n",
       "           4          6.755327  6.924328  \n",
       "...                        ...       ...  \n",
       "5733702    45         7.152646  7.195482  \n",
       "           46         7.189196  7.331838  \n",
       "           47         7.023096  7.261381  \n",
       "           48         6.883384  7.139301  \n",
       "           49         6.775026  6.997472  \n",
       "\n",
       "[3000000 rows x 17 columns]"
      ]
     },
     "execution_count": 54,
     "metadata": {},
     "output_type": "execute_result"
    }
   ],
   "source": [
    "aha_thickness_df."
   ]
  },
  {
   "cell_type": "code",
   "execution_count": 49,
   "id": "88c54d0b-e173-4763-a44a-ce4be183639f",
   "metadata": {},
   "outputs": [],
   "source": [
    "aha_thickness_df.to_csv(\"aha_thickness.csv\", index=True)"
   ]
  },
  {
   "cell_type": "code",
   "execution_count": 74,
   "id": "f3e97993-b049-4825-a5fe-9477528fd7e6",
   "metadata": {},
   "outputs": [
    {
     "data": {
      "text/plain": [
       "Index(['4305589', '4305589', '4305589', '4305589', '4305589', '4305589',\n",
       "       '4305589', '4305589', '4305589', '4305589',\n",
       "       ...\n",
       "       '5733702', '5733702', '5733702', '5733702', '5733702', '5733702',\n",
       "       '5733702', '5733702', '5733702', '5733702'],\n",
       "      dtype='object', name='subject_id', length=3000000)"
      ]
     },
     "execution_count": 74,
     "metadata": {},
     "output_type": "execute_result"
    }
   ],
   "source": [
    "aha_thickness_df.index.get_level_values(\"subject_id\") == "
   ]
  },
  {
   "cell_type": "code",
   "execution_count": 82,
   "id": "3295d294-8999-4e36-ad19-65874ac4f2b0",
   "metadata": {},
   "outputs": [
    {
     "data": {
      "application/vnd.jupyter.widget-view+json": {
       "model_id": "5f441ee0d4da45bda83b2c5ccb69973a",
       "version_major": 2,
       "version_minor": 0
      },
      "text/plain": [
       "interactive(children=(Select(description='region', options=('chr1_5', 'chr1_107', 'chr1_118', 'chr3_28', 'chr3…"
      ]
     },
     "metadata": {},
     "output_type": "display_data"
    }
   ],
   "source": [
    "@interact\n",
    "def show_thickness_curve(\n",
    "    region=widgets.Select(options=dynamic_loci), which_extreme=widgets.Checkbox(),\n",
    "    aha_segment=widgets.IntSlider(min=0, max=17)\n",
    "):\n",
    "    \n",
    "    assocs_for_region = region_assocs_df[(region_assocs_df.region == region) & (region_assocs_df.expid == \"X3\")].sort_values(\"P\")\n",
    "    runid, zvar = assocs_for_region.run.iloc[0], assocs_for_region.pheno.iloc[0]\n",
    "    \n",
    "    MLFLOW_TRACKING_URI = f\"{os.environ['HOME']}/01_repos/CardiacMotion/mlruns/\"\n",
    "    z_df = pd.read_csv(f\"{MLFLOW_TRACKING_URI}/{exp_id}/{runid}/artifacts/latent_vector.csv\")\n",
    "    z_df = z_df.set_index(\"ID\")\n",
    "    z_df = z_df[zvar]\n",
    "    # print()\n",
    "    z_df = z_df.drop(set(ids_feos).intersection(z_df.index))\n",
    "    \n",
    "    ids_top = z_df[z_df > z_df.quantile(0.99)].index.to_list()\n",
    "    ids_bottom = z_df[z_df < z_df.quantile(0.01)].index.to_list()\n",
    "    \n",
    "    if which_extreme:        \n",
    "        ids = set(ids_bottom).intersection(aha_thickness_df.index.get_level_values(\"subject_id\").unique().astype(int))\n",
    "    else:\n",
    "        ids = set(ids_top).intersection(aha_thickness_df.index.get_level_values(\"subject_id\").unique().astype(int))\n",
    "    \n",
    "    # volume_df[volume_df.index.get_level_values(\"case_id\") == id].iloc[:,0]\n",
    "    for id in list(ids)[:10]: \n",
    "        # print(aha_thickness_df.index.get_level_values(\"subject_id\") == str(id))\n",
    "        kk = aha_thickness_df[aha_thickness_df.index.get_level_values(\"subject_id\") == str(id)].iloc[:,aha_segment]\n",
    "        # print(kk)\n",
    "        if len(kk) != 50:\n",
    "            continue\n",
    "        plt.plot(kk.to_numpy()/kk.iloc[0]);\n",
    "        plt.ylim([0.9, 3])"
   ]
  },
  {
   "cell_type": "code",
   "execution_count": 11,
   "id": "a9825a11-ca03-47df-a60a-62d9ecc34c3d",
   "metadata": {},
   "outputs": [
    {
     "data": {
      "text/plain": [
       "Int64Index([1000590, 1000892, 1001629, 1003065, 1003814, 1005995, 1006929,\n",
       "            1007469, 1013023, 1013345,\n",
       "            ...\n",
       "            4986456, 4987449, 4987912, 4988345, 4988483, 4989669, 4989728,\n",
       "            4990164, 4992639, 4994894],\n",
       "           dtype='int64', name='case_id', length=3530)"
      ]
     },
     "execution_count": 11,
     "metadata": {},
     "output_type": "execute_result"
    }
   ],
   "source": [
    "normalized_vols = volume_df.groupby(\"case_id\").transform(lambda x: x/x.iloc[0])\n",
    "t_above_1 = (normalized_vols[\"LVEDV (mL)\"] > 1).groupby(\"case_id\").aggregate(sum)\n",
    "ids_feos = t_above_1[t_above_1 > 5].index\n",
    "ids_feos"
   ]
  },
  {
   "cell_type": "code",
   "execution_count": 21,
   "id": "84069777-dcda-4cd5-929d-db6b1757c015",
   "metadata": {},
   "outputs": [
    {
     "data": {
      "application/vnd.jupyter.widget-view+json": {
       "model_id": "ce8a3f737b584ee48582f7a20ab9880b",
       "version_major": 2,
       "version_minor": 0
      },
      "text/plain": [
       "interactive(children=(Select(description='id', options=(1017591, 1098773, 1165317, 1191279, 1328149, 1452949, …"
      ]
     },
     "metadata": {},
     "output_type": "display_data"
    }
   ],
   "source": [
    "@interact\n",
    "def show_volume_curve(id=widgets.Select(options=ids_feos)):\n",
    "    \n",
    "    kk = volume_df[volume_df.index.get_level_values(\"case_id\") == id].iloc[:,0]\n",
    "    plt.plot(kk.to_numpy());"
   ]
  }
 ],
 "metadata": {
  "kernelspec": {
   "display_name": "Python 3 (ipykernel)",
   "language": "python",
   "name": "python3"
  },
  "language_info": {
   "codemirror_mode": {
    "name": "ipython",
    "version": 3
   },
   "file_extension": ".py",
   "mimetype": "text/x-python",
   "name": "python",
   "nbconvert_exporter": "python",
   "pygments_lexer": "ipython3",
   "version": "3.9.12"
  }
 },
 "nbformat": 4,
 "nbformat_minor": 5
}
