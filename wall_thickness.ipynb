{
 "cells": [
  {
   "cell_type": "code",
   "execution_count": 2,
   "metadata": {},
   "outputs": [],
   "source": [
    "from paths import Paths"
   ]
  },
  {
   "cell_type": "code",
   "execution_count": 3,
   "metadata": {},
   "outputs": [],
   "source": [
    "import os\n",
    "from subprocess import check_output\n",
    "import shlex\n",
    "os.chdir(check_output(shlex.split(\"git rev-parse --show-toplevel\")).strip().decode('ascii'))"
   ]
  },
  {
   "cell_type": "code",
   "execution_count": 4,
   "metadata": {},
   "outputs": [],
   "source": [
    "import vtk\n",
    "import meshio\n",
    "import pandas as pd\n",
    "import pickle as pkl\n",
    "\n",
    "import ipywidgets as widgets\n",
    "from IPython.display import display\n",
    "from ipywidgets import interact, interactive, fixed, interact_manual\n",
    "\n",
    "import scipy\n",
    "from scipy.stats import spearmanr\n",
    "\n",
    "import pyvista as pv\n",
    "import numpy as np\n",
    "import matplotlib.pyplot as plt\n",
    "from utils.CardioMesh.CardiacMesh import Cardiac3DMesh as Mesh\n",
    "import matplotlib.pyplot as plt\n",
    "\n",
    "from tqdm import tqdm\n",
    "from scipy import sparse as sp"
   ]
  },
  {
   "cell_type": "code",
   "execution_count": 5,
   "metadata": {},
   "outputs": [],
   "source": [
    "EPI, ENDO = 1, 2\n",
    "\n",
    "AHA_FILENAME = f\"{Paths.Repos.CARDIOMESH}/data/LV_4396_vertices_with_aha_segments.vtk\"\n",
    "lv_aha_mesh = meshio.read(AHA_FILENAME)\n",
    "lv_aha_labels = lv_aha_mesh.point_data['subpartID'].astype(int)\n",
    "\n",
    "EPIENDO_FILENAME = f\"{Paths.Repos.CARDIOMESH}/data/LV_4396_vertices_with_epi_endo.vtk\"\n",
    "epiendo_mesh = meshio.read(EPIENDO_FILENAME)\n",
    "epi_endo_labels = epiendo_mesh.point_data['subpartID'].astype(int)"
   ]
  },
  {
   "cell_type": "markdown",
   "metadata": {},
   "source": [
    "___"
   ]
  },
  {
   "cell_type": "markdown",
   "metadata": {},
   "source": [
    "### Wall thickness"
   ]
  },
  {
   "cell_type": "markdown",
   "metadata": {},
   "source": [
    "For each point in the epicardial surface, find closest point in the endocardial surface."
   ]
  },
  {
   "cell_type": "code",
   "execution_count": 6,
   "metadata": {},
   "outputs": [
    {
     "data": {
      "application/vnd.jupyter.widget-view+json": {
       "model_id": "fa38f30d6b4a444f974f6c586834a42a",
       "version_major": 2,
       "version_minor": 0
      },
      "text/plain": [
       "interactive(children=(IntSlider(value=1, description='aha_index', max=17, min=1), Output()), _dom_classes=('wi…"
      ]
     },
     "metadata": {},
     "output_type": "display_data"
    }
   ],
   "source": [
    "@interact\n",
    "def count_vertices(aha_index=widgets.IntSlider(min=1, max=17)):\n",
    "    print (sum((epi_endo_labels == EPI) & (lv_aha_labels == aha_index)))    "
   ]
  },
  {
   "cell_type": "code",
   "execution_count": 7,
   "metadata": {},
   "outputs": [],
   "source": [
    "endo_indices = (epi_endo_labels == ENDO)\n",
    "epi_aha_indices = {i: (epi_endo_labels == EPI) & (lv_aha_labels == i) for i in range(1,18)}"
   ]
  },
  {
   "cell_type": "code",
   "execution_count": 9,
   "metadata": {
    "tags": []
   },
   "outputs": [],
   "source": [
    "subpart_df = pd.read_csv(f\"{Paths.Repos.CARDIOMESH}/data/subpartIDs_FHM_10pct.txt\", header=None)\n",
    "lv_indices = subpart_df == \"LV\"\n",
    "\n",
    "col_ind = lv_indices.index[lv_indices[0]].to_list()\n",
    "row_ind = list(range(len(col_ind)))\n",
    "    \n",
    "subsetting_mtx = sp.csc_matrix(\n",
    "    (np.ones(len(col_ind)), (row_ind, col_ind)), \n",
    "    shape=(len(col_ind), subpart_df.shape[0])\n",
    ")"
   ]
  },
  {
   "cell_type": "code",
   "execution_count": 10,
   "metadata": {},
   "outputs": [],
   "source": [
    "point_cloud_file = lambda id: f\"{Paths.Data.meshes_results}/{id}/models/FHM_res_0.1_time{timeframe}.npy\"\n",
    "\n",
    "def load_meshes(subject_id):\n",
    "       \n",
    "    lv_meshes = []\n",
    "    \n",
    "    for t in range(50):\n",
    "        \n",
    "        timeframe = str(t+1).zfill(3)\n",
    "        point_cloud =  np.load(point_cloud_file(subject_id))        \n",
    "        lv_mesh = subsetting_mtx * point_cloud\n",
    "        \n",
    "        lv_meshes.append(lv_mesh)\n",
    "        \n",
    "    return np.array(lv_meshes)"
   ]
  },
  {
   "cell_type": "code",
   "execution_count": null,
   "metadata": {},
   "outputs": [],
   "source": [
    "def compute_thickness_per_aha(meshes):\n",
    "    \n",
    "    mean_d_per_segment = []\n",
    "\n",
    "    lv_meshes = load_meshes(id)\n",
    "    \n",
    "    for t in range(50):\n",
    "    \n",
    "        mean_d_per_segment.append([])\n",
    "        lv_mesh = lv_meshes[t]\n",
    "        \n",
    "        for segment in range(1, 18):\n",
    "        \n",
    "            epi_aha_mesh = lv_mesh[epi_aha_indices[segment]]\n",
    "            endo_mesh = lv_mesh[endo_indices] # .unsqueeze(1).shape\n",
    "            \n",
    "            epi_aha_mesh_reshaped = epi_aha_mesh.reshape(epi_aha_mesh.shape[0], 1, 3)\n",
    "            endo_mesh_reshaped = endo_mesh.reshape(1, endo_mesh.shape[0], 3)\n",
    "            \n",
    "            distance_pairs = ((epi_aha_mesh_reshaped - endo_mesh_reshaped)**2).sum(2)\n",
    "            endo_closest = distance_pairs.argmin(axis=1)\n",
    "            \n",
    "            mean_d = np.sqrt(np.array(\n",
    "                [ distance_pairs[i, endo_closest[i]] for i in range(distance_pairs.shape[0]) ]\n",
    "            )).mean()\n",
    "            \n",
    "            mean_d_per_segment[t].append(mean_d)        \n",
    "            \n",
    "    return mean_d_per_segment"
   ]
  },
  {
   "cell_type": "code",
   "execution_count": null,
   "metadata": {
    "tags": []
   },
   "outputs": [],
   "source": [
    "%%timeit\n",
    "np.array(compute_thickness_per_aha(\"1000215\"))"
   ]
  },
  {
   "cell_type": "code",
   "execution_count": null,
   "metadata": {},
   "outputs": [],
   "source": [
    "import multiprocessing\n",
    "\n",
    "def worker_function(args):\n",
    "    \n",
    "    start, end = args\n",
    "    \n",
    "    for i in range(start, end):\n",
    "        id = ids[i]\n",
    "        NPY_FILE = f\"notebooks/thicknesses/{id}_thickness_per_aha.npy\"\n",
    "        # if os.path.exists(NPY_FILE):\n",
    "        #     continue\n",
    "        thickness = compute_thickness_per_aha(id)\n",
    "        np.save(NPY_FILE, thickness)\n",
    "        \n",
    "    # return dd\n",
    "\n",
    "\n",
    "def parallel_for_loop(num_cores, total_iterations):\n",
    "    \n",
    "    chunk_size = total_iterations // num_cores\n",
    "    pool = multiprocessing.Pool(processes=num_cores)\n",
    "    \n",
    "    # Split the loop into chunks and assign them to different processes\n",
    "    # results = \n",
    "    indices = [(i, i + chunk_size) for i in range(0, total_iterations, chunk_size)]\n",
    "    # print(indices)\n",
    "    pool.map(worker_function, indices)\n",
    "    \n",
    "    pool.close()\n",
    "    pool.join()\n",
    "\n",
    "    # return results\n",
    "    # Combine results from different processes\n",
    "    # final_result = sum(results)\n",
    "    \n",
    "    # return final_result\n"
   ]
  },
  {
   "cell_type": "code",
   "execution_count": 11,
   "metadata": {},
   "outputs": [],
   "source": [
    "all_ids = sorted(os.listdir(Paths.Data.meshes_results))"
   ]
  },
  {
   "cell_type": "code",
   "execution_count": null,
   "metadata": {
    "tags": []
   },
   "outputs": [],
   "source": [
    "TOTAL_ITERATIONS = 60000\n",
    "ids = [ \n",
    "    id for id in all_ids[:TOTAL_ITERATIONS] \n",
    "    if not os.path.exists(f\"notebooks/thicknesses/{id}_thickness_per_aha.npy\") \n",
    "]\n",
    "\n",
    "print(len(ids))\n",
    "\n",
    "NUM_CORES = 200 # multiprocessing.cpu_count()  # Use all available CPU cores\n",
    "parallel_for_loop(NUM_CORES, TOTAL_ITERATIONS)\n",
    "# result = parallel_for_loop(NUM_CORES, TOTAL_ITERATIONS)\n",
    "# print(\"Final result:\", result)"
   ]
  },
  {
   "cell_type": "code",
   "execution_count": null,
   "metadata": {},
   "outputs": [],
   "source": [
    "@interact\n",
    "def plot_thickness(id=widgets.Select(options=ids[:10]), aha_index=widgets.IntSlider(min=1, max=17, description=\"AHA segment\")):\n",
    "    t = np.load(f\"notebooks/thicknesses/{id}_thickness_per_aha.npy\")\n",
    "    plt.scatter(x=range(50), y=t[:, aha_index-1])"
   ]
  },
  {
   "cell_type": "code",
   "execution_count": null,
   "metadata": {},
   "outputs": [],
   "source": [
    "# count vertices per AHA segment \n",
    "# pd.Series(mesh.point_data['subpartID'].astype(int)).value_counts().sort_index()"
   ]
  },
  {
   "cell_type": "code",
   "execution_count": null,
   "metadata": {},
   "outputs": [],
   "source": [
    "wall_thickness = pkl.load(open(\"data/transforms/cached/wall_thickness.pkl\", \"rb\"))"
   ]
  },
  {
   "cell_type": "code",
   "execution_count": null,
   "metadata": {},
   "outputs": [],
   "source": [
    "wall_thickness[\"wall_thickness_epicardial\"].shape"
   ]
  },
  {
   "cell_type": "code",
   "execution_count": null,
   "metadata": {},
   "outputs": [],
   "source": [
    "normalized_wt = []\n",
    "for i, wt in enumerate(wall_thickness[\"wall_thickness_epicardial\"]):\n",
    "    cbrt_vol = wall_thickness[\"convex_hull_volumes\"][i]**(1./3)\n",
    "    normalized_wt.append(wt/cbrt_vol)\n",
    "normalized_wt = np.array(normalized_wt)"
   ]
  },
  {
   "cell_type": "code",
   "execution_count": null,
   "metadata": {},
   "outputs": [],
   "source": [
    "output_dir = \"output\"\n",
    "experiments = [x for x in os.listdir(output_dir) if os.path.exists(os.path.join(output_dir, x, \".finished\"))]\n",
    "\n",
    "w = widgets.Dropdown(\n",
    "    value=\"2020-09-11_02-13-41\",\n",
    "    options=experiments,\n",
    "    description='Experiment:',\n",
    "    disabled=False,\n",
    ")\n",
    "\n",
    "display(w)"
   ]
  },
  {
   "cell_type": "code",
   "execution_count": null,
   "metadata": {},
   "outputs": [],
   "source": [
    "dic = pkl.load(open(\"data/transforms/cached/2ch_segmentation__LV__ED__non_scaled__dic.pkl\", \"rb\"))"
   ]
  },
  {
   "cell_type": "code",
   "execution_count": null,
   "metadata": {},
   "outputs": [],
   "source": [
    "# Get indices of each subpartition (LV endo and epi)\n",
    "LVRV = Mesh(\"template/template.vtk\").extractSubpart([1,2])\n",
    "\n",
    "# Booleans indicating vertices that belong to each surface\n",
    "endo_j = (LVRV.subpartID == 1)\n",
    "epi_j = (LVRV.subpartID == 2)"
   ]
  },
  {
   "cell_type": "code",
   "execution_count": null,
   "metadata": {},
   "outputs": [],
   "source": [
    "faces = np.hstack([[3] + list(x) for x in LVRV.triangles])\n",
    "LVRV_pv = pv.PolyData(dic[\"mean\"], faces)"
   ]
  },
  {
   "cell_type": "code",
   "execution_count": null,
   "metadata": {},
   "outputs": [],
   "source": [
    "id = 2\n",
    "# prepending a 3 before each triangle (PyVista format for faces)\n",
    "faces_epi = np.hstack([[3] + list(x) for x in lv_epi.triangles])\n",
    "lv_epi_pv = pv.PolyData(LVRV.points[epi_j], faces_epi)\n",
    "\n",
    "faces_endo = np.hstack([[3] + list(x) for x in lv_endo.triangles])\n",
    "lv_endo_pv = pv.PolyData(endo[id], faces_endo)\n",
    "\n",
    "# lv_epi_pv.plot(scalars=wall_thickness[id])\n",
    "# lv_epi_pv.rotate_z(180)\n",
    "# lv_endo_pv.rotate_z(180)"
   ]
  },
  {
   "cell_type": "code",
   "execution_count": null,
   "metadata": {},
   "outputs": [],
   "source": [
    "corr = spearmanr(z, normalized_wt, axis=0)"
   ]
  },
  {
   "cell_type": "code",
   "execution_count": null,
   "metadata": {},
   "outputs": [],
   "source": [
    "def plot_mesh(mesh, faces, angle=0):\n",
    "    \n",
    "  surf = pv.PolyData(mesh, faces)\n",
    "    \n",
    "  surf.rotate_z(angle)\n",
    "  plotter = pv.Plotter(notebook=True)\n",
    "  # kargs = {\"point_size\": 2, \"render_points_as_spheres\": True}\n",
    "    \n",
    "  # surf.plot() #, **kargs)\n",
    "  plotter.add_mesh(surf, show_edges=True)\n",
    "  plotter.show(interactive=True)\n",
    "\n",
    "  plotter.enable()"
   ]
  },
  {
   "cell_type": "code",
   "execution_count": null,
   "metadata": {},
   "outputs": [],
   "source": [
    "def f(id, angle):\n",
    "  \n",
    "  lv_epi_pv = pv.PolyData(epi[id], faces_epi)\n",
    "  lv_endo_pv = pv.PolyData(endo[id], faces_endo)\n",
    "\n",
    "  lv_epi_pv.rotate_z(angle)\n",
    "  lv_endo_pv.rotate_z(angle)\n",
    "  \n",
    "  plotter = pv.Plotter(notebook=False)\n",
    "          \n",
    "  # plotter.add_mesh(lv_epi_pv, opacity=0.8, scalars=wall_thickness['wall_thickness_epicardial'][id])\n",
    "  plotter.add_mesh(lv_epi_pv, opacity=1, scalars=corr.correlation[8:,(1,)])\n",
    "  plotter.add_mesh(lv_endo_pv, opacity=1)    \n",
    "  plotter.show(interactive=True)\n",
    "  plotter.enable()\n",
    "\n",
    "interact(f, \n",
    "  id = widgets.SelectionSlider(options=range(200)),\n",
    "  angle = widgets.SelectionSlider(options=range(360))\n",
    ")"
   ]
  },
  {
   "cell_type": "code",
   "execution_count": null,
   "metadata": {},
   "outputs": [],
   "source": [
    "def f():    \n",
    "    plotter = pv.Plotter(notebook=True)          \n",
    "    # plotter.add_mesh(LVRV_pv, opacity=0.8)#, scalars=wall_thickness['wall_thickness_epicardial'][id])\n",
    "    plotter.add_mesh(lv_epi_pv, opacity=1, scalars=corr.correlation[8:,(1,)])\n",
    "    plotter.add_mesh(lv_endo_pv, opacity=1)    \n",
    "    plotter.show(interactive=True)\n",
    "    plotter.enable()\n",
    "\n",
    "f()"
   ]
  }
 ],
 "metadata": {
  "kernelspec": {
   "display_name": "Python 3 (ipykernel)",
   "language": "python",
   "name": "python3"
  },
  "language_info": {
   "codemirror_mode": {
    "name": "ipython",
    "version": 3
   },
   "file_extension": ".py",
   "mimetype": "text/x-python",
   "name": "python",
   "nbconvert_exporter": "python",
   "pygments_lexer": "ipython3",
   "version": "3.9.16"
  }
 },
 "nbformat": 4,
 "nbformat_minor": 4
}
